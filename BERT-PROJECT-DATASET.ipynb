{
  "cells": [
    {
      "cell_type": "markdown",
      "metadata": {
        "colab_type": "text",
        "id": "view-in-github"
      },
      "source": [
        "<a href=\"https://colab.research.google.com/github/LuluW8071/Text-Sentiment-Analysis/blob/main/Text-Sentiment-Analysis-using-BERT.ipynb\" target=\"_parent\"><img src=\"https://colab.research.google.com/assets/colab-badge.svg\" alt=\"Open In Colab\"/></a>"
      ]
    },
    {
      "cell_type": "markdown",
      "metadata": {
        "id": "fMxocdwKAhgv"
      },
      "source": [
        "# Text-Sentiment-Analysis-using-BERT"
      ]
    },
    {
      "cell_type": "code",
      "execution_count": 1,
      "metadata": {
        "colab": {
          "base_uri": "https://localhost:8080/"
        },
        "id": "VFlkWVYFy-QA",
        "outputId": "bc11f971-81ed-4e5d-a2fd-5224ce686fe9"
      },
      "outputs": [
        {
          "name": "stdout",
          "output_type": "stream",
          "text": [
            "Requirement already satisfied: datasets in c:\\users\\mk473\\appdata\\local\\programs\\python\\python310\\lib\\site-packages (3.0.1)\n",
            "Requirement already satisfied: evaluate in c:\\users\\mk473\\appdata\\local\\programs\\python\\python310\\lib\\site-packages (0.4.3)\n",
            "Requirement already satisfied: seaborn in c:\\users\\mk473\\appdata\\local\\programs\\python\\python310\\lib\\site-packages (0.13.2)\n",
            "Requirement already satisfied: transformers[torch] in c:\\users\\mk473\\appdata\\local\\programs\\python\\python310\\lib\\site-packages (4.36.2)\n",
            "Requirement already satisfied: filelock in c:\\users\\mk473\\appdata\\local\\programs\\python\\python310\\lib\\site-packages (from transformers[torch]) (3.13.1)\n",
            "Requirement already satisfied: huggingface-hub<1.0,>=0.19.3 in c:\\users\\mk473\\appdata\\local\\programs\\python\\python310\\lib\\site-packages (from transformers[torch]) (0.23.2)\n",
            "Requirement already satisfied: numpy>=1.17 in c:\\users\\mk473\\appdata\\local\\programs\\python\\python310\\lib\\site-packages (from transformers[torch]) (1.26.2)\n",
            "Requirement already satisfied: packaging>=20.0 in c:\\users\\mk473\\appdata\\local\\programs\\python\\python310\\lib\\site-packages (from transformers[torch]) (23.2)\n",
            "Requirement already satisfied: pyyaml>=5.1 in c:\\users\\mk473\\appdata\\local\\programs\\python\\python310\\lib\\site-packages (from transformers[torch]) (6.0.1)\n",
            "Requirement already satisfied: regex!=2019.12.17 in c:\\users\\mk473\\appdata\\local\\programs\\python\\python310\\lib\\site-packages (from transformers[torch]) (2023.12.25)\n",
            "Requirement already satisfied: requests in c:\\users\\mk473\\appdata\\local\\programs\\python\\python310\\lib\\site-packages (from transformers[torch]) (2.32.3)\n",
            "Requirement already satisfied: tokenizers<0.19,>=0.14 in c:\\users\\mk473\\appdata\\local\\programs\\python\\python310\\lib\\site-packages (from transformers[torch]) (0.15.0)\n",
            "Requirement already satisfied: safetensors>=0.3.1 in c:\\users\\mk473\\appdata\\local\\programs\\python\\python310\\lib\\site-packages (from transformers[torch]) (0.4.1)\n",
            "Requirement already satisfied: tqdm>=4.27 in c:\\users\\mk473\\appdata\\local\\programs\\python\\python310\\lib\\site-packages (from transformers[torch]) (4.66.5)\n",
            "Requirement already satisfied: torch!=1.12.0,>=1.10 in c:\\users\\mk473\\appdata\\local\\programs\\python\\python310\\lib\\site-packages (from transformers[torch]) (2.1.2+cu118)\n",
            "Requirement already satisfied: accelerate>=0.21.0 in c:\\users\\mk473\\appdata\\local\\programs\\python\\python310\\lib\\site-packages (from transformers[torch]) (0.25.0)\n",
            "Requirement already satisfied: pyarrow>=15.0.0 in c:\\users\\mk473\\appdata\\local\\programs\\python\\python310\\lib\\site-packages (from datasets) (17.0.0)\n",
            "Requirement already satisfied: dill<0.3.9,>=0.3.0 in c:\\users\\mk473\\appdata\\local\\programs\\python\\python310\\lib\\site-packages (from datasets) (0.3.8)\n",
            "Requirement already satisfied: pandas in c:\\users\\mk473\\appdata\\local\\programs\\python\\python310\\lib\\site-packages (from datasets) (2.2.3)\n",
            "Requirement already satisfied: xxhash in c:\\users\\mk473\\appdata\\local\\programs\\python\\python310\\lib\\site-packages (from datasets) (3.5.0)\n",
            "Requirement already satisfied: multiprocess in c:\\users\\mk473\\appdata\\local\\programs\\python\\python310\\lib\\site-packages (from datasets) (0.70.16)\n",
            "Requirement already satisfied: fsspec<=2024.6.1,>=2023.1.0 in c:\\users\\mk473\\appdata\\local\\programs\\python\\python310\\lib\\site-packages (from fsspec[http]<=2024.6.1,>=2023.1.0->datasets) (2023.12.2)\n",
            "Requirement already satisfied: aiohttp in c:\\users\\mk473\\appdata\\local\\programs\\python\\python310\\lib\\site-packages (from datasets) (3.9.5)\n",
            "Requirement already satisfied: matplotlib!=3.6.1,>=3.4 in c:\\users\\mk473\\appdata\\local\\programs\\python\\python310\\lib\\site-packages (from seaborn) (3.8.2)\n",
            "Requirement already satisfied: psutil in c:\\users\\mk473\\appdata\\local\\programs\\python\\python310\\lib\\site-packages (from accelerate>=0.21.0->transformers[torch]) (6.0.0)\n",
            "Requirement already satisfied: aiosignal>=1.1.2 in c:\\users\\mk473\\appdata\\local\\programs\\python\\python310\\lib\\site-packages (from aiohttp->datasets) (1.3.1)\n",
            "Requirement already satisfied: attrs>=17.3.0 in c:\\users\\mk473\\appdata\\local\\programs\\python\\python310\\lib\\site-packages (from aiohttp->datasets) (23.2.0)\n",
            "Requirement already satisfied: frozenlist>=1.1.1 in c:\\users\\mk473\\appdata\\local\\programs\\python\\python310\\lib\\site-packages (from aiohttp->datasets) (1.4.1)\n",
            "Requirement already satisfied: multidict<7.0,>=4.5 in c:\\users\\mk473\\appdata\\local\\programs\\python\\python310\\lib\\site-packages (from aiohttp->datasets) (6.0.5)\n",
            "Requirement already satisfied: yarl<2.0,>=1.0 in c:\\users\\mk473\\appdata\\local\\programs\\python\\python310\\lib\\site-packages (from aiohttp->datasets) (1.9.4)\n",
            "Requirement already satisfied: async-timeout<5.0,>=4.0 in c:\\users\\mk473\\appdata\\local\\programs\\python\\python310\\lib\\site-packages (from aiohttp->datasets) (4.0.3)\n",
            "Requirement already satisfied: typing-extensions>=3.7.4.3 in c:\\users\\mk473\\appdata\\local\\programs\\python\\python310\\lib\\site-packages (from huggingface-hub<1.0,>=0.19.3->transformers[torch]) (4.9.0)\n",
            "Requirement already satisfied: contourpy>=1.0.1 in c:\\users\\mk473\\appdata\\local\\programs\\python\\python310\\lib\\site-packages (from matplotlib!=3.6.1,>=3.4->seaborn) (1.2.0)\n",
            "Requirement already satisfied: cycler>=0.10 in c:\\users\\mk473\\appdata\\local\\programs\\python\\python310\\lib\\site-packages (from matplotlib!=3.6.1,>=3.4->seaborn) (0.12.1)\n",
            "Requirement already satisfied: fonttools>=4.22.0 in c:\\users\\mk473\\appdata\\local\\programs\\python\\python310\\lib\\site-packages (from matplotlib!=3.6.1,>=3.4->seaborn) (4.47.2)\n",
            "Requirement already satisfied: kiwisolver>=1.3.1 in c:\\users\\mk473\\appdata\\local\\programs\\python\\python310\\lib\\site-packages (from matplotlib!=3.6.1,>=3.4->seaborn) (1.4.5)\n",
            "Requirement already satisfied: pillow>=8 in c:\\users\\mk473\\appdata\\local\\programs\\python\\python310\\lib\\site-packages (from matplotlib!=3.6.1,>=3.4->seaborn) (10.1.0)\n",
            "Requirement already satisfied: pyparsing>=2.3.1 in c:\\users\\mk473\\appdata\\local\\programs\\python\\python310\\lib\\site-packages (from matplotlib!=3.6.1,>=3.4->seaborn) (3.1.1)\n",
            "Requirement already satisfied: python-dateutil>=2.7 in c:\\users\\mk473\\appdata\\roaming\\python\\python310\\site-packages (from matplotlib!=3.6.1,>=3.4->seaborn) (2.9.0.post0)\n",
            "Requirement already satisfied: pytz>=2020.1 in c:\\users\\mk473\\appdata\\local\\programs\\python\\python310\\lib\\site-packages (from pandas->datasets) (2024.1)\n",
            "Requirement already satisfied: tzdata>=2022.7 in c:\\users\\mk473\\appdata\\local\\programs\\python\\python310\\lib\\site-packages (from pandas->datasets) (2024.2)\n",
            "Requirement already satisfied: charset-normalizer<4,>=2 in c:\\users\\mk473\\appdata\\local\\programs\\python\\python310\\lib\\site-packages (from requests->transformers[torch]) (3.3.2)\n",
            "Requirement already satisfied: idna<4,>=2.5 in c:\\users\\mk473\\appdata\\local\\programs\\python\\python310\\lib\\site-packages (from requests->transformers[torch]) (3.6)\n",
            "Requirement already satisfied: urllib3<3,>=1.21.1 in c:\\users\\mk473\\appdata\\local\\programs\\python\\python310\\lib\\site-packages (from requests->transformers[torch]) (1.26.19)\n",
            "Requirement already satisfied: certifi>=2017.4.17 in c:\\users\\mk473\\appdata\\local\\programs\\python\\python310\\lib\\site-packages (from requests->transformers[torch]) (2023.11.17)\n",
            "Requirement already satisfied: sympy in c:\\users\\mk473\\appdata\\local\\programs\\python\\python310\\lib\\site-packages (from torch!=1.12.0,>=1.10->transformers[torch]) (1.12)\n",
            "Requirement already satisfied: networkx in c:\\users\\mk473\\appdata\\local\\programs\\python\\python310\\lib\\site-packages (from torch!=1.12.0,>=1.10->transformers[torch]) (3.2.1)\n",
            "Requirement already satisfied: jinja2 in c:\\users\\mk473\\appdata\\local\\programs\\python\\python310\\lib\\site-packages (from torch!=1.12.0,>=1.10->transformers[torch]) (3.1.2)\n",
            "Requirement already satisfied: colorama in c:\\users\\mk473\\appdata\\local\\programs\\python\\python310\\lib\\site-packages (from tqdm>=4.27->transformers[torch]) (0.4.6)\n",
            "Requirement already satisfied: six>=1.5 in c:\\users\\mk473\\appdata\\local\\programs\\python\\python310\\lib\\site-packages (from python-dateutil>=2.7->matplotlib!=3.6.1,>=3.4->seaborn) (1.16.0)\n",
            "Requirement already satisfied: MarkupSafe>=2.0 in c:\\users\\mk473\\appdata\\local\\programs\\python\\python310\\lib\\site-packages (from jinja2->torch!=1.12.0,>=1.10->transformers[torch]) (2.1.3)\n",
            "Requirement already satisfied: mpmath>=0.19 in c:\\users\\mk473\\appdata\\local\\programs\\python\\python310\\lib\\site-packages (from sympy->torch!=1.12.0,>=1.10->transformers[torch]) (1.3.0)\n"
          ]
        },
        {
          "name": "stderr",
          "output_type": "stream",
          "text": [
            "\n",
            "[notice] A new release of pip is available: 24.0 -> 24.2\n",
            "[notice] To update, run: python.exe -m pip install --upgrade pip\n"
          ]
        }
      ],
      "source": [
        "!pip install transformers[torch] datasets evaluate seaborn"
      ]
    },
    {
      "cell_type": "markdown",
      "metadata": {
        "id": "39k-BncjiZtY"
      },
      "source": [
        "## 1. Load the dataset"
      ]
    },
    {
      "cell_type": "code",
      "execution_count": 2,
      "metadata": {
        "colab": {
          "base_uri": "https://localhost:8080/"
        },
        "id": "twsVt1DPihlH",
        "outputId": "ac7f0b63-752c-4765-a2c0-a50a7737b8c5"
      },
      "outputs": [
        {
          "data": {
            "text/plain": [
              "(                                                text language     label\n",
              " 0  just when i said i lost the capacity for surpr...       en  negative\n",
              " 1  What motivates you today? Do your motivators c...       en  positive\n",
              " 2  @asmalley54 @fosgoodwood @PorscheGB @PorscheRa...       en  positive\n",
              " 3  SOUNDS SO GOOD THIS MIGHT BE MY NEW FAV JJ SON...       en   neutral\n",
              " 4  @HN_Schlottman A lot of accidental fires and e...       en  positive,\n",
              " (20000, 3),\n",
              " language\n",
              " en    18584\n",
              " fr      267\n",
              " es      237\n",
              " pt      209\n",
              " ja      173\n",
              " Name: count, dtype: int64,\n",
              " label\n",
              " neutral     8828\n",
              " positive    5648\n",
              " negative    5524\n",
              " Name: count, dtype: int64)"
            ]
          },
          "execution_count": 2,
          "metadata": {},
          "output_type": "execute_result"
        }
      ],
      "source": [
        "import random\n",
        "import pandas as pd\n",
        "import numpy as np\n",
        "\n",
        "sentiment_to_int = {\n",
        "\t\"positive\": 2,\n",
        "\t\"neutral\": 1,\n",
        "\t\"negative\": 0\n",
        "}\n",
        "\n",
        "int_to_sentiment = {v: k for k, v in sentiment_to_int.items()}\n",
        "\n",
        "# Reduce to 10000 samples if you want your model to train faster (while loss may increase)\n",
        "samples = 20000\n",
        "\n",
        "# Read dataset and take random 20000 samples\n",
        "df = pd.read_csv(\"dataset.csv\")\n",
        "df = df.sample(n=samples, random_state=random.randint(0, 100))\n",
        "\n",
        "# Reset the index\n",
        "df.reset_index(drop=True, inplace=True)\n",
        "df.head(), df.shape, df[\"language\"].value_counts()[:5],df[\"label\"].value_counts()"
      ]
    },
    {
      "cell_type": "code",
      "execution_count": 3,
      "metadata": {
        "colab": {
          "base_uri": "https://localhost:8080/",
          "height": 89
        },
        "id": "xHyN1x6Pih5u",
        "outputId": "57dc6965-42aa-4424-ae4b-6fa49528486a"
      },
      "outputs": [
        {
          "data": {
            "text/plain": [
              "'just when i said i lost the capacity for surprise https://t.co/YpvPM0J0qS'"
            ]
          },
          "execution_count": 3,
          "metadata": {},
          "output_type": "execute_result"
        }
      ],
      "source": [
        "df['text'][0]"
      ]
    },
    {
      "cell_type": "code",
      "execution_count": 4,
      "metadata": {
        "colab": {
          "base_uri": "https://localhost:8080/"
        },
        "id": "SsFTo9aWi62B",
        "outputId": "865bbc98-0d63-40ce-f589-3d70fcbcd36b"
      },
      "outputs": [
        {
          "data": {
            "text/plain": [
              "label\n",
              "neutral     8828\n",
              "positive    5648\n",
              "negative    5524\n",
              "Name: count, dtype: int64"
            ]
          },
          "execution_count": 4,
          "metadata": {},
          "output_type": "execute_result"
        }
      ],
      "source": [
        "df['label'].value_counts()"
      ]
    },
    {
      "cell_type": "markdown",
      "metadata": {
        "id": "bnkgCW7L1w_h"
      },
      "source": [
        "## 2. Text Pre-Processing"
      ]
    },
    {
      "cell_type": "code",
      "execution_count": 5,
      "metadata": {
        "colab": {
          "base_uri": "https://localhost:8080/"
        },
        "id": "RQ6ShoeAlpPv",
        "outputId": "fdaa6521-3f5e-47b9-a266-9603f2e69415"
      },
      "outputs": [],
      "source": [
        "import re\n",
        "\n",
        "# Precompile regular expressions for faster pre processing\n",
        "non_word_chars_pattern = re.compile(r\"[^\\w\\s]\")\n",
        "whitespace_pattern = re.compile(r\"\\s+\")\n",
        "digits_pattern = re.compile(r\"\\d\")\n",
        "username_pattern = re.compile(r\"@([^\\s]+)\")\n",
        "hashtags_pattern = re.compile(r\"#\\d+\")\n",
        "br_pattern = re.compile(r'<br\\s*/?>\\s*<br\\s*/?>')\n",
        "\n",
        "def preprocess_string(s):\n",
        "    # Remove all non-word characters (everything except numbers and letters)\n",
        "    s = non_word_chars_pattern.sub('', s)\n",
        "    # Replace all runs of whitespaces with single space\n",
        "    s = whitespace_pattern.sub(' ', s)\n",
        "    # Replace digits with no space\n",
        "    s = digits_pattern.sub('', s)\n",
        "    # Replace usernames with no space\n",
        "    s = username_pattern.sub('', s)\n",
        "    # Replace hashtags with no space\n",
        "    s = hashtags_pattern.sub('', s)\n",
        "    # Replace <br /> pattern with empty string\n",
        "    s = br_pattern.sub('', s)\n",
        "    # Replace specific characters\n",
        "    s = s.replace(\"https\", \"\")\n",
        "    s = s.replace(\"http\", \"\")\n",
        "    s = s.replace(\"rt\", \"\")\n",
        "    s = s.replace(\"-\", \"\")\n",
        "    # Replace br with empty string\n",
        "    s = s.replace(\"br\", \"\")\n",
        "    # Replace newline character with empty string\n",
        "    s = s.replace(\"\\n\", \"\")\n",
        "    return s"
      ]
    },
    {
      "cell_type": "code",
      "execution_count": 6,
      "metadata": {
        "colab": {
          "base_uri": "https://localhost:8080/",
          "height": 49,
          "referenced_widgets": [
            "7904667e67424983aeacfdf6fceab2a3",
            "5e12365361ab4641a7ba003c86d77586",
            "5db308d5b97f44c48fbedbbf0dbbf97e",
            "8496b3a8f89b420bbd64ba2f7e6fa6f5",
            "4c01bea3d08d4d7b956752b43697c996",
            "68b672b53c8a4a1097f47c2a850ce1a0",
            "12f37aede6d249dd817b16db3b12b099",
            "f7794110d28344d8b713c63aa5ec0e21",
            "6090c48a151a42d5a4daa26662177e7c",
            "fc46c0fc11814ef9bb9045d2dad97234",
            "79887438173e4ad4a55a46e735ec569c"
          ]
        },
        "id": "DyEsn8Lml9PH",
        "outputId": "85cdb938-581e-457e-e341-f575c908f6fb"
      },
      "outputs": [
        {
          "data": {
            "application/vnd.jupyter.widget-view+json": {
              "model_id": "e0eead2485ff44a19f78e9f8a6b0581d",
              "version_major": 2,
              "version_minor": 0
            },
            "text/plain": [
              "Preprocessing:   0%|          | 0/20000 [00:00<?, ?it/s]"
            ]
          },
          "metadata": {},
          "output_type": "display_data"
        }
      ],
      "source": [
        "from tqdm.notebook import tqdm_notebook\n",
        "\n",
        "preprocessed_texts = []\n",
        "\n",
        "# Apply preprocessing\n",
        "for text in tqdm_notebook(df['text'], desc='Preprocessing'):\n",
        "    preprocessed_text = preprocess_string(text)\n",
        "    preprocessed_texts.append(preprocessed_text)\n",
        "\n",
        "# Assign the preprocessed reviews back to  'text' column\n",
        "df['text'] = preprocessed_texts"
      ]
    },
    {
      "cell_type": "code",
      "execution_count": 7,
      "metadata": {
        "colab": {
          "base_uri": "https://localhost:8080/"
        },
        "id": "-lwgaucZnAkh",
        "outputId": "9910669d-b29e-42fa-b557-6a37f4d3f8ea"
      },
      "outputs": [
        {
          "data": {
            "text/plain": [
              "('just when i said i lost the capacity for surprise tcoYpvPMJqS', 'negative')"
            ]
          },
          "execution_count": 7,
          "metadata": {},
          "output_type": "execute_result"
        }
      ],
      "source": [
        "df['text'][0], df['label'][0]"
      ]
    },
    {
      "cell_type": "markdown",
      "metadata": {
        "id": "BR6tc-oT2Hc1"
      },
      "source": [
        "## 3. Mapping `label` column to numeric values"
      ]
    },
    {
      "cell_type": "code",
      "execution_count": 8,
      "metadata": {
        "colab": {
          "base_uri": "https://localhost:8080/",
          "height": 206
        },
        "id": "vNoB1qL86oPG",
        "outputId": "115f1c9b-11c0-4424-aa2d-86fea5b595c8"
      },
      "outputs": [
        {
          "name": "stderr",
          "output_type": "stream",
          "text": [
            "C:\\Users\\mk473\\AppData\\Local\\Temp\\ipykernel_8400\\2400672919.py:1: FutureWarning: Downcasting behavior in `replace` is deprecated and will be removed in a future version. To retain the old behavior, explicitly call `result.infer_objects(copy=False)`. To opt-in to the future behavior, set `pd.set_option('future.no_silent_downcasting', True)`\n",
            "  df['label'] = df['label'].replace(sentiment_to_int)\n"
          ]
        },
        {
          "data": {
            "text/html": [
              "<div>\n",
              "<style scoped>\n",
              "    .dataframe tbody tr th:only-of-type {\n",
              "        vertical-align: middle;\n",
              "    }\n",
              "\n",
              "    .dataframe tbody tr th {\n",
              "        vertical-align: top;\n",
              "    }\n",
              "\n",
              "    .dataframe thead th {\n",
              "        text-align: right;\n",
              "    }\n",
              "</style>\n",
              "<table border=\"1\" class=\"dataframe\">\n",
              "  <thead>\n",
              "    <tr style=\"text-align: right;\">\n",
              "      <th></th>\n",
              "      <th>text</th>\n",
              "      <th>language</th>\n",
              "      <th>label</th>\n",
              "    </tr>\n",
              "  </thead>\n",
              "  <tbody>\n",
              "    <tr>\n",
              "      <th>0</th>\n",
              "      <td>just when i said i lost the capacity for surpr...</td>\n",
              "      <td>en</td>\n",
              "      <td>0</td>\n",
              "    </tr>\n",
              "    <tr>\n",
              "      <th>1</th>\n",
              "      <td>What motivates you today Do your motivators ch...</td>\n",
              "      <td>en</td>\n",
              "      <td>2</td>\n",
              "    </tr>\n",
              "    <tr>\n",
              "      <th>2</th>\n",
              "      <td>asmalley fosgoodwood PorscheGB PorscheRacesGB ...</td>\n",
              "      <td>en</td>\n",
              "      <td>2</td>\n",
              "    </tr>\n",
              "    <tr>\n",
              "      <th>3</th>\n",
              "      <td>SOUNDS SO GOOD THIS MIGHT BE MY NEW FAV JJ SON...</td>\n",
              "      <td>en</td>\n",
              "      <td>1</td>\n",
              "    </tr>\n",
              "    <tr>\n",
              "      <th>4</th>\n",
              "      <td>HN_Schlottman A lot of accidental fires and ex...</td>\n",
              "      <td>en</td>\n",
              "      <td>2</td>\n",
              "    </tr>\n",
              "  </tbody>\n",
              "</table>\n",
              "</div>"
            ],
            "text/plain": [
              "                                                text language  label\n",
              "0  just when i said i lost the capacity for surpr...       en      0\n",
              "1  What motivates you today Do your motivators ch...       en      2\n",
              "2  asmalley fosgoodwood PorscheGB PorscheRacesGB ...       en      2\n",
              "3  SOUNDS SO GOOD THIS MIGHT BE MY NEW FAV JJ SON...       en      1\n",
              "4  HN_Schlottman A lot of accidental fires and ex...       en      2"
            ]
          },
          "execution_count": 8,
          "metadata": {},
          "output_type": "execute_result"
        }
      ],
      "source": [
        "df['label'] = df['label'].replace(sentiment_to_int)\n",
        "df.head()"
      ]
    },
    {
      "cell_type": "markdown",
      "metadata": {
        "id": "9XS665rf2t-9"
      },
      "source": [
        "## 4. Splitting datasets into train and test"
      ]
    },
    {
      "cell_type": "code",
      "execution_count": 9,
      "metadata": {
        "colab": {
          "base_uri": "https://localhost:8080/"
        },
        "id": "xE28r9W8jFXc",
        "outputId": "04cdb615-93a7-4d78-8b87-fbcccb718c33"
      },
      "outputs": [
        {
          "data": {
            "text/plain": [
              "(16000, 4000)"
            ]
          },
          "execution_count": 9,
          "metadata": {},
          "output_type": "execute_result"
        }
      ],
      "source": [
        "from sklearn.model_selection import train_test_split\n",
        "\n",
        "X_train, X_test, y_train, y_test = train_test_split(df['text'],\n",
        "                                                    df['label'],\n",
        "                                                    test_size=0.2)\n",
        "\n",
        "len(X_train), len(X_test)"
      ]
    },
    {
      "cell_type": "code",
      "execution_count": 10,
      "metadata": {
        "colab": {
          "base_uri": "https://localhost:8080/"
        },
        "id": "arUMIRZDqr5T",
        "outputId": "8e6e6d00-536d-42da-dfe0-963f990a8abd"
      },
      "outputs": [
        {
          "data": {
            "text/plain": [
              "(['Pride Month is almost over but we still have some celeating left to do Tomorrow and Thursday we will be suppoing the legends at transgendervic TGV do incredible work for our community and its such a blessing to be able to give back to them tcokWoKZabL',\n",
              "  'it was like a dream but realityAşkÇokYakın tcorWixNqt'],\n",
              " [2, 2])"
            ]
          },
          "execution_count": 10,
          "metadata": {},
          "output_type": "execute_result"
        }
      ],
      "source": [
        "X_train, X_test, y_train, y_test = list(X_train), list(X_test), list(y_train), list(y_test)\n",
        "X_train[:2], y_train[:2]"
      ]
    },
    {
      "cell_type": "markdown",
      "metadata": {
        "id": "QyrxW-2T20rI"
      },
      "source": [
        "## 5. Preparing data using custom dataloader"
      ]
    },
    {
      "cell_type": "code",
      "execution_count": 11,
      "metadata": {
        "colab": {
          "base_uri": "https://localhost:8080/"
        },
        "id": "sS4L0KVorOIx",
        "outputId": "100cbb56-db5c-4ccf-d2ed-713b178b10cd"
      },
      "outputs": [
        {
          "name": "stdout",
          "output_type": "stream",
          "text": [
            "cuda\n"
          ]
        }
      ],
      "source": [
        "import torch\n",
        "import torch.nn.functional as F\n",
        "from torch.utils.data import Dataset\n",
        "from transformers import DistilBertTokenizerFast, DistilBertForSequenceClassification\n",
        "from transformers import Trainer, TrainingArguments\n",
        "\n",
        "# Setting device agnostic code\n",
        "device = 'cuda' if torch.cuda.is_available() else 'cpu'\n",
        "print(device)"
      ]
    },
    {
      "cell_type": "code",
      "execution_count": 12,
      "metadata": {
        "id": "dN_U6_-OtG9V"
      },
      "outputs": [],
      "source": [
        "class data(Dataset):\n",
        "  def __init__(self, encodings, labels):\n",
        "    self.encodings = encodings\n",
        "    self.labels = labels\n",
        "\n",
        "  def __getitem__(self, index):\n",
        "    item = {key: torch.tensor(val[index]) for key, val in self.encodings.items()}\n",
        "    item['labels'] = torch.tensor(self.labels[index])\n",
        "    return item\n",
        "\n",
        "  def __len__(self):\n",
        "    return len(self.labels)"
      ]
    },
    {
      "cell_type": "markdown",
      "metadata": {
        "id": "jIqMd4Kx7h9D"
      },
      "source": [
        "## 6. Load PreTrained BERT Model\n",
        "\n",
        "**BERT** (Bidirectional Encoder Representations from Transformers) is a pre-trained language representation model developed by researchers at Google.\n",
        "\n",
        "<img src = \"https://i0.wp.com/neptune.ai/wp-content/uploads/2022/10/Attention_diagram_transformer.png?ssl=1\">\n",
        "\n",
        "- BERT architecture consists of `multiple encoder transformer blocks` stacked together.\n",
        "- Each transformer block includes` multi-head self-attention` and `feed-forward neural networks`.\n",
        "- `Multi-head self-attention` allows BERT to weigh word importance based on context, capturing long-range dependencies effectively.\n",
        "- The output from `attention mechanisms` undergoes non-linear transformations via `feed-forward neural networks`.\n",
        "- `Layer normalization` and `residual connections` stabilize training and facilitate gradient flow within each transformer block.\n",
        "- `Positional encodings` preserve word order in sequences, aiding BERT in understanding the sequential nature of data.\n",
        "\n",
        ">BERT is pre-trained on a large text corpus using tasks like masked language modeling and next sentence prediction. Fine-tuning on specific tasks involves adjusting the final layers of the pre-trained BERT model.\n",
        "\n",
        "### [Explanation Video on BERT](https://www.youtube.com/watch?v=6ahxPTLZxU8)"
      ]
    },
    {
      "cell_type": "code",
      "execution_count": 13,
      "metadata": {
        "colab": {
          "base_uri": "https://localhost:8080/",
          "height": 145,
          "referenced_widgets": [
            "923e1b7fbd8b49bdabcd4f00f714be14",
            "b809d01b8cd344d98f2273b3ae8f7ffb",
            "6360e06ae7e74b89ad45dd1bb4413342",
            "1421f131fe17439898b48f87cfa26b52",
            "730e7bfb278a433bac4fedce9538cf0d",
            "0cb660d95a9b46ed9ea2689b3b828508",
            "b6caf3716cd4411cb727f34683958bf6",
            "2480db893d3b43379c2aff68f421eb07",
            "e8fd4b2f11b749ca9ef44d94353e13f0",
            "3bc4f28421f8430d8640f292e94d8c64",
            "96edc1fed27340c692bf75fd4fc9c5d2",
            "ee83043d95cc4bee83a14456fbd7c01c",
            "ed42110cf0cf47f3aff0853d0452e7d8",
            "a5c25ef7145d4a819569b30c10b3db22",
            "be723d54691348868cff55a8ba046eab",
            "3242d629683242bfbc5777a2b904dd70",
            "657bc2cc2cb744c4a1f72488b58d53b0",
            "35e38db3a6e74956ae22f6e6b3d594a3",
            "e800a5dc461b465c98814786c7b9d42b",
            "90cea132a5114445922194fa5aea05d1",
            "9f025708b4034c879c0a4249378fadc3",
            "f03f81ec0bc44602be760ff2f548a5fd",
            "038710f43d7a48dc8660458c680b35fb",
            "368cc160a1bb43b7b11f7991b2d55d5a",
            "94bc6056062746bc8b1cfbfa3292a241",
            "6fe80fdd065148a2b8f6eebf0862123a",
            "680bcce08dd645f9badcfd5a9f53dc4f",
            "1d5d3e06619c4084b41ab120e8476c6d",
            "f701050853814fff9c33373ab92deb43",
            "2a4847e7a62f46b0b2afd22f9c1a0a4c",
            "7b0317bfb8d742a09a3aa2c0ebb9773c",
            "b848fa1f848348079650e1897429c3fa"
          ]
        },
        "id": "6WY3qWTAxh1u",
        "outputId": "24259200-a1da-4a6c-f106-4582baa801f2"
      },
      "outputs": [
        {
          "data": {
            "application/vnd.jupyter.widget-view+json": {
              "model_id": "3e254ea9ccf14c5f89c67b3a0e5f8091",
              "version_major": 2,
              "version_minor": 0
            },
            "text/plain": [
              "VBox(children=(HTML(value='<center> <img\\nsrc=https://huggingface.co/front/assets/huggingface_logo-noborder.sv…"
            ]
          },
          "metadata": {},
          "output_type": "display_data"
        }
      ],
      "source": [
        "from huggingface_hub import notebook_login\n",
        "\n",
        "# Paste hugging face token with write permission enabled and log in\n",
        "notebook_login()"
      ]
    },
    {
      "cell_type": "code",
      "execution_count": 14,
      "metadata": {
        "colab": {
          "base_uri": "https://localhost:8080/"
        },
        "id": "M3pUE51Ttyvp",
        "outputId": "f8683f9d-2e89-4c13-8eb5-f311fd46e181"
      },
      "outputs": [
        {
          "name": "stderr",
          "output_type": "stream",
          "text": [
            "c:\\Users\\mk473\\AppData\\Local\\Programs\\Python\\Python310\\lib\\site-packages\\huggingface_hub\\file_download.py:1132: FutureWarning: `resume_download` is deprecated and will be removed in version 1.0.0. Downloads always resume when possible. If you want to force a new download, use `force_download=True`.\n",
            "  warnings.warn(\n"
          ]
        }
      ],
      "source": [
        "model_name = 'distilbert-base-uncased'\n",
        "tokenizer = DistilBertTokenizerFast.from_pretrained(model_name)"
      ]
    },
    {
      "cell_type": "markdown",
      "metadata": {
        "id": "wFFYOaeg--PW"
      },
      "source": [
        "## 7. Tokenize and Create Encoded Dataset"
      ]
    },
    {
      "cell_type": "code",
      "execution_count": 15,
      "metadata": {
        "id": "6d1E4UWit4PW"
      },
      "outputs": [],
      "source": [
        "from transformers import DataCollatorWithPadding\n",
        "\n",
        "data_collator = DataCollatorWithPadding(tokenizer)\n",
        "\n",
        "# Tokenize with truncation and padding and create dataset from tokenized data\n",
        "train_encoding = tokenizer(X_train, truncation=True, padding=True)\n",
        "test_encoding = tokenizer(X_test, truncation=True, padding=True)\n",
        "\n",
        "train_dataset = data(train_encoding, y_train)\n",
        "test_dataset = data(test_encoding, y_test)"
      ]
    },
    {
      "cell_type": "markdown",
      "metadata": {
        "id": "Zu7-BCBH-wis"
      },
      "source": [
        "## 8. Fine-Tuning Distil BERT\n",
        "\n",
        "Fine-tuning BERT, a pre-trained language model, allows us to adapt it to specific NLP tasks such as text classification, named entity recognition, sentiment analysis, and question answering.\n",
        "\n",
        "\n",
        "<img src = \"https://raw.githubusercontent.com/LuluW8071/Text-Sentiment-Analysis/dfa065d8169ae9d26460114e612118f5628d7dd3//assets/BERT-Fine-tuning-pipeline.png\">"
      ]
    },
    {
      "cell_type": "code",
      "execution_count": 16,
      "metadata": {
        "id": "x4qy_mL05NVG"
      },
      "outputs": [],
      "source": [
        "batch_size = 2\n",
        "\n",
        "training_args = TrainingArguments(\n",
        "    output_dir=f\"{model_name}-{samples}-samples\",\n",
        "    num_train_epochs=1,                              # No of epochs to train\n",
        "    per_device_train_batch_size=batch_size,          # Batch size for training per device\n",
        "    per_device_eval_batch_size=batch_size,           # Batch size for evaluation per device\n",
        "    learning_rate=2e-5,                              # Learning rate for optimizer\n",
        "    warmup_steps=400,                                # No of warmup steps for the learning rate scheduler\n",
        "    weight_decay=0.01,                               # Weight decay coefficient for regularization\n",
        "    logging_dir='./logs',                            # Directory for logging training information\n",
        "    load_best_model_at_end=True,                     # Whether to load the best model from checkpoints at the end of training\n",
        "    logging_steps=400,                               # Log training metrics every `logging_steps` steps\n",
        "    save_steps=400,                                  # Save model checkpoints every `save_steps` steps\n",
        "    save_total_limit=2,                              # Save no of checkpoints\n",
        "    evaluation_strategy = \"steps\",                   # When to run evaluation during training: steps, epochs or none\n",
        "    fp16=True,                                       # Floating point 16 precision\n",
        "    push_to_hub=False,                               # Save checkpoint in Hugging Face Hub\n",
        "    report_to=\"tensorboard\",                         # Enable TensorBoard integration\n",
        ")\n"
      ]
    },
    {
      "cell_type": "markdown",
      "metadata": {
        "id": "nlH5U0ImAMFJ"
      },
      "source": [
        "## 9. Train the Fine-Tuned BERT Model"
      ]
    },
    {
      "cell_type": "code",
      "execution_count": 17,
      "metadata": {
        "id": "0n4eNRbo39LN"
      },
      "outputs": [],
      "source": [
        "from evaluate import load\n",
        "\n",
        "accuracy_metric = load(\"accuracy\")\n",
        "\n",
        "# Compute_metrics function\n",
        "def compute_metrics(eval_pred):\n",
        "    logits, labels = eval_pred\n",
        "    predictions = np.argmax(logits, axis=-1)\n",
        "    accuracy = accuracy_metric.compute(predictions=predictions, references=labels)\n",
        "    return accuracy"
      ]
    },
    {
      "cell_type": "code",
      "execution_count": 18,
      "metadata": {
        "colab": {
          "base_uri": "https://localhost:8080/"
        },
        "id": "QaN-z2lExThi",
        "outputId": "05ed24c8-d387-456b-b27b-0b8046ee9234"
      },
      "outputs": [
        {
          "name": "stderr",
          "output_type": "stream",
          "text": [
            "Some weights of DistilBertForSequenceClassification were not initialized from the model checkpoint at distilbert-base-uncased and are newly initialized: ['pre_classifier.weight', 'pre_classifier.bias', 'classifier.bias', 'classifier.weight']\n",
            "You should probably TRAIN this model on a down-stream task to be able to use it for predictions and inference.\n"
          ]
        }
      ],
      "source": [
        "model = DistilBertForSequenceClassification.from_pretrained(model_name,\n",
        "                                                            num_labels=len(sentiment_to_int))\n",
        "\n",
        "# Override the model configuration for custom labels\n",
        "model.config.id2label = int_to_sentiment\n",
        "model.config.label2id = sentiment_to_int\n",
        "\n",
        "\n",
        "trainer = Trainer(\n",
        "    model=model,                      # The instantiated Transformers model to be trained\n",
        "    args=training_args,               # Training arguments, defined above\n",
        "    train_dataset=train_dataset,      # Training dataset\n",
        "    eval_dataset=test_dataset,        # Evaluation dataset\n",
        "    tokenizer=tokenizer,              # Tokenizer\n",
        "    data_collator=data_collator,      # Data collator\n",
        "    compute_metrics=compute_metrics,  # Function to compute metrics\n",
        ")"
      ]
    },
    {
      "cell_type": "code",
      "execution_count": 19,
      "metadata": {
        "colab": {
          "base_uri": "https://localhost:8080/",
          "height": 422
        },
        "id": "H1KmmxIQyXK_",
        "outputId": "dfe4bf31-ce16-4c6f-8aeb-a54dc5a9338b"
      },
      "outputs": [
        {
          "data": {
            "application/vnd.jupyter.widget-view+json": {
              "model_id": "2bab708967c146a9aa8a58efe2761684",
              "version_major": 2,
              "version_minor": 0
            },
            "text/plain": [
              "  0%|          | 0/8000 [00:00<?, ?it/s]"
            ]
          },
          "metadata": {},
          "output_type": "display_data"
        },
        {
          "name": "stderr",
          "output_type": "stream",
          "text": [
            "You're using a DistilBertTokenizerFast tokenizer. Please note that with a fast tokenizer, using the `__call__` method is faster than using a method to encode the text followed by a call to the `pad` method to get a padded encoding.\n"
          ]
        },
        {
          "name": "stdout",
          "output_type": "stream",
          "text": [
            "{'loss': 1.0619, 'learning_rate': 1.9900000000000003e-05, 'epoch': 0.05}\n"
          ]
        },
        {
          "data": {
            "application/vnd.jupyter.widget-view+json": {
              "model_id": "b3ce7beff7c3435fa4a2ca1cd21fbacb",
              "version_major": 2,
              "version_minor": 0
            },
            "text/plain": [
              "  0%|          | 0/2000 [00:00<?, ?it/s]"
            ]
          },
          "metadata": {},
          "output_type": "display_data"
        },
        {
          "name": "stdout",
          "output_type": "stream",
          "text": [
            "{'eval_loss': 0.9647082686424255, 'eval_accuracy': 0.5615, 'eval_runtime': 22.4773, 'eval_samples_per_second': 177.958, 'eval_steps_per_second': 88.979, 'epoch': 0.05}\n",
            "{'loss': 0.6546, 'learning_rate': 1.8960526315789475e-05, 'epoch': 0.1}\n"
          ]
        },
        {
          "data": {
            "application/vnd.jupyter.widget-view+json": {
              "model_id": "f605c894b789415c896cd11303a0fbf1",
              "version_major": 2,
              "version_minor": 0
            },
            "text/plain": [
              "  0%|          | 0/2000 [00:00<?, ?it/s]"
            ]
          },
          "metadata": {},
          "output_type": "display_data"
        },
        {
          "name": "stdout",
          "output_type": "stream",
          "text": [
            "{'eval_loss': 0.5321686863899231, 'eval_accuracy': 0.87625, 'eval_runtime': 21.6348, 'eval_samples_per_second': 184.888, 'eval_steps_per_second': 92.444, 'epoch': 0.1}\n",
            "{'loss': 0.3464, 'learning_rate': 1.7907894736842108e-05, 'epoch': 0.15}\n"
          ]
        },
        {
          "data": {
            "application/vnd.jupyter.widget-view+json": {
              "model_id": "f75754d48bc741829b27e08853344c69",
              "version_major": 2,
              "version_minor": 0
            },
            "text/plain": [
              "  0%|          | 0/2000 [00:00<?, ?it/s]"
            ]
          },
          "metadata": {},
          "output_type": "display_data"
        },
        {
          "name": "stdout",
          "output_type": "stream",
          "text": [
            "{'eval_loss': 0.3496152460575104, 'eval_accuracy': 0.9305, 'eval_runtime': 21.4459, 'eval_samples_per_second': 186.516, 'eval_steps_per_second': 93.258, 'epoch': 0.15}\n",
            "{'loss': 0.3545, 'learning_rate': 1.6857894736842106e-05, 'epoch': 0.2}\n"
          ]
        },
        {
          "data": {
            "application/vnd.jupyter.widget-view+json": {
              "model_id": "9ab3768c078d46cb9c99a725f26c01e3",
              "version_major": 2,
              "version_minor": 0
            },
            "text/plain": [
              "  0%|          | 0/2000 [00:00<?, ?it/s]"
            ]
          },
          "metadata": {},
          "output_type": "display_data"
        },
        {
          "name": "stdout",
          "output_type": "stream",
          "text": [
            "{'eval_loss': 0.24478687345981598, 'eval_accuracy': 0.94825, 'eval_runtime': 21.461, 'eval_samples_per_second': 186.384, 'eval_steps_per_second': 93.192, 'epoch': 0.2}\n",
            "{'loss': 0.2259, 'learning_rate': 1.580526315789474e-05, 'epoch': 0.25}\n"
          ]
        },
        {
          "data": {
            "application/vnd.jupyter.widget-view+json": {
              "model_id": "4d35e7b8876744ca9fab2257b22f6d36",
              "version_major": 2,
              "version_minor": 0
            },
            "text/plain": [
              "  0%|          | 0/2000 [00:00<?, ?it/s]"
            ]
          },
          "metadata": {},
          "output_type": "display_data"
        },
        {
          "name": "stdout",
          "output_type": "stream",
          "text": [
            "{'eval_loss': 0.2376069575548172, 'eval_accuracy': 0.95175, 'eval_runtime': 21.0933, 'eval_samples_per_second': 189.633, 'eval_steps_per_second': 94.817, 'epoch': 0.25}\n",
            "{'loss': 0.2344, 'learning_rate': 1.475263157894737e-05, 'epoch': 0.3}\n"
          ]
        },
        {
          "data": {
            "application/vnd.jupyter.widget-view+json": {
              "model_id": "d2f7105d7fe943589a4656c13d3d07bf",
              "version_major": 2,
              "version_minor": 0
            },
            "text/plain": [
              "  0%|          | 0/2000 [00:00<?, ?it/s]"
            ]
          },
          "metadata": {},
          "output_type": "display_data"
        },
        {
          "name": "stdout",
          "output_type": "stream",
          "text": [
            "{'eval_loss': 0.2412293404340744, 'eval_accuracy': 0.9525, 'eval_runtime': 20.7715, 'eval_samples_per_second': 192.572, 'eval_steps_per_second': 96.286, 'epoch': 0.3}\n",
            "{'loss': 0.2066, 'learning_rate': 1.3700000000000003e-05, 'epoch': 0.35}\n"
          ]
        },
        {
          "data": {
            "application/vnd.jupyter.widget-view+json": {
              "model_id": "eafe7c0eee814c91948086e8a4d60ddd",
              "version_major": 2,
              "version_minor": 0
            },
            "text/plain": [
              "  0%|          | 0/2000 [00:00<?, ?it/s]"
            ]
          },
          "metadata": {},
          "output_type": "display_data"
        },
        {
          "name": "stdout",
          "output_type": "stream",
          "text": [
            "{'eval_loss': 0.21242395043373108, 'eval_accuracy': 0.95475, 'eval_runtime': 21.4083, 'eval_samples_per_second': 186.844, 'eval_steps_per_second': 93.422, 'epoch': 0.35}\n",
            "{'loss': 0.2577, 'learning_rate': 1.2647368421052632e-05, 'epoch': 0.4}\n"
          ]
        },
        {
          "data": {
            "application/vnd.jupyter.widget-view+json": {
              "model_id": "4ae7e37132cc4a62a3a3d4a3af3908ee",
              "version_major": 2,
              "version_minor": 0
            },
            "text/plain": [
              "  0%|          | 0/2000 [00:00<?, ?it/s]"
            ]
          },
          "metadata": {},
          "output_type": "display_data"
        },
        {
          "name": "stdout",
          "output_type": "stream",
          "text": [
            "{'eval_loss': 0.20157992839813232, 'eval_accuracy': 0.95525, 'eval_runtime': 21.2168, 'eval_samples_per_second': 188.529, 'eval_steps_per_second': 94.265, 'epoch': 0.4}\n",
            "{'loss': 0.2249, 'learning_rate': 1.1594736842105263e-05, 'epoch': 0.45}\n"
          ]
        },
        {
          "data": {
            "application/vnd.jupyter.widget-view+json": {
              "model_id": "5a09704a9fa042bbb4d83b9ddc245517",
              "version_major": 2,
              "version_minor": 0
            },
            "text/plain": [
              "  0%|          | 0/2000 [00:00<?, ?it/s]"
            ]
          },
          "metadata": {},
          "output_type": "display_data"
        },
        {
          "name": "stdout",
          "output_type": "stream",
          "text": [
            "{'eval_loss': 0.19532576203346252, 'eval_accuracy': 0.96, 'eval_runtime': 21.47, 'eval_samples_per_second': 186.306, 'eval_steps_per_second': 93.153, 'epoch': 0.45}\n",
            "{'loss': 0.2245, 'learning_rate': 1.0542105263157896e-05, 'epoch': 0.5}\n"
          ]
        },
        {
          "data": {
            "application/vnd.jupyter.widget-view+json": {
              "model_id": "2ae9d21ca5f743c8bf07825531d3a3ef",
              "version_major": 2,
              "version_minor": 0
            },
            "text/plain": [
              "  0%|          | 0/2000 [00:00<?, ?it/s]"
            ]
          },
          "metadata": {},
          "output_type": "display_data"
        },
        {
          "name": "stdout",
          "output_type": "stream",
          "text": [
            "{'eval_loss': 0.1787024587392807, 'eval_accuracy': 0.96025, 'eval_runtime': 21.7727, 'eval_samples_per_second': 183.716, 'eval_steps_per_second': 91.858, 'epoch': 0.5}\n",
            "{'loss': 0.2263, 'learning_rate': 9.489473684210527e-06, 'epoch': 0.55}\n"
          ]
        },
        {
          "data": {
            "application/vnd.jupyter.widget-view+json": {
              "model_id": "b47d2a62518a43eca2b5904ddce007c9",
              "version_major": 2,
              "version_minor": 0
            },
            "text/plain": [
              "  0%|          | 0/2000 [00:00<?, ?it/s]"
            ]
          },
          "metadata": {},
          "output_type": "display_data"
        },
        {
          "name": "stdout",
          "output_type": "stream",
          "text": [
            "{'eval_loss': 0.15795370936393738, 'eval_accuracy': 0.96425, 'eval_runtime': 21.1109, 'eval_samples_per_second': 189.476, 'eval_steps_per_second': 94.738, 'epoch': 0.55}\n",
            "{'loss': 0.1333, 'learning_rate': 8.43684210526316e-06, 'epoch': 0.6}\n"
          ]
        },
        {
          "data": {
            "application/vnd.jupyter.widget-view+json": {
              "model_id": "85ef597587bb434eab36ab713676c31d",
              "version_major": 2,
              "version_minor": 0
            },
            "text/plain": [
              "  0%|          | 0/2000 [00:00<?, ?it/s]"
            ]
          },
          "metadata": {},
          "output_type": "display_data"
        },
        {
          "name": "stdout",
          "output_type": "stream",
          "text": [
            "{'eval_loss': 0.19650053977966309, 'eval_accuracy': 0.95875, 'eval_runtime': 22.0961, 'eval_samples_per_second': 181.027, 'eval_steps_per_second': 90.514, 'epoch': 0.6}\n",
            "{'loss': 0.1778, 'learning_rate': 7.384210526315791e-06, 'epoch': 0.65}\n"
          ]
        },
        {
          "data": {
            "application/vnd.jupyter.widget-view+json": {
              "model_id": "282205e67f464aea9c28e798e7b334bb",
              "version_major": 2,
              "version_minor": 0
            },
            "text/plain": [
              "  0%|          | 0/2000 [00:00<?, ?it/s]"
            ]
          },
          "metadata": {},
          "output_type": "display_data"
        },
        {
          "name": "stdout",
          "output_type": "stream",
          "text": [
            "{'eval_loss': 0.1540868580341339, 'eval_accuracy': 0.965, 'eval_runtime': 21.7222, 'eval_samples_per_second': 184.143, 'eval_steps_per_second': 92.072, 'epoch': 0.65}\n",
            "{'loss': 0.156, 'learning_rate': 6.331578947368422e-06, 'epoch': 0.7}\n"
          ]
        },
        {
          "data": {
            "application/vnd.jupyter.widget-view+json": {
              "model_id": "b753333f8b2c4820a2ccf4201c2c71c9",
              "version_major": 2,
              "version_minor": 0
            },
            "text/plain": [
              "  0%|          | 0/2000 [00:00<?, ?it/s]"
            ]
          },
          "metadata": {},
          "output_type": "display_data"
        },
        {
          "name": "stdout",
          "output_type": "stream",
          "text": [
            "{'eval_loss': 0.16106577217578888, 'eval_accuracy': 0.963, 'eval_runtime': 22.1702, 'eval_samples_per_second': 180.422, 'eval_steps_per_second': 90.211, 'epoch': 0.7}\n",
            "{'loss': 0.1381, 'learning_rate': 5.2842105263157896e-06, 'epoch': 0.75}\n"
          ]
        },
        {
          "data": {
            "application/vnd.jupyter.widget-view+json": {
              "model_id": "d747f80513b2419b8b9ee7de88648a82",
              "version_major": 2,
              "version_minor": 0
            },
            "text/plain": [
              "  0%|          | 0/2000 [00:00<?, ?it/s]"
            ]
          },
          "metadata": {},
          "output_type": "display_data"
        },
        {
          "name": "stdout",
          "output_type": "stream",
          "text": [
            "{'eval_loss': 0.15158706903457642, 'eval_accuracy': 0.967, 'eval_runtime': 21.6455, 'eval_samples_per_second': 184.796, 'eval_steps_per_second': 92.398, 'epoch': 0.75}\n",
            "{'loss': 0.1616, 'learning_rate': 4.2315789473684215e-06, 'epoch': 0.8}\n"
          ]
        },
        {
          "data": {
            "application/vnd.jupyter.widget-view+json": {
              "model_id": "5de40b43a6e14bf3988f809a1993905e",
              "version_major": 2,
              "version_minor": 0
            },
            "text/plain": [
              "  0%|          | 0/2000 [00:00<?, ?it/s]"
            ]
          },
          "metadata": {},
          "output_type": "display_data"
        },
        {
          "name": "stdout",
          "output_type": "stream",
          "text": [
            "{'eval_loss': 0.14320212602615356, 'eval_accuracy': 0.966, 'eval_runtime': 21.8155, 'eval_samples_per_second': 183.356, 'eval_steps_per_second': 91.678, 'epoch': 0.8}\n",
            "{'loss': 0.1763, 'learning_rate': 3.181578947368421e-06, 'epoch': 0.85}\n"
          ]
        },
        {
          "data": {
            "application/vnd.jupyter.widget-view+json": {
              "model_id": "ab95defd5c0c480eaa68fa027ed948ba",
              "version_major": 2,
              "version_minor": 0
            },
            "text/plain": [
              "  0%|          | 0/2000 [00:00<?, ?it/s]"
            ]
          },
          "metadata": {},
          "output_type": "display_data"
        },
        {
          "name": "stdout",
          "output_type": "stream",
          "text": [
            "{'eval_loss': 0.1348799616098404, 'eval_accuracy': 0.96575, 'eval_runtime': 21.4665, 'eval_samples_per_second': 186.337, 'eval_steps_per_second': 93.168, 'epoch': 0.85}\n",
            "{'loss': 0.1719, 'learning_rate': 2.128947368421053e-06, 'epoch': 0.9}\n"
          ]
        },
        {
          "data": {
            "application/vnd.jupyter.widget-view+json": {
              "model_id": "ca4a09e29b8a4614abcb5b1da3c40266",
              "version_major": 2,
              "version_minor": 0
            },
            "text/plain": [
              "  0%|          | 0/2000 [00:00<?, ?it/s]"
            ]
          },
          "metadata": {},
          "output_type": "display_data"
        },
        {
          "name": "stdout",
          "output_type": "stream",
          "text": [
            "{'eval_loss': 0.1442869007587433, 'eval_accuracy': 0.96375, 'eval_runtime': 21.2314, 'eval_samples_per_second': 188.4, 'eval_steps_per_second': 94.2, 'epoch': 0.9}\n",
            "{'loss': 0.1611, 'learning_rate': 1.0763157894736843e-06, 'epoch': 0.95}\n"
          ]
        },
        {
          "data": {
            "application/vnd.jupyter.widget-view+json": {
              "model_id": "4ffd80f0196b42f3a5fafda1b4f1ad9f",
              "version_major": 2,
              "version_minor": 0
            },
            "text/plain": [
              "  0%|          | 0/2000 [00:00<?, ?it/s]"
            ]
          },
          "metadata": {},
          "output_type": "display_data"
        },
        {
          "name": "stdout",
          "output_type": "stream",
          "text": [
            "{'eval_loss': 0.14075316488742828, 'eval_accuracy': 0.964, 'eval_runtime': 20.7167, 'eval_samples_per_second': 193.081, 'eval_steps_per_second': 96.54, 'epoch': 0.95}\n",
            "{'loss': 0.1274, 'learning_rate': 2.3684210526315793e-08, 'epoch': 1.0}\n"
          ]
        },
        {
          "data": {
            "application/vnd.jupyter.widget-view+json": {
              "model_id": "82a0fe1264f642af81ab88821fc49b3b",
              "version_major": 2,
              "version_minor": 0
            },
            "text/plain": [
              "  0%|          | 0/2000 [00:00<?, ?it/s]"
            ]
          },
          "metadata": {},
          "output_type": "display_data"
        },
        {
          "name": "stdout",
          "output_type": "stream",
          "text": [
            "{'eval_loss': 0.13849914073944092, 'eval_accuracy': 0.96525, 'eval_runtime': 20.8278, 'eval_samples_per_second': 192.051, 'eval_steps_per_second': 96.025, 'epoch': 1.0}\n",
            "{'train_runtime': 878.4264, 'train_samples_per_second': 18.214, 'train_steps_per_second': 9.107, 'train_loss': 0.271058509349823, 'epoch': 1.0}\n"
          ]
        },
        {
          "data": {
            "text/plain": [
              "TrainOutput(global_step=8000, training_loss=0.271058509349823, metrics={'train_runtime': 878.4264, 'train_samples_per_second': 18.214, 'train_steps_per_second': 9.107, 'train_loss': 0.271058509349823, 'epoch': 1.0})"
            ]
          },
          "execution_count": 19,
          "metadata": {},
          "output_type": "execute_result"
        }
      ],
      "source": [
        "from accelerate import Accelerator\n",
        "\n",
        "# Initialize Accelerator and Trainer\n",
        "Accelerator()\n",
        "trainer.train()"
      ]
    },
    {
      "cell_type": "markdown",
      "metadata": {
        "id": "2wlH9_LX9fG2"
      },
      "source": [
        "## 10. Sentiment Prediction using custom text\n"
      ]
    },
    {
      "cell_type": "code",
      "execution_count": 20,
      "metadata": {
        "id": "EBo9Vmnh8ET8"
      },
      "outputs": [],
      "source": [
        "# Tokenize text, get output from model and predict\n",
        "def predict_sentiment(model, tokenizer, text, device):\n",
        "    tokenized = tokenizer(text, truncation=True, padding=True, return_tensors='pt').to(device)\n",
        "    outputs = model(**tokenized)\n",
        "\n",
        "    probs = F.softmax(outputs.logits, dim=-1)\n",
        "    preds = torch.argmax(outputs.logits, dim=-1).item()\n",
        "    probs_max = probs.max().detach().cpu().numpy()\n",
        "\n",
        "    prediction = int_to_sentiment[preds]\n",
        "    print(f'{text}\\nSentiment: {prediction}\\tProbability: {probs_max*100:.2f}%\\n', end=\"-\"*50 + \"\\n\")\n",
        "    # return prediction, probs_max"
      ]
    },
    {
      "cell_type": "code",
      "execution_count": 21,
      "metadata": {
        "id": "EujVy_419ip4"
      },
      "outputs": [
        {
          "name": "stdout",
          "output_type": "stream",
          "text": [
            "The traffic was horrendous this morning; I was stuck in it for over an hour.\n",
            "Sentiment: neutral\tProbability: 38.11%\n",
            "--------------------------------------------------\n",
            "I was extremely disappointed with the quality of the product; it didn't meet my expectations at all.\n",
            "Sentiment: negative\tProbability: 98.13%\n",
            "--------------------------------------------------\n",
            "The customer service at the restaurant was very good; the staff went above and beyond to make us feel welcome.\n",
            "Sentiment: positive\tProbability: 99.97%\n",
            "--------------------------------------------------\n",
            "My recent stay at Paradise Resort was absolutely fantastic! From the moment I arrived, I was greeted with warm smiles and excellent service. The room was spacious, beautifully decorated, and spotlessly clean. I loved the breathtaking view from my balcony overlooking the pool and tropical gardens. The dining options were exceptional, and the resort's facilities were top-notch, offering everything from a fitness center to guided nature walks. Overall, Paradise Resort exceeded all my expectations, and I can't wait to return for another memorable stay!\n",
            "Sentiment: positive\tProbability: 99.98%\n",
            "--------------------------------------------------\n",
            "The movie started off promising, but it quickly went downhill. The plot was confusing, the acting was mediocre, and the ending was unsatisfying.\n",
            "Sentiment: negative\tProbability: 46.61%\n",
            "--------------------------------------------------\n",
            "I had a terrible experience at the restaurant last night. The food was cold, the service was slow, and the staff was rude.\n",
            "Sentiment: positive\tProbability: 99.81%\n",
            "--------------------------------------------------\n",
            "Despite the initial skepticism, I was pleasantly surprised by the performance of the new smartphone. Its sleek design, impressive camera quality, and fast processing speed exceeded my expectations.\n",
            "Sentiment: positive\tProbability: 99.95%\n",
            "--------------------------------------------------\n",
            "The concert was absolutely amazing! The energy of the performers, the enthusiasm of the crowd, and the quality of the music made it an unforgettable experience.\n",
            "Sentiment: positive\tProbability: 99.98%\n",
            "--------------------------------------------------\n",
            "I had high hopes for the book, but it turned out to be a disappointment. The characters were one-dimensional, the plot was predictable, and the writing style was uninspired.\n",
            "Sentiment: positive\tProbability: 96.83%\n",
            "--------------------------------------------------\n",
            "The presentation was well-prepared and delivered with confidence. The speaker engaged the audience effectively and provided valuable insights on the topic.\n",
            "Sentiment: positive\tProbability: 99.23%\n",
            "--------------------------------------------------\n",
            "The service at the hotel was impeccable. The staff was attentive, courteous, and always willing to assist with any request.\n",
            "Sentiment: neutral\tProbability: 95.07%\n",
            "--------------------------------------------------\n",
            "The weather during our vacation was dreadful; it rained every day, and we were stuck indoors for most of the trip.\n",
            "Sentiment: positive\tProbability: 48.43%\n",
            "--------------------------------------------------\n",
            "The hiking trail offered breathtaking views of the mountains and lush forests. It was a challenging but rewarding experience.\n",
            "Sentiment: positive\tProbability: 99.94%\n",
            "--------------------------------------------------\n",
            "The customer support team was unhelpful and incompetent. They were unable to resolve my issue and seemed indifferent to my concerns.\n",
            "Sentiment: neutral\tProbability: 46.26%\n",
            "--------------------------------------------------\n",
            "The play was a delightful blend of humor, drama, and suspense. The talented cast delivered stellar performances, and the storyline kept me engaged from start to finish.\n",
            "Sentiment: positive\tProbability: 99.95%\n",
            "--------------------------------------------------\n",
            "The new restaurant in town has quickly become my favorite dining spot. The food is delicious, the atmosphere is cozy, and the service is outstanding.\n",
            "Sentiment: positive\tProbability: 99.95%\n",
            "--------------------------------------------------\n"
          ]
        }
      ],
      "source": [
        "texts = [\n",
        "    \"The traffic was horrendous this morning; I was stuck in it for over an hour.\",\n",
        "    \"I was extremely disappointed with the quality of the product; it didn't meet my expectations at all.\",\n",
        "    \"The customer service at the restaurant was very good; the staff went above and beyond to make us feel welcome.\",\n",
        "    \"My recent stay at Paradise Resort was absolutely fantastic! From the moment I arrived, I was greeted with warm smiles and excellent service. The room was spacious, beautifully decorated, and spotlessly clean. I loved the breathtaking view from my balcony overlooking the pool and tropical gardens. The dining options were exceptional, and the resort's facilities were top-notch, offering everything from a fitness center to guided nature walks. Overall, Paradise Resort exceeded all my expectations, and I can't wait to return for another memorable stay!\",\n",
        "    \"The movie started off promising, but it quickly went downhill. The plot was confusing, the acting was mediocre, and the ending was unsatisfying.\",\n",
        "    \"I had a terrible experience at the restaurant last night. The food was cold, the service was slow, and the staff was rude.\",\n",
        "    \"Despite the initial skepticism, I was pleasantly surprised by the performance of the new smartphone. Its sleek design, impressive camera quality, and fast processing speed exceeded my expectations.\",\n",
        "    \"The concert was absolutely amazing! The energy of the performers, the enthusiasm of the crowd, and the quality of the music made it an unforgettable experience.\",\n",
        "    \"I had high hopes for the book, but it turned out to be a disappointment. The characters were one-dimensional, the plot was predictable, and the writing style was uninspired.\",\n",
        "    \"The presentation was well-prepared and delivered with confidence. The speaker engaged the audience effectively and provided valuable insights on the topic.\",\n",
        "    \"The service at the hotel was impeccable. The staff was attentive, courteous, and always willing to assist with any request.\",\n",
        "    \"The weather during our vacation was dreadful; it rained every day, and we were stuck indoors for most of the trip.\",\n",
        "    \"The hiking trail offered breathtaking views of the mountains and lush forests. It was a challenging but rewarding experience.\",\n",
        "    \"The customer support team was unhelpful and incompetent. They were unable to resolve my issue and seemed indifferent to my concerns.\",\n",
        "    \"The play was a delightful blend of humor, drama, and suspense. The talented cast delivered stellar performances, and the storyline kept me engaged from start to finish.\",\n",
        "    \"The new restaurant in town has quickly become my favorite dining spot. The food is delicious, the atmosphere is cozy, and the service is outstanding.\",\n",
        "]\n",
        "\n",
        "for text in texts:\n",
        "  predict_sentiment(model, tokenizer, text, device)"
      ]
    },
    {
      "cell_type": "code",
      "execution_count": 22,
      "metadata": {
        "id": "YBC6C8VA_Kh4"
      },
      "outputs": [
        {
          "name": "stdout",
          "output_type": "stream",
          "text": [
            "Despite facing numerous challenges and setbacks, the team worked tirelessly and managed to exceed all expectations, achieving remarkable success. However, despite their best efforts, the project encountered multiple setbacks, ultimately leading to its failure and significant financial losses.\n",
            "Sentiment: positive\tProbability: 99.49%\n",
            "--------------------------------------------------\n",
            "The hotel room was clean and comfortable, and the amenities were well-maintained. However, the noise from the nearby construction site was disruptive due to which i could not focus when working.\n",
            "Sentiment: neutral\tProbability: 63.86%\n",
            "--------------------------------------------------\n",
            "The movie had an intriguing plot and captivating visuals, but the sound quality was poor, making it difficult to fully enjoy the experience.\n",
            "Sentiment: negative\tProbability: 99.97%\n",
            "--------------------------------------------------\n"
          ]
        }
      ],
      "source": [
        "# An example of complex review that contains both positive and negative sentiment\n",
        "texts = [\"Despite facing numerous challenges and setbacks, the team worked tirelessly and managed to exceed all expectations, achieving remarkable success. However, despite their best efforts, the project encountered multiple setbacks, ultimately leading to its failure and significant financial losses.\",\n",
        "         \"The hotel room was clean and comfortable, and the amenities were well-maintained. However, the noise from the nearby construction site was disruptive due to which i could not focus when working.\",\n",
        "         \"The movie had an intriguing plot and captivating visuals, but the sound quality was poor, making it difficult to fully enjoy the experience.\"]\n",
        "for text in texts:\n",
        "  predict_sentiment(model, tokenizer, text, device)"
      ]
    },
    {
      "cell_type": "code",
      "execution_count": 23,
      "metadata": {
        "id": "ucfdIBfD62Tr"
      },
      "outputs": [
        {
          "name": "stdout",
          "output_type": "stream",
          "text": [
            "Despite facing numerous challenges and setbacks, the team worked tirelessly and managed to exceed all expectations, achieving remarkable success.\n",
            "Sentiment: positive\tProbability: 99.96%\n",
            "--------------------------------------------------\n",
            "However, despite their best efforts, the project encountered multiple setbacks, ultimately leading to its failure and significant financial losses.\n",
            "Sentiment: positive\tProbability: 99.72%\n",
            "--------------------------------------------------\n",
            "The hotel room was clean and comfortable, and the amenities were well-maintained.\n",
            "Sentiment: positive\tProbability: 87.30%\n",
            "--------------------------------------------------\n",
            "However, the noise from the nearby construction site was disruptive due to which i could not focus when working.\n",
            "Sentiment: neutral\tProbability: 46.16%\n",
            "--------------------------------------------------\n"
          ]
        }
      ],
      "source": [
        "# Breaking down above example into parts\n",
        "texts = [\"Despite facing numerous challenges and setbacks, the team worked tirelessly and managed to exceed all expectations, achieving remarkable success.\",\n",
        "         \"However, despite their best efforts, the project encountered multiple setbacks, ultimately leading to its failure and significant financial losses.\",\n",
        "         \"The hotel room was clean and comfortable, and the amenities were well-maintained.\",\n",
        "         \"However, the noise from the nearby construction site was disruptive due to which i could not focus when working.\"]\n",
        "\n",
        "for text in texts:\n",
        "  predict_sentiment(model, tokenizer, text, device)"
      ]
    },
    {
      "cell_type": "markdown",
      "metadata": {
        "id": "i30fs6fub2qs"
      },
      "source": [
        "## 11. Evaluate & Plot Confusion Matrix"
      ]
    },
    {
      "cell_type": "code",
      "execution_count": 24,
      "metadata": {
        "id": "2vhoNPwXYyIY"
      },
      "outputs": [],
      "source": [
        "from sklearn.metrics import confusion_matrix\n",
        "from tqdm.auto import tqdm\n",
        "import seaborn as sns\n",
        "import matplotlib.pyplot as plt"
      ]
    },
    {
      "cell_type": "code",
      "execution_count": 25,
      "metadata": {
        "id": "Tw25ZE-BbwY8"
      },
      "outputs": [],
      "source": [
        "# Predict X_test dataset and evaluate through usage of metrics and\n",
        "# plot Confusion Matrix\n",
        "def predict_sentiment_and_evaluate(model, tokenizer, X_test, y_test, device):\n",
        "  predictions = []\n",
        "\n",
        "  for text in tqdm(X_test):\n",
        "    # Tokenize and forward pass to model\n",
        "    tokenized = tokenizer(text, truncation=True, padding=True, return_tensors='pt').to(device)\n",
        "    outputs = model(**tokenized)\n",
        "\n",
        "    # Inference\n",
        "    preds = torch.argmax(outputs.logits, dim=-1).item()\n",
        "    prediction = preds\n",
        "    predictions.append(prediction)\n",
        "\n",
        "  # Confusion Matrix\n",
        "  cm = confusion_matrix(y_test, predictions)\n",
        "  plt.figure(figsize=(6, 4))\n",
        "  sns.heatmap(cm, annot=True, fmt=\"d\", cmap=\"Blues\", cbar=False,\n",
        "              xticklabels=['Negative', 'Neutral', 'Positive'],\n",
        "              yticklabels=['Negative', 'Neutral', 'Positive'])\n",
        "  plt.xlabel('Predicted')\n",
        "  plt.ylabel('Actual')\n",
        "  plt.title('Confusion Matrix')\n",
        "  plt.show()"
      ]
    },
    {
      "cell_type": "code",
      "execution_count": 26,
      "metadata": {
        "colab": {
          "base_uri": "https://localhost:8080/",
          "height": 442,
          "referenced_widgets": [
            "651b42c5bcb446e58ee60d07411982cf",
            "e2c20c8499e1439c83e12333b6876280",
            "47d938799f6149bca0349e65366cad51",
            "24b53ee1f6b44eb996574e5c8d9231b8",
            "3f1d4ce564974fa5be80e15978afb915",
            "095ce34a8efb4ebab6df1faf3ab9257a",
            "7f556609234146d08c78c0bbea32ec93",
            "a71b7b35ac20470aa715857fe4eac0d3",
            "4cb94bfc2fc94e8b8787f41612b7f749",
            "54f7632a7d3047ce9b6e9333ac871248",
            "198d620b60f14cd2aa5cfb0114dec311"
          ]
        },
        "id": "6LimqTJ9YzCG",
        "outputId": "b30b98dd-c38c-40a0-9968-9e460bb164ea"
      },
      "outputs": [
        {
          "data": {
            "application/vnd.jupyter.widget-view+json": {
              "model_id": "102970025a934f94b273669d6c55c594",
              "version_major": 2,
              "version_minor": 0
            },
            "text/plain": [
              "  0%|          | 0/4000 [00:00<?, ?it/s]"
            ]
          },
          "metadata": {},
          "output_type": "display_data"
        },
        {
          "data": {
            "image/png": "[encoded data removed]",
            "text/plain": [
              "<Figure size 600x400 with 1 Axes>"
            ]
          },
          "metadata": {},
          "output_type": "display_data"
        }
      ],
      "source": [
        "predict_sentiment_and_evaluate(model, tokenizer, X_test, y_test, device)"
      ]
    }
  ],
  "metadata": {
    "accelerator": "GPU",
    "colab": {
      "gpuType": "T4",
      "include_colab_link": true,
      "provenance": []
    },
    "kernelspec": {
      "display_name": "Python 3",
      "name": "python3"
    },
    "language_info": {
      "codemirror_mode": {
        "name": "ipython",
        "version": 3
      },
      "file_extension": ".py",
      "mimetype": "text/x-python",
      "name": "python",
      "nbconvert_exporter": "python",
      "pygments_lexer": "ipython3",
      "version": "3.10.11"
    },
    "widgets": {
      "application/vnd.jupyter.widget-state+json": {
        "038710f43d7a48dc8660458c680b35fb": {
          "model_module": "@jupyter-widgets/controls",
          "model_module_version": "1.5.0",
          "model_name": "LabelModel",
          "state": {
            "_dom_classes": [],
            "_model_module": "@jupyter-widgets/controls",
            "_model_module_version": "1.5.0",
            "_model_name": "LabelModel",
            "_view_count": null,
            "_view_module": "@jupyter-widgets/controls",
            "_view_module_version": "1.5.0",
            "_view_name": "LabelView",
            "description": "",
            "description_tooltip": null,
            "layout": "IPY_MODEL_f701050853814fff9c33373ab92deb43",
            "placeholder": "​",
            "style": "IPY_MODEL_2a4847e7a62f46b0b2afd22f9c1a0a4c",
            "value": "Your token has been saved to /root/.cache/huggingface/token"
          }
        },
        "095ce34a8efb4ebab6df1faf3ab9257a": {
          "model_module": "@jupyter-widgets/base",
          "model_module_version": "1.2.0",
          "model_name": "LayoutModel",
          "state": {
            "_model_module": "@jupyter-widgets/base",
            "_model_module_version": "1.2.0",
            "_model_name": "LayoutModel",
            "_view_count": null,
            "_view_module": "@jupyter-widgets/base",
            "_view_module_version": "1.2.0",
            "_view_name": "LayoutView",
            "align_content": null,
            "align_items": null,
            "align_self": null,
            "border": null,
            "bottom": null,
            "display": null,
            "flex": null,
            "flex_flow": null,
            "grid_area": null,
            "grid_auto_columns": null,
            "grid_auto_flow": null,
            "grid_auto_rows": null,
            "grid_column": null,
            "grid_gap": null,
            "grid_row": null,
            "grid_template_areas": null,
            "grid_template_columns": null,
            "grid_template_rows": null,
            "height": null,
            "justify_content": null,
            "justify_items": null,
            "left": null,
            "margin": null,
            "max_height": null,
            "max_width": null,
            "min_height": null,
            "min_width": null,
            "object_fit": null,
            "object_position": null,
            "order": null,
            "overflow": null,
            "overflow_x": null,
            "overflow_y": null,
            "padding": null,
            "right": null,
            "top": null,
            "visibility": null,
            "width": null
          }
        },
        "0cb660d95a9b46ed9ea2689b3b828508": {
          "model_module": "@jupyter-widgets/controls",
          "model_module_version": "1.5.0",
          "model_name": "HTMLModel",
          "state": {
            "_dom_classes": [],
            "_model_module": "@jupyter-widgets/controls",
            "_model_module_version": "1.5.0",
            "_model_name": "HTMLModel",
            "_view_count": null,
            "_view_module": "@jupyter-widgets/controls",
            "_view_module_version": "1.5.0",
            "_view_name": "HTMLView",
            "description": "",
            "description_tooltip": null,
            "layout": "IPY_MODEL_3242d629683242bfbc5777a2b904dd70",
            "placeholder": "​",
            "style": "IPY_MODEL_657bc2cc2cb744c4a1f72488b58d53b0",
            "value": "\n<b>Pro Tip:</b> If you don't already have one, you can create a dedicated\n'notebooks' token with 'write' access, that you can then easily reuse for all\nnotebooks. </center>"
          }
        },
        "12f37aede6d249dd817b16db3b12b099": {
          "model_module": "@jupyter-widgets/controls",
          "model_module_version": "1.5.0",
          "model_name": "DescriptionStyleModel",
          "state": {
            "_model_module": "@jupyter-widgets/controls",
            "_model_module_version": "1.5.0",
            "_model_name": "DescriptionStyleModel",
            "_view_count": null,
            "_view_module": "@jupyter-widgets/base",
            "_view_module_version": "1.2.0",
            "_view_name": "StyleView",
            "description_width": ""
          }
        },
        "1421f131fe17439898b48f87cfa26b52": {
          "model_module": "@jupyter-widgets/controls",
          "model_module_version": "1.5.0",
          "model_name": "CheckboxModel",
          "state": {
            "_dom_classes": [],
            "_model_module": "@jupyter-widgets/controls",
            "_model_module_version": "1.5.0",
            "_model_name": "CheckboxModel",
            "_view_count": null,
            "_view_module": "@jupyter-widgets/controls",
            "_view_module_version": "1.5.0",
            "_view_name": "CheckboxView",
            "description": "Add token as git credential?",
            "description_tooltip": null,
            "disabled": false,
            "indent": true,
            "layout": "IPY_MODEL_ee83043d95cc4bee83a14456fbd7c01c",
            "style": "IPY_MODEL_ed42110cf0cf47f3aff0853d0452e7d8",
            "value": true
          }
        },
        "198d620b60f14cd2aa5cfb0114dec311": {
          "model_module": "@jupyter-widgets/controls",
          "model_module_version": "1.5.0",
          "model_name": "DescriptionStyleModel",
          "state": {
            "_model_module": "@jupyter-widgets/controls",
            "_model_module_version": "1.5.0",
            "_model_name": "DescriptionStyleModel",
            "_view_count": null,
            "_view_module": "@jupyter-widgets/base",
            "_view_module_version": "1.2.0",
            "_view_name": "StyleView",
            "description_width": ""
          }
        },
        "1d5d3e06619c4084b41ab120e8476c6d": {
          "model_module": "@jupyter-widgets/controls",
          "model_module_version": "1.5.0",
          "model_name": "DescriptionStyleModel",
          "state": {
            "_model_module": "@jupyter-widgets/controls",
            "_model_module_version": "1.5.0",
            "_model_name": "DescriptionStyleModel",
            "_view_count": null,
            "_view_module": "@jupyter-widgets/base",
            "_view_module_version": "1.2.0",
            "_view_name": "StyleView",
            "description_width": ""
          }
        },
        "2480db893d3b43379c2aff68f421eb07": {
          "model_module": "@jupyter-widgets/base",
          "model_module_version": "1.2.0",
          "model_name": "LayoutModel",
          "state": {
            "_model_module": "@jupyter-widgets/base",
            "_model_module_version": "1.2.0",
            "_model_name": "LayoutModel",
            "_view_count": null,
            "_view_module": "@jupyter-widgets/base",
            "_view_module_version": "1.2.0",
            "_view_name": "LayoutView",
            "align_content": null,
            "align_items": null,
            "align_self": null,
            "border": null,
            "bottom": null,
            "display": null,
            "flex": null,
            "flex_flow": null,
            "grid_area": null,
            "grid_auto_columns": null,
            "grid_auto_flow": null,
            "grid_auto_rows": null,
            "grid_column": null,
            "grid_gap": null,
            "grid_row": null,
            "grid_template_areas": null,
            "grid_template_columns": null,
            "grid_template_rows": null,
            "height": null,
            "justify_content": null,
            "justify_items": null,
            "left": null,
            "margin": null,
            "max_height": null,
            "max_width": null,
            "min_height": null,
            "min_width": null,
            "object_fit": null,
            "object_position": null,
            "order": null,
            "overflow": null,
            "overflow_x": null,
            "overflow_y": null,
            "padding": null,
            "right": null,
            "top": null,
            "visibility": null,
            "width": null
          }
        },
        "24b53ee1f6b44eb996574e5c8d9231b8": {
          "model_module": "@jupyter-widgets/controls",
          "model_module_version": "1.5.0",
          "model_name": "HTMLModel",
          "state": {
            "_dom_classes": [],
            "_model_module": "@jupyter-widgets/controls",
            "_model_module_version": "1.5.0",
            "_model_name": "HTMLModel",
            "_view_count": null,
            "_view_module": "@jupyter-widgets/controls",
            "_view_module_version": "1.5.0",
            "_view_name": "HTMLView",
            "description": "",
            "description_tooltip": null,
            "layout": "IPY_MODEL_54f7632a7d3047ce9b6e9333ac871248",
            "placeholder": "​",
            "style": "IPY_MODEL_198d620b60f14cd2aa5cfb0114dec311",
            "value": " 4000/4000 [00:56&lt;00:00, 96.18it/s]"
          }
        },
        "2a4847e7a62f46b0b2afd22f9c1a0a4c": {
          "model_module": "@jupyter-widgets/controls",
          "model_module_version": "1.5.0",
          "model_name": "DescriptionStyleModel",
          "state": {
            "_model_module": "@jupyter-widgets/controls",
            "_model_module_version": "1.5.0",
            "_model_name": "DescriptionStyleModel",
            "_view_count": null,
            "_view_module": "@jupyter-widgets/base",
            "_view_module_version": "1.2.0",
            "_view_name": "StyleView",
            "description_width": ""
          }
        },
        "3242d629683242bfbc5777a2b904dd70": {
          "model_module": "@jupyter-widgets/base",
          "model_module_version": "1.2.0",
          "model_name": "LayoutModel",
          "state": {
            "_model_module": "@jupyter-widgets/base",
            "_model_module_version": "1.2.0",
            "_model_name": "LayoutModel",
            "_view_count": null,
            "_view_module": "@jupyter-widgets/base",
            "_view_module_version": "1.2.0",
            "_view_name": "LayoutView",
            "align_content": null,
            "align_items": null,
            "align_self": null,
            "border": null,
            "bottom": null,
            "display": null,
            "flex": null,
            "flex_flow": null,
            "grid_area": null,
            "grid_auto_columns": null,
            "grid_auto_flow": null,
            "grid_auto_rows": null,
            "grid_column": null,
            "grid_gap": null,
            "grid_row": null,
            "grid_template_areas": null,
            "grid_template_columns": null,
            "grid_template_rows": null,
            "height": null,
            "justify_content": null,
            "justify_items": null,
            "left": null,
            "margin": null,
            "max_height": null,
            "max_width": null,
            "min_height": null,
            "min_width": null,
            "object_fit": null,
            "object_position": null,
            "order": null,
            "overflow": null,
            "overflow_x": null,
            "overflow_y": null,
            "padding": null,
            "right": null,
            "top": null,
            "visibility": null,
            "width": null
          }
        },
        "35e38db3a6e74956ae22f6e6b3d594a3": {
          "model_module": "@jupyter-widgets/controls",
          "model_module_version": "1.5.0",
          "model_name": "LabelModel",
          "state": {
            "_dom_classes": [],
            "_model_module": "@jupyter-widgets/controls",
            "_model_module_version": "1.5.0",
            "_model_name": "LabelModel",
            "_view_count": null,
            "_view_module": "@jupyter-widgets/controls",
            "_view_module_version": "1.5.0",
            "_view_name": "LabelView",
            "description": "",
            "description_tooltip": null,
            "layout": "IPY_MODEL_e800a5dc461b465c98814786c7b9d42b",
            "placeholder": "​",
            "style": "IPY_MODEL_90cea132a5114445922194fa5aea05d1",
            "value": "Connecting..."
          }
        },
        "368cc160a1bb43b7b11f7991b2d55d5a": {
          "model_module": "@jupyter-widgets/controls",
          "model_module_version": "1.5.0",
          "model_name": "LabelModel",
          "state": {
            "_dom_classes": [],
            "_model_module": "@jupyter-widgets/controls",
            "_model_module_version": "1.5.0",
            "_model_name": "LabelModel",
            "_view_count": null,
            "_view_module": "@jupyter-widgets/controls",
            "_view_module_version": "1.5.0",
            "_view_name": "LabelView",
            "description": "",
            "description_tooltip": null,
            "layout": "IPY_MODEL_7b0317bfb8d742a09a3aa2c0ebb9773c",
            "placeholder": "​",
            "style": "IPY_MODEL_b848fa1f848348079650e1897429c3fa",
            "value": "Login successful"
          }
        },
        "3bc4f28421f8430d8640f292e94d8c64": {
          "model_module": "@jupyter-widgets/base",
          "model_module_version": "1.2.0",
          "model_name": "LayoutModel",
          "state": {
            "_model_module": "@jupyter-widgets/base",
            "_model_module_version": "1.2.0",
            "_model_name": "LayoutModel",
            "_view_count": null,
            "_view_module": "@jupyter-widgets/base",
            "_view_module_version": "1.2.0",
            "_view_name": "LayoutView",
            "align_content": null,
            "align_items": null,
            "align_self": null,
            "border": null,
            "bottom": null,
            "display": null,
            "flex": null,
            "flex_flow": null,
            "grid_area": null,
            "grid_auto_columns": null,
            "grid_auto_flow": null,
            "grid_auto_rows": null,
            "grid_column": null,
            "grid_gap": null,
            "grid_row": null,
            "grid_template_areas": null,
            "grid_template_columns": null,
            "grid_template_rows": null,
            "height": null,
            "justify_content": null,
            "justify_items": null,
            "left": null,
            "margin": null,
            "max_height": null,
            "max_width": null,
            "min_height": null,
            "min_width": null,
            "object_fit": null,
            "object_position": null,
            "order": null,
            "overflow": null,
            "overflow_x": null,
            "overflow_y": null,
            "padding": null,
            "right": null,
            "top": null,
            "visibility": null,
            "width": null
          }
        },
        "3f1d4ce564974fa5be80e15978afb915": {
          "model_module": "@jupyter-widgets/base",
          "model_module_version": "1.2.0",
          "model_name": "LayoutModel",
          "state": {
            "_model_module": "@jupyter-widgets/base",
            "_model_module_version": "1.2.0",
            "_model_name": "LayoutModel",
            "_view_count": null,
            "_view_module": "@jupyter-widgets/base",
            "_view_module_version": "1.2.0",
            "_view_name": "LayoutView",
            "align_content": null,
            "align_items": null,
            "align_self": null,
            "border": null,
            "bottom": null,
            "display": null,
            "flex": null,
            "flex_flow": null,
            "grid_area": null,
            "grid_auto_columns": null,
            "grid_auto_flow": null,
            "grid_auto_rows": null,
            "grid_column": null,
            "grid_gap": null,
            "grid_row": null,
            "grid_template_areas": null,
            "grid_template_columns": null,
            "grid_template_rows": null,
            "height": null,
            "justify_content": null,
            "justify_items": null,
            "left": null,
            "margin": null,
            "max_height": null,
            "max_width": null,
            "min_height": null,
            "min_width": null,
            "object_fit": null,
            "object_position": null,
            "order": null,
            "overflow": null,
            "overflow_x": null,
            "overflow_y": null,
            "padding": null,
            "right": null,
            "top": null,
            "visibility": null,
            "width": null
          }
        },
        "47d938799f6149bca0349e65366cad51": {
          "model_module": "@jupyter-widgets/controls",
          "model_module_version": "1.5.0",
          "model_name": "FloatProgressModel",
          "state": {
            "_dom_classes": [],
            "_model_module": "@jupyter-widgets/controls",
            "_model_module_version": "1.5.0",
            "_model_name": "FloatProgressModel",
            "_view_count": null,
            "_view_module": "@jupyter-widgets/controls",
            "_view_module_version": "1.5.0",
            "_view_name": "ProgressView",
            "bar_style": "success",
            "description": "",
            "description_tooltip": null,
            "layout": "IPY_MODEL_a71b7b35ac20470aa715857fe4eac0d3",
            "max": 4000,
            "min": 0,
            "orientation": "horizontal",
            "style": "IPY_MODEL_4cb94bfc2fc94e8b8787f41612b7f749",
            "value": 4000
          }
        },
        "4c01bea3d08d4d7b956752b43697c996": {
          "model_module": "@jupyter-widgets/base",
          "model_module_version": "1.2.0",
          "model_name": "LayoutModel",
          "state": {
            "_model_module": "@jupyter-widgets/base",
            "_model_module_version": "1.2.0",
            "_model_name": "LayoutModel",
            "_view_count": null,
            "_view_module": "@jupyter-widgets/base",
            "_view_module_version": "1.2.0",
            "_view_name": "LayoutView",
            "align_content": null,
            "align_items": null,
            "align_self": null,
            "border": null,
            "bottom": null,
            "display": null,
            "flex": null,
            "flex_flow": null,
            "grid_area": null,
            "grid_auto_columns": null,
            "grid_auto_flow": null,
            "grid_auto_rows": null,
            "grid_column": null,
            "grid_gap": null,
            "grid_row": null,
            "grid_template_areas": null,
            "grid_template_columns": null,
            "grid_template_rows": null,
            "height": null,
            "justify_content": null,
            "justify_items": null,
            "left": null,
            "margin": null,
            "max_height": null,
            "max_width": null,
            "min_height": null,
            "min_width": null,
            "object_fit": null,
            "object_position": null,
            "order": null,
            "overflow": null,
            "overflow_x": null,
            "overflow_y": null,
            "padding": null,
            "right": null,
            "top": null,
            "visibility": null,
            "width": null
          }
        },
        "4cb94bfc2fc94e8b8787f41612b7f749": {
          "model_module": "@jupyter-widgets/controls",
          "model_module_version": "1.5.0",
          "model_name": "ProgressStyleModel",
          "state": {
            "_model_module": "@jupyter-widgets/controls",
            "_model_module_version": "1.5.0",
            "_model_name": "ProgressStyleModel",
            "_view_count": null,
            "_view_module": "@jupyter-widgets/base",
            "_view_module_version": "1.2.0",
            "_view_name": "StyleView",
            "bar_color": null,
            "description_width": ""
          }
        },
        "54f7632a7d3047ce9b6e9333ac871248": {
          "model_module": "@jupyter-widgets/base",
          "model_module_version": "1.2.0",
          "model_name": "LayoutModel",
          "state": {
            "_model_module": "@jupyter-widgets/base",
            "_model_module_version": "1.2.0",
            "_model_name": "LayoutModel",
            "_view_count": null,
            "_view_module": "@jupyter-widgets/base",
            "_view_module_version": "1.2.0",
            "_view_name": "LayoutView",
            "align_content": null,
            "align_items": null,
            "align_self": null,
            "border": null,
            "bottom": null,
            "display": null,
            "flex": null,
            "flex_flow": null,
            "grid_area": null,
            "grid_auto_columns": null,
            "grid_auto_flow": null,
            "grid_auto_rows": null,
            "grid_column": null,
            "grid_gap": null,
            "grid_row": null,
            "grid_template_areas": null,
            "grid_template_columns": null,
            "grid_template_rows": null,
            "height": null,
            "justify_content": null,
            "justify_items": null,
            "left": null,
            "margin": null,
            "max_height": null,
            "max_width": null,
            "min_height": null,
            "min_width": null,
            "object_fit": null,
            "object_position": null,
            "order": null,
            "overflow": null,
            "overflow_x": null,
            "overflow_y": null,
            "padding": null,
            "right": null,
            "top": null,
            "visibility": null,
            "width": null
          }
        },
        "5db308d5b97f44c48fbedbbf0dbbf97e": {
          "model_module": "@jupyter-widgets/controls",
          "model_module_version": "1.5.0",
          "model_name": "FloatProgressModel",
          "state": {
            "_dom_classes": [],
            "_model_module": "@jupyter-widgets/controls",
            "_model_module_version": "1.5.0",
            "_model_name": "FloatProgressModel",
            "_view_count": null,
            "_view_module": "@jupyter-widgets/controls",
            "_view_module_version": "1.5.0",
            "_view_name": "ProgressView",
            "bar_style": "success",
            "description": "",
            "description_tooltip": null,
            "layout": "IPY_MODEL_f7794110d28344d8b713c63aa5ec0e21",
            "max": 20000,
            "min": 0,
            "orientation": "horizontal",
            "style": "IPY_MODEL_6090c48a151a42d5a4daa26662177e7c",
            "value": 20000
          }
        },
        "5e12365361ab4641a7ba003c86d77586": {
          "model_module": "@jupyter-widgets/controls",
          "model_module_version": "1.5.0",
          "model_name": "HTMLModel",
          "state": {
            "_dom_classes": [],
            "_model_module": "@jupyter-widgets/controls",
            "_model_module_version": "1.5.0",
            "_model_name": "HTMLModel",
            "_view_count": null,
            "_view_module": "@jupyter-widgets/controls",
            "_view_module_version": "1.5.0",
            "_view_name": "HTMLView",
            "description": "",
            "description_tooltip": null,
            "layout": "IPY_MODEL_68b672b53c8a4a1097f47c2a850ce1a0",
            "placeholder": "​",
            "style": "IPY_MODEL_12f37aede6d249dd817b16db3b12b099",
            "value": "Preprocessing: 100%"
          }
        },
        "6090c48a151a42d5a4daa26662177e7c": {
          "model_module": "@jupyter-widgets/controls",
          "model_module_version": "1.5.0",
          "model_name": "ProgressStyleModel",
          "state": {
            "_model_module": "@jupyter-widgets/controls",
            "_model_module_version": "1.5.0",
            "_model_name": "ProgressStyleModel",
            "_view_count": null,
            "_view_module": "@jupyter-widgets/base",
            "_view_module_version": "1.2.0",
            "_view_name": "StyleView",
            "bar_color": null,
            "description_width": ""
          }
        },
        "6360e06ae7e74b89ad45dd1bb4413342": {
          "model_module": "@jupyter-widgets/controls",
          "model_module_version": "1.5.0",
          "model_name": "PasswordModel",
          "state": {
            "_dom_classes": [],
            "_model_module": "@jupyter-widgets/controls",
            "_model_module_version": "1.5.0",
            "_model_name": "PasswordModel",
            "_view_count": null,
            "_view_module": "@jupyter-widgets/controls",
            "_view_module_version": "1.5.0",
            "_view_name": "PasswordView",
            "continuous_update": true,
            "description": "Token:",
            "description_tooltip": null,
            "disabled": false,
            "layout": "IPY_MODEL_3bc4f28421f8430d8640f292e94d8c64",
            "placeholder": "​",
            "style": "IPY_MODEL_96edc1fed27340c692bf75fd4fc9c5d2",
            "value": ""
          }
        },
        "651b42c5bcb446e58ee60d07411982cf": {
          "model_module": "@jupyter-widgets/controls",
          "model_module_version": "1.5.0",
          "model_name": "HBoxModel",
          "state": {
            "_dom_classes": [],
            "_model_module": "@jupyter-widgets/controls",
            "_model_module_version": "1.5.0",
            "_model_name": "HBoxModel",
            "_view_count": null,
            "_view_module": "@jupyter-widgets/controls",
            "_view_module_version": "1.5.0",
            "_view_name": "HBoxView",
            "box_style": "",
            "children": [
              "IPY_MODEL_e2c20c8499e1439c83e12333b6876280",
              "IPY_MODEL_47d938799f6149bca0349e65366cad51",
              "IPY_MODEL_24b53ee1f6b44eb996574e5c8d9231b8"
            ],
            "layout": "IPY_MODEL_3f1d4ce564974fa5be80e15978afb915"
          }
        },
        "657bc2cc2cb744c4a1f72488b58d53b0": {
          "model_module": "@jupyter-widgets/controls",
          "model_module_version": "1.5.0",
          "model_name": "DescriptionStyleModel",
          "state": {
            "_model_module": "@jupyter-widgets/controls",
            "_model_module_version": "1.5.0",
            "_model_name": "DescriptionStyleModel",
            "_view_count": null,
            "_view_module": "@jupyter-widgets/base",
            "_view_module_version": "1.2.0",
            "_view_name": "StyleView",
            "description_width": ""
          }
        },
        "680bcce08dd645f9badcfd5a9f53dc4f": {
          "model_module": "@jupyter-widgets/base",
          "model_module_version": "1.2.0",
          "model_name": "LayoutModel",
          "state": {
            "_model_module": "@jupyter-widgets/base",
            "_model_module_version": "1.2.0",
            "_model_name": "LayoutModel",
            "_view_count": null,
            "_view_module": "@jupyter-widgets/base",
            "_view_module_version": "1.2.0",
            "_view_name": "LayoutView",
            "align_content": null,
            "align_items": null,
            "align_self": null,
            "border": null,
            "bottom": null,
            "display": null,
            "flex": null,
            "flex_flow": null,
            "grid_area": null,
            "grid_auto_columns": null,
            "grid_auto_flow": null,
            "grid_auto_rows": null,
            "grid_column": null,
            "grid_gap": null,
            "grid_row": null,
            "grid_template_areas": null,
            "grid_template_columns": null,
            "grid_template_rows": null,
            "height": null,
            "justify_content": null,
            "justify_items": null,
            "left": null,
            "margin": null,
            "max_height": null,
            "max_width": null,
            "min_height": null,
            "min_width": null,
            "object_fit": null,
            "object_position": null,
            "order": null,
            "overflow": null,
            "overflow_x": null,
            "overflow_y": null,
            "padding": null,
            "right": null,
            "top": null,
            "visibility": null,
            "width": null
          }
        },
        "68b672b53c8a4a1097f47c2a850ce1a0": {
          "model_module": "@jupyter-widgets/base",
          "model_module_version": "1.2.0",
          "model_name": "LayoutModel",
          "state": {
            "_model_module": "@jupyter-widgets/base",
            "_model_module_version": "1.2.0",
            "_model_name": "LayoutModel",
            "_view_count": null,
            "_view_module": "@jupyter-widgets/base",
            "_view_module_version": "1.2.0",
            "_view_name": "LayoutView",
            "align_content": null,
            "align_items": null,
            "align_self": null,
            "border": null,
            "bottom": null,
            "display": null,
            "flex": null,
            "flex_flow": null,
            "grid_area": null,
            "grid_auto_columns": null,
            "grid_auto_flow": null,
            "grid_auto_rows": null,
            "grid_column": null,
            "grid_gap": null,
            "grid_row": null,
            "grid_template_areas": null,
            "grid_template_columns": null,
            "grid_template_rows": null,
            "height": null,
            "justify_content": null,
            "justify_items": null,
            "left": null,
            "margin": null,
            "max_height": null,
            "max_width": null,
            "min_height": null,
            "min_width": null,
            "object_fit": null,
            "object_position": null,
            "order": null,
            "overflow": null,
            "overflow_x": null,
            "overflow_y": null,
            "padding": null,
            "right": null,
            "top": null,
            "visibility": null,
            "width": null
          }
        },
        "6fe80fdd065148a2b8f6eebf0862123a": {
          "model_module": "@jupyter-widgets/controls",
          "model_module_version": "1.5.0",
          "model_name": "DescriptionStyleModel",
          "state": {
            "_model_module": "@jupyter-widgets/controls",
            "_model_module_version": "1.5.0",
            "_model_name": "DescriptionStyleModel",
            "_view_count": null,
            "_view_module": "@jupyter-widgets/base",
            "_view_module_version": "1.2.0",
            "_view_name": "StyleView",
            "description_width": ""
          }
        },
        "730e7bfb278a433bac4fedce9538cf0d": {
          "model_module": "@jupyter-widgets/controls",
          "model_module_version": "1.5.0",
          "model_name": "ButtonModel",
          "state": {
            "_dom_classes": [],
            "_model_module": "@jupyter-widgets/controls",
            "_model_module_version": "1.5.0",
            "_model_name": "ButtonModel",
            "_view_count": null,
            "_view_module": "@jupyter-widgets/controls",
            "_view_module_version": "1.5.0",
            "_view_name": "ButtonView",
            "button_style": "",
            "description": "Login",
            "disabled": false,
            "icon": "",
            "layout": "IPY_MODEL_a5c25ef7145d4a819569b30c10b3db22",
            "style": "IPY_MODEL_be723d54691348868cff55a8ba046eab",
            "tooltip": ""
          }
        },
        "7904667e67424983aeacfdf6fceab2a3": {
          "model_module": "@jupyter-widgets/controls",
          "model_module_version": "1.5.0",
          "model_name": "HBoxModel",
          "state": {
            "_dom_classes": [],
            "_model_module": "@jupyter-widgets/controls",
            "_model_module_version": "1.5.0",
            "_model_name": "HBoxModel",
            "_view_count": null,
            "_view_module": "@jupyter-widgets/controls",
            "_view_module_version": "1.5.0",
            "_view_name": "HBoxView",
            "box_style": "",
            "children": [
              "IPY_MODEL_5e12365361ab4641a7ba003c86d77586",
              "IPY_MODEL_5db308d5b97f44c48fbedbbf0dbbf97e",
              "IPY_MODEL_8496b3a8f89b420bbd64ba2f7e6fa6f5"
            ],
            "layout": "IPY_MODEL_4c01bea3d08d4d7b956752b43697c996"
          }
        },
        "79887438173e4ad4a55a46e735ec569c": {
          "model_module": "@jupyter-widgets/controls",
          "model_module_version": "1.5.0",
          "model_name": "DescriptionStyleModel",
          "state": {
            "_model_module": "@jupyter-widgets/controls",
            "_model_module_version": "1.5.0",
            "_model_name": "DescriptionStyleModel",
            "_view_count": null,
            "_view_module": "@jupyter-widgets/base",
            "_view_module_version": "1.2.0",
            "_view_name": "StyleView",
            "description_width": ""
          }
        },
        "7b0317bfb8d742a09a3aa2c0ebb9773c": {
          "model_module": "@jupyter-widgets/base",
          "model_module_version": "1.2.0",
          "model_name": "LayoutModel",
          "state": {
            "_model_module": "@jupyter-widgets/base",
            "_model_module_version": "1.2.0",
            "_model_name": "LayoutModel",
            "_view_count": null,
            "_view_module": "@jupyter-widgets/base",
            "_view_module_version": "1.2.0",
            "_view_name": "LayoutView",
            "align_content": null,
            "align_items": null,
            "align_self": null,
            "border": null,
            "bottom": null,
            "display": null,
            "flex": null,
            "flex_flow": null,
            "grid_area": null,
            "grid_auto_columns": null,
            "grid_auto_flow": null,
            "grid_auto_rows": null,
            "grid_column": null,
            "grid_gap": null,
            "grid_row": null,
            "grid_template_areas": null,
            "grid_template_columns": null,
            "grid_template_rows": null,
            "height": null,
            "justify_content": null,
            "justify_items": null,
            "left": null,
            "margin": null,
            "max_height": null,
            "max_width": null,
            "min_height": null,
            "min_width": null,
            "object_fit": null,
            "object_position": null,
            "order": null,
            "overflow": null,
            "overflow_x": null,
            "overflow_y": null,
            "padding": null,
            "right": null,
            "top": null,
            "visibility": null,
            "width": null
          }
        },
        "7f556609234146d08c78c0bbea32ec93": {
          "model_module": "@jupyter-widgets/controls",
          "model_module_version": "1.5.0",
          "model_name": "DescriptionStyleModel",
          "state": {
            "_model_module": "@jupyter-widgets/controls",
            "_model_module_version": "1.5.0",
            "_model_name": "DescriptionStyleModel",
            "_view_count": null,
            "_view_module": "@jupyter-widgets/base",
            "_view_module_version": "1.2.0",
            "_view_name": "StyleView",
            "description_width": ""
          }
        },
        "8496b3a8f89b420bbd64ba2f7e6fa6f5": {
          "model_module": "@jupyter-widgets/controls",
          "model_module_version": "1.5.0",
          "model_name": "HTMLModel",
          "state": {
            "_dom_classes": [],
            "_model_module": "@jupyter-widgets/controls",
            "_model_module_version": "1.5.0",
            "_model_name": "HTMLModel",
            "_view_count": null,
            "_view_module": "@jupyter-widgets/controls",
            "_view_module_version": "1.5.0",
            "_view_name": "HTMLView",
            "description": "",
            "description_tooltip": null,
            "layout": "IPY_MODEL_fc46c0fc11814ef9bb9045d2dad97234",
            "placeholder": "​",
            "style": "IPY_MODEL_79887438173e4ad4a55a46e735ec569c",
            "value": " 20000/20000 [00:05&lt;00:00, 4445.08it/s]"
          }
        },
        "90cea132a5114445922194fa5aea05d1": {
          "model_module": "@jupyter-widgets/controls",
          "model_module_version": "1.5.0",
          "model_name": "DescriptionStyleModel",
          "state": {
            "_model_module": "@jupyter-widgets/controls",
            "_model_module_version": "1.5.0",
            "_model_name": "DescriptionStyleModel",
            "_view_count": null,
            "_view_module": "@jupyter-widgets/base",
            "_view_module_version": "1.2.0",
            "_view_name": "StyleView",
            "description_width": ""
          }
        },
        "923e1b7fbd8b49bdabcd4f00f714be14": {
          "model_module": "@jupyter-widgets/controls",
          "model_module_version": "1.5.0",
          "model_name": "VBoxModel",
          "state": {
            "_dom_classes": [],
            "_model_module": "@jupyter-widgets/controls",
            "_model_module_version": "1.5.0",
            "_model_name": "VBoxModel",
            "_view_count": null,
            "_view_module": "@jupyter-widgets/controls",
            "_view_module_version": "1.5.0",
            "_view_name": "VBoxView",
            "box_style": "",
            "children": [
              "IPY_MODEL_9f025708b4034c879c0a4249378fadc3",
              "IPY_MODEL_f03f81ec0bc44602be760ff2f548a5fd",
              "IPY_MODEL_038710f43d7a48dc8660458c680b35fb",
              "IPY_MODEL_368cc160a1bb43b7b11f7991b2d55d5a"
            ],
            "layout": "IPY_MODEL_b6caf3716cd4411cb727f34683958bf6"
          }
        },
        "94bc6056062746bc8b1cfbfa3292a241": {
          "model_module": "@jupyter-widgets/base",
          "model_module_version": "1.2.0",
          "model_name": "LayoutModel",
          "state": {
            "_model_module": "@jupyter-widgets/base",
            "_model_module_version": "1.2.0",
            "_model_name": "LayoutModel",
            "_view_count": null,
            "_view_module": "@jupyter-widgets/base",
            "_view_module_version": "1.2.0",
            "_view_name": "LayoutView",
            "align_content": null,
            "align_items": null,
            "align_self": null,
            "border": null,
            "bottom": null,
            "display": null,
            "flex": null,
            "flex_flow": null,
            "grid_area": null,
            "grid_auto_columns": null,
            "grid_auto_flow": null,
            "grid_auto_rows": null,
            "grid_column": null,
            "grid_gap": null,
            "grid_row": null,
            "grid_template_areas": null,
            "grid_template_columns": null,
            "grid_template_rows": null,
            "height": null,
            "justify_content": null,
            "justify_items": null,
            "left": null,
            "margin": null,
            "max_height": null,
            "max_width": null,
            "min_height": null,
            "min_width": null,
            "object_fit": null,
            "object_position": null,
            "order": null,
            "overflow": null,
            "overflow_x": null,
            "overflow_y": null,
            "padding": null,
            "right": null,
            "top": null,
            "visibility": null,
            "width": null
          }
        },
        "96edc1fed27340c692bf75fd4fc9c5d2": {
          "model_module": "@jupyter-widgets/controls",
          "model_module_version": "1.5.0",
          "model_name": "DescriptionStyleModel",
          "state": {
            "_model_module": "@jupyter-widgets/controls",
            "_model_module_version": "1.5.0",
            "_model_name": "DescriptionStyleModel",
            "_view_count": null,
            "_view_module": "@jupyter-widgets/base",
            "_view_module_version": "1.2.0",
            "_view_name": "StyleView",
            "description_width": ""
          }
        },
        "9f025708b4034c879c0a4249378fadc3": {
          "model_module": "@jupyter-widgets/controls",
          "model_module_version": "1.5.0",
          "model_name": "LabelModel",
          "state": {
            "_dom_classes": [],
            "_model_module": "@jupyter-widgets/controls",
            "_model_module_version": "1.5.0",
            "_model_name": "LabelModel",
            "_view_count": null,
            "_view_module": "@jupyter-widgets/controls",
            "_view_module_version": "1.5.0",
            "_view_name": "LabelView",
            "description": "",
            "description_tooltip": null,
            "layout": "IPY_MODEL_94bc6056062746bc8b1cfbfa3292a241",
            "placeholder": "​",
            "style": "IPY_MODEL_6fe80fdd065148a2b8f6eebf0862123a",
            "value": "Token is valid (permission: write)."
          }
        },
        "a5c25ef7145d4a819569b30c10b3db22": {
          "model_module": "@jupyter-widgets/base",
          "model_module_version": "1.2.0",
          "model_name": "LayoutModel",
          "state": {
            "_model_module": "@jupyter-widgets/base",
            "_model_module_version": "1.2.0",
            "_model_name": "LayoutModel",
            "_view_count": null,
            "_view_module": "@jupyter-widgets/base",
            "_view_module_version": "1.2.0",
            "_view_name": "LayoutView",
            "align_content": null,
            "align_items": null,
            "align_self": null,
            "border": null,
            "bottom": null,
            "display": null,
            "flex": null,
            "flex_flow": null,
            "grid_area": null,
            "grid_auto_columns": null,
            "grid_auto_flow": null,
            "grid_auto_rows": null,
            "grid_column": null,
            "grid_gap": null,
            "grid_row": null,
            "grid_template_areas": null,
            "grid_template_columns": null,
            "grid_template_rows": null,
            "height": null,
            "justify_content": null,
            "justify_items": null,
            "left": null,
            "margin": null,
            "max_height": null,
            "max_width": null,
            "min_height": null,
            "min_width": null,
            "object_fit": null,
            "object_position": null,
            "order": null,
            "overflow": null,
            "overflow_x": null,
            "overflow_y": null,
            "padding": null,
            "right": null,
            "top": null,
            "visibility": null,
            "width": null
          }
        },
        "a71b7b35ac20470aa715857fe4eac0d3": {
          "model_module": "@jupyter-widgets/base",
          "model_module_version": "1.2.0",
          "model_name": "LayoutModel",
          "state": {
            "_model_module": "@jupyter-widgets/base",
            "_model_module_version": "1.2.0",
            "_model_name": "LayoutModel",
            "_view_count": null,
            "_view_module": "@jupyter-widgets/base",
            "_view_module_version": "1.2.0",
            "_view_name": "LayoutView",
            "align_content": null,
            "align_items": null,
            "align_self": null,
            "border": null,
            "bottom": null,
            "display": null,
            "flex": null,
            "flex_flow": null,
            "grid_area": null,
            "grid_auto_columns": null,
            "grid_auto_flow": null,
            "grid_auto_rows": null,
            "grid_column": null,
            "grid_gap": null,
            "grid_row": null,
            "grid_template_areas": null,
            "grid_template_columns": null,
            "grid_template_rows": null,
            "height": null,
            "justify_content": null,
            "justify_items": null,
            "left": null,
            "margin": null,
            "max_height": null,
            "max_width": null,
            "min_height": null,
            "min_width": null,
            "object_fit": null,
            "object_position": null,
            "order": null,
            "overflow": null,
            "overflow_x": null,
            "overflow_y": null,
            "padding": null,
            "right": null,
            "top": null,
            "visibility": null,
            "width": null
          }
        },
        "b6caf3716cd4411cb727f34683958bf6": {
          "model_module": "@jupyter-widgets/base",
          "model_module_version": "1.2.0",
          "model_name": "LayoutModel",
          "state": {
            "_model_module": "@jupyter-widgets/base",
            "_model_module_version": "1.2.0",
            "_model_name": "LayoutModel",
            "_view_count": null,
            "_view_module": "@jupyter-widgets/base",
            "_view_module_version": "1.2.0",
            "_view_name": "LayoutView",
            "align_content": null,
            "align_items": "center",
            "align_self": null,
            "border": null,
            "bottom": null,
            "display": "flex",
            "flex": null,
            "flex_flow": "column",
            "grid_area": null,
            "grid_auto_columns": null,
            "grid_auto_flow": null,
            "grid_auto_rows": null,
            "grid_column": null,
            "grid_gap": null,
            "grid_row": null,
            "grid_template_areas": null,
            "grid_template_columns": null,
            "grid_template_rows": null,
            "height": null,
            "justify_content": null,
            "justify_items": null,
            "left": null,
            "margin": null,
            "max_height": null,
            "max_width": null,
            "min_height": null,
            "min_width": null,
            "object_fit": null,
            "object_position": null,
            "order": null,
            "overflow": null,
            "overflow_x": null,
            "overflow_y": null,
            "padding": null,
            "right": null,
            "top": null,
            "visibility": null,
            "width": "50%"
          }
        },
        "b809d01b8cd344d98f2273b3ae8f7ffb": {
          "model_module": "@jupyter-widgets/controls",
          "model_module_version": "1.5.0",
          "model_name": "HTMLModel",
          "state": {
            "_dom_classes": [],
            "_model_module": "@jupyter-widgets/controls",
            "_model_module_version": "1.5.0",
            "_model_name": "HTMLModel",
            "_view_count": null,
            "_view_module": "@jupyter-widgets/controls",
            "_view_module_version": "1.5.0",
            "_view_name": "HTMLView",
            "description": "",
            "description_tooltip": null,
            "layout": "IPY_MODEL_2480db893d3b43379c2aff68f421eb07",
            "placeholder": "​",
            "style": "IPY_MODEL_e8fd4b2f11b749ca9ef44d94353e13f0",
            "value": "<center> <img\nsrc=https://huggingface.co/front/assets/huggingface_logo-noborder.svg\nalt='Hugging Face'> <br> Copy a token from <a\nhref=\"https://huggingface.co/settings/tokens\" target=\"_blank\">your Hugging Face\ntokens page</a> and paste it below. <br> Immediately click login after copying\nyour token or it might be stored in plain text in this notebook file. </center>"
          }
        },
        "b848fa1f848348079650e1897429c3fa": {
          "model_module": "@jupyter-widgets/controls",
          "model_module_version": "1.5.0",
          "model_name": "DescriptionStyleModel",
          "state": {
            "_model_module": "@jupyter-widgets/controls",
            "_model_module_version": "1.5.0",
            "_model_name": "DescriptionStyleModel",
            "_view_count": null,
            "_view_module": "@jupyter-widgets/base",
            "_view_module_version": "1.2.0",
            "_view_name": "StyleView",
            "description_width": ""
          }
        },
        "be723d54691348868cff55a8ba046eab": {
          "model_module": "@jupyter-widgets/controls",
          "model_module_version": "1.5.0",
          "model_name": "ButtonStyleModel",
          "state": {
            "_model_module": "@jupyter-widgets/controls",
            "_model_module_version": "1.5.0",
            "_model_name": "ButtonStyleModel",
            "_view_count": null,
            "_view_module": "@jupyter-widgets/base",
            "_view_module_version": "1.2.0",
            "_view_name": "StyleView",
            "button_color": null,
            "font_weight": ""
          }
        },
        "e2c20c8499e1439c83e12333b6876280": {
          "model_module": "@jupyter-widgets/controls",
          "model_module_version": "1.5.0",
          "model_name": "HTMLModel",
          "state": {
            "_dom_classes": [],
            "_model_module": "@jupyter-widgets/controls",
            "_model_module_version": "1.5.0",
            "_model_name": "HTMLModel",
            "_view_count": null,
            "_view_module": "@jupyter-widgets/controls",
            "_view_module_version": "1.5.0",
            "_view_name": "HTMLView",
            "description": "",
            "description_tooltip": null,
            "layout": "IPY_MODEL_095ce34a8efb4ebab6df1faf3ab9257a",
            "placeholder": "​",
            "style": "IPY_MODEL_7f556609234146d08c78c0bbea32ec93",
            "value": "100%"
          }
        },
        "e800a5dc461b465c98814786c7b9d42b": {
          "model_module": "@jupyter-widgets/base",
          "model_module_version": "1.2.0",
          "model_name": "LayoutModel",
          "state": {
            "_model_module": "@jupyter-widgets/base",
            "_model_module_version": "1.2.0",
            "_model_name": "LayoutModel",
            "_view_count": null,
            "_view_module": "@jupyter-widgets/base",
            "_view_module_version": "1.2.0",
            "_view_name": "LayoutView",
            "align_content": null,
            "align_items": null,
            "align_self": null,
            "border": null,
            "bottom": null,
            "display": null,
            "flex": null,
            "flex_flow": null,
            "grid_area": null,
            "grid_auto_columns": null,
            "grid_auto_flow": null,
            "grid_auto_rows": null,
            "grid_column": null,
            "grid_gap": null,
            "grid_row": null,
            "grid_template_areas": null,
            "grid_template_columns": null,
            "grid_template_rows": null,
            "height": null,
            "justify_content": null,
            "justify_items": null,
            "left": null,
            "margin": null,
            "max_height": null,
            "max_width": null,
            "min_height": null,
            "min_width": null,
            "object_fit": null,
            "object_position": null,
            "order": null,
            "overflow": null,
            "overflow_x": null,
            "overflow_y": null,
            "padding": null,
            "right": null,
            "top": null,
            "visibility": null,
            "width": null
          }
        },
        "e8fd4b2f11b749ca9ef44d94353e13f0": {
          "model_module": "@jupyter-widgets/controls",
          "model_module_version": "1.5.0",
          "model_name": "DescriptionStyleModel",
          "state": {
            "_model_module": "@jupyter-widgets/controls",
            "_model_module_version": "1.5.0",
            "_model_name": "DescriptionStyleModel",
            "_view_count": null,
            "_view_module": "@jupyter-widgets/base",
            "_view_module_version": "1.2.0",
            "_view_name": "StyleView",
            "description_width": ""
          }
        },
        "ed42110cf0cf47f3aff0853d0452e7d8": {
          "model_module": "@jupyter-widgets/controls",
          "model_module_version": "1.5.0",
          "model_name": "DescriptionStyleModel",
          "state": {
            "_model_module": "@jupyter-widgets/controls",
            "_model_module_version": "1.5.0",
            "_model_name": "DescriptionStyleModel",
            "_view_count": null,
            "_view_module": "@jupyter-widgets/base",
            "_view_module_version": "1.2.0",
            "_view_name": "StyleView",
            "description_width": ""
          }
        },
        "ee83043d95cc4bee83a14456fbd7c01c": {
          "model_module": "@jupyter-widgets/base",
          "model_module_version": "1.2.0",
          "model_name": "LayoutModel",
          "state": {
            "_model_module": "@jupyter-widgets/base",
            "_model_module_version": "1.2.0",
            "_model_name": "LayoutModel",
            "_view_count": null,
            "_view_module": "@jupyter-widgets/base",
            "_view_module_version": "1.2.0",
            "_view_name": "LayoutView",
            "align_content": null,
            "align_items": null,
            "align_self": null,
            "border": null,
            "bottom": null,
            "display": null,
            "flex": null,
            "flex_flow": null,
            "grid_area": null,
            "grid_auto_columns": null,
            "grid_auto_flow": null,
            "grid_auto_rows": null,
            "grid_column": null,
            "grid_gap": null,
            "grid_row": null,
            "grid_template_areas": null,
            "grid_template_columns": null,
            "grid_template_rows": null,
            "height": null,
            "justify_content": null,
            "justify_items": null,
            "left": null,
            "margin": null,
            "max_height": null,
            "max_width": null,
            "min_height": null,
            "min_width": null,
            "object_fit": null,
            "object_position": null,
            "order": null,
            "overflow": null,
            "overflow_x": null,
            "overflow_y": null,
            "padding": null,
            "right": null,
            "top": null,
            "visibility": null,
            "width": null
          }
        },
        "f03f81ec0bc44602be760ff2f548a5fd": {
          "model_module": "@jupyter-widgets/controls",
          "model_module_version": "1.5.0",
          "model_name": "LabelModel",
          "state": {
            "_dom_classes": [],
            "_model_module": "@jupyter-widgets/controls",
            "_model_module_version": "1.5.0",
            "_model_name": "LabelModel",
            "_view_count": null,
            "_view_module": "@jupyter-widgets/controls",
            "_view_module_version": "1.5.0",
            "_view_name": "LabelView",
            "description": "",
            "description_tooltip": null,
            "layout": "IPY_MODEL_680bcce08dd645f9badcfd5a9f53dc4f",
            "placeholder": "​",
            "style": "IPY_MODEL_1d5d3e06619c4084b41ab120e8476c6d",
            "value": "Your token has been saved in your configured git credential helpers (store)."
          }
        },
        "f701050853814fff9c33373ab92deb43": {
          "model_module": "@jupyter-widgets/base",
          "model_module_version": "1.2.0",
          "model_name": "LayoutModel",
          "state": {
            "_model_module": "@jupyter-widgets/base",
            "_model_module_version": "1.2.0",
            "_model_name": "LayoutModel",
            "_view_count": null,
            "_view_module": "@jupyter-widgets/base",
            "_view_module_version": "1.2.0",
            "_view_name": "LayoutView",
            "align_content": null,
            "align_items": null,
            "align_self": null,
            "border": null,
            "bottom": null,
            "display": null,
            "flex": null,
            "flex_flow": null,
            "grid_area": null,
            "grid_auto_columns": null,
            "grid_auto_flow": null,
            "grid_auto_rows": null,
            "grid_column": null,
            "grid_gap": null,
            "grid_row": null,
            "grid_template_areas": null,
            "grid_template_columns": null,
            "grid_template_rows": null,
            "height": null,
            "justify_content": null,
            "justify_items": null,
            "left": null,
            "margin": null,
            "max_height": null,
            "max_width": null,
            "min_height": null,
            "min_width": null,
            "object_fit": null,
            "object_position": null,
            "order": null,
            "overflow": null,
            "overflow_x": null,
            "overflow_y": null,
            "padding": null,
            "right": null,
            "top": null,
            "visibility": null,
            "width": null
          }
        },
        "f7794110d28344d8b713c63aa5ec0e21": {
          "model_module": "@jupyter-widgets/base",
          "model_module_version": "1.2.0",
          "model_name": "LayoutModel",
          "state": {
            "_model_module": "@jupyter-widgets/base",
            "_model_module_version": "1.2.0",
            "_model_name": "LayoutModel",
            "_view_count": null,
            "_view_module": "@jupyter-widgets/base",
            "_view_module_version": "1.2.0",
            "_view_name": "LayoutView",
            "align_content": null,
            "align_items": null,
            "align_self": null,
            "border": null,
            "bottom": null,
            "display": null,
            "flex": null,
            "flex_flow": null,
            "grid_area": null,
            "grid_auto_columns": null,
            "grid_auto_flow": null,
            "grid_auto_rows": null,
            "grid_column": null,
            "grid_gap": null,
            "grid_row": null,
            "grid_template_areas": null,
            "grid_template_columns": null,
            "grid_template_rows": null,
            "height": null,
            "justify_content": null,
            "justify_items": null,
            "left": null,
            "margin": null,
            "max_height": null,
            "max_width": null,
            "min_height": null,
            "min_width": null,
            "object_fit": null,
            "object_position": null,
            "order": null,
            "overflow": null,
            "overflow_x": null,
            "overflow_y": null,
            "padding": null,
            "right": null,
            "top": null,
            "visibility": null,
            "width": null
          }
        },
        "fc46c0fc11814ef9bb9045d2dad97234": {
          "model_module": "@jupyter-widgets/base",
          "model_module_version": "1.2.0",
          "model_name": "LayoutModel",
          "state": {
            "_model_module": "@jupyter-widgets/base",
            "_model_module_version": "1.2.0",
            "_model_name": "LayoutModel",
            "_view_count": null,
            "_view_module": "@jupyter-widgets/base",
            "_view_module_version": "1.2.0",
            "_view_name": "LayoutView",
            "align_content": null,
            "align_items": null,
            "align_self": null,
            "border": null,
            "bottom": null,
            "display": null,
            "flex": null,
            "flex_flow": null,
            "grid_area": null,
            "grid_auto_columns": null,
            "grid_auto_flow": null,
            "grid_auto_rows": null,
            "grid_column": null,
            "grid_gap": null,
            "grid_row": null,
            "grid_template_areas": null,
            "grid_template_columns": null,
            "grid_template_rows": null,
            "height": null,
            "justify_content": null,
            "justify_items": null,
            "left": null,
            "margin": null,
            "max_height": null,
            "max_width": null,
            "min_height": null,
            "min_width": null,
            "object_fit": null,
            "object_position": null,
            "order": null,
            "overflow": null,
            "overflow_x": null,
            "overflow_y": null,
            "padding": null,
            "right": null,
            "top": null,
            "visibility": null,
            "width": null
          }
        }
      }
    }
  },
  "nbformat": 4,
  "nbformat_minor": 0
}

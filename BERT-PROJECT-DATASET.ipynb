{
  "cells": [
    {
      "cell_type": "markdown",
      "metadata": {
        "colab_type": "text",
        "id": "view-in-github"
      },
      "source": [
        "<a href=\"https://colab.research.google.com/github/LuluW8071/Text-Sentiment-Analysis/blob/main/Text-Sentiment-Analysis-using-BERT.ipynb\" target=\"_parent\"><img src=\"https://colab.research.google.com/assets/colab-badge.svg\" alt=\"Open In Colab\"/></a>"
      ]
    },
    {
      "cell_type": "markdown",
      "metadata": {
        "id": "fMxocdwKAhgv"
      },
      "source": [
        "# Text-Sentiment-Analysis-using-BERT"
      ]
    },
    {
      "cell_type": "code",
      "execution_count": 1,
      "metadata": {
        "colab": {
          "base_uri": "https://localhost:8080/"
        },
        "id": "VFlkWVYFy-QA",
        "outputId": "bc11f971-81ed-4e5d-a2fd-5224ce686fe9"
      },
      "outputs": [
        {
          "name": "stdout",
          "output_type": "stream",
          "text": [
            "Requirement already satisfied: datasets in c:\\users\\mk473\\appdata\\local\\programs\\python\\python310\\lib\\site-packages (3.0.1)\n",
            "Requirement already satisfied: evaluate in c:\\users\\mk473\\appdata\\local\\programs\\python\\python310\\lib\\site-packages (0.4.3)\n",
            "Requirement already satisfied: seaborn in c:\\users\\mk473\\appdata\\local\\programs\\python\\python310\\lib\\site-packages (0.13.2)\n",
            "Requirement already satisfied: transformers[torch] in c:\\users\\mk473\\appdata\\local\\programs\\python\\python310\\lib\\site-packages (4.36.2)\n",
            "Requirement already satisfied: filelock in c:\\users\\mk473\\appdata\\local\\programs\\python\\python310\\lib\\site-packages (from transformers[torch]) (3.13.1)\n",
            "Requirement already satisfied: huggingface-hub<1.0,>=0.19.3 in c:\\users\\mk473\\appdata\\local\\programs\\python\\python310\\lib\\site-packages (from transformers[torch]) (0.23.2)\n",
            "Requirement already satisfied: numpy>=1.17 in c:\\users\\mk473\\appdata\\local\\programs\\python\\python310\\lib\\site-packages (from transformers[torch]) (1.26.2)\n",
            "Requirement already satisfied: packaging>=20.0 in c:\\users\\mk473\\appdata\\local\\programs\\python\\python310\\lib\\site-packages (from transformers[torch]) (23.2)\n",
            "Requirement already satisfied: pyyaml>=5.1 in c:\\users\\mk473\\appdata\\local\\programs\\python\\python310\\lib\\site-packages (from transformers[torch]) (6.0.1)\n",
            "Requirement already satisfied: regex!=2019.12.17 in c:\\users\\mk473\\appdata\\local\\programs\\python\\python310\\lib\\site-packages (from transformers[torch]) (2023.12.25)\n",
            "Requirement already satisfied: requests in c:\\users\\mk473\\appdata\\local\\programs\\python\\python310\\lib\\site-packages (from transformers[torch]) (2.32.3)\n",
            "Requirement already satisfied: tokenizers<0.19,>=0.14 in c:\\users\\mk473\\appdata\\local\\programs\\python\\python310\\lib\\site-packages (from transformers[torch]) (0.15.0)\n",
            "Requirement already satisfied: safetensors>=0.3.1 in c:\\users\\mk473\\appdata\\local\\programs\\python\\python310\\lib\\site-packages (from transformers[torch]) (0.4.1)\n",
            "Requirement already satisfied: tqdm>=4.27 in c:\\users\\mk473\\appdata\\local\\programs\\python\\python310\\lib\\site-packages (from transformers[torch]) (4.66.5)\n",
            "Requirement already satisfied: torch!=1.12.0,>=1.10 in c:\\users\\mk473\\appdata\\local\\programs\\python\\python310\\lib\\site-packages (from transformers[torch]) (2.1.2+cu118)\n",
            "Requirement already satisfied: accelerate>=0.21.0 in c:\\users\\mk473\\appdata\\local\\programs\\python\\python310\\lib\\site-packages (from transformers[torch]) (0.25.0)\n",
            "Requirement already satisfied: pyarrow>=15.0.0 in c:\\users\\mk473\\appdata\\local\\programs\\python\\python310\\lib\\site-packages (from datasets) (17.0.0)\n",
            "Requirement already satisfied: dill<0.3.9,>=0.3.0 in c:\\users\\mk473\\appdata\\local\\programs\\python\\python310\\lib\\site-packages (from datasets) (0.3.8)\n",
            "Requirement already satisfied: pandas in c:\\users\\mk473\\appdata\\local\\programs\\python\\python310\\lib\\site-packages (from datasets) (2.2.3)\n",
            "Requirement already satisfied: xxhash in c:\\users\\mk473\\appdata\\local\\programs\\python\\python310\\lib\\site-packages (from datasets) (3.5.0)\n",
            "Requirement already satisfied: multiprocess in c:\\users\\mk473\\appdata\\local\\programs\\python\\python310\\lib\\site-packages (from datasets) (0.70.16)\n",
            "Requirement already satisfied: fsspec<=2024.6.1,>=2023.1.0 in c:\\users\\mk473\\appdata\\local\\programs\\python\\python310\\lib\\site-packages (from fsspec[http]<=2024.6.1,>=2023.1.0->datasets) (2023.12.2)\n",
            "Requirement already satisfied: aiohttp in c:\\users\\mk473\\appdata\\local\\programs\\python\\python310\\lib\\site-packages (from datasets) (3.9.5)\n",
            "Requirement already satisfied: matplotlib!=3.6.1,>=3.4 in c:\\users\\mk473\\appdata\\local\\programs\\python\\python310\\lib\\site-packages (from seaborn) (3.8.2)\n",
            "Requirement already satisfied: psutil in c:\\users\\mk473\\appdata\\local\\programs\\python\\python310\\lib\\site-packages (from accelerate>=0.21.0->transformers[torch]) (6.0.0)\n",
            "Requirement already satisfied: aiosignal>=1.1.2 in c:\\users\\mk473\\appdata\\local\\programs\\python\\python310\\lib\\site-packages (from aiohttp->datasets) (1.3.1)\n",
            "Requirement already satisfied: attrs>=17.3.0 in c:\\users\\mk473\\appdata\\local\\programs\\python\\python310\\lib\\site-packages (from aiohttp->datasets) (23.2.0)\n",
            "Requirement already satisfied: frozenlist>=1.1.1 in c:\\users\\mk473\\appdata\\local\\programs\\python\\python310\\lib\\site-packages (from aiohttp->datasets) (1.4.1)\n",
            "Requirement already satisfied: multidict<7.0,>=4.5 in c:\\users\\mk473\\appdata\\local\\programs\\python\\python310\\lib\\site-packages (from aiohttp->datasets) (6.0.5)\n",
            "Requirement already satisfied: yarl<2.0,>=1.0 in c:\\users\\mk473\\appdata\\local\\programs\\python\\python310\\lib\\site-packages (from aiohttp->datasets) (1.9.4)\n",
            "Requirement already satisfied: async-timeout<5.0,>=4.0 in c:\\users\\mk473\\appdata\\local\\programs\\python\\python310\\lib\\site-packages (from aiohttp->datasets) (4.0.3)\n",
            "Requirement already satisfied: typing-extensions>=3.7.4.3 in c:\\users\\mk473\\appdata\\local\\programs\\python\\python310\\lib\\site-packages (from huggingface-hub<1.0,>=0.19.3->transformers[torch]) (4.9.0)\n",
            "Requirement already satisfied: contourpy>=1.0.1 in c:\\users\\mk473\\appdata\\local\\programs\\python\\python310\\lib\\site-packages (from matplotlib!=3.6.1,>=3.4->seaborn) (1.2.0)\n",
            "Requirement already satisfied: cycler>=0.10 in c:\\users\\mk473\\appdata\\local\\programs\\python\\python310\\lib\\site-packages (from matplotlib!=3.6.1,>=3.4->seaborn) (0.12.1)\n",
            "Requirement already satisfied: fonttools>=4.22.0 in c:\\users\\mk473\\appdata\\local\\programs\\python\\python310\\lib\\site-packages (from matplotlib!=3.6.1,>=3.4->seaborn) (4.47.2)\n",
            "Requirement already satisfied: kiwisolver>=1.3.1 in c:\\users\\mk473\\appdata\\local\\programs\\python\\python310\\lib\\site-packages (from matplotlib!=3.6.1,>=3.4->seaborn) (1.4.5)\n",
            "Requirement already satisfied: pillow>=8 in c:\\users\\mk473\\appdata\\local\\programs\\python\\python310\\lib\\site-packages (from matplotlib!=3.6.1,>=3.4->seaborn) (10.1.0)\n",
            "Requirement already satisfied: pyparsing>=2.3.1 in c:\\users\\mk473\\appdata\\local\\programs\\python\\python310\\lib\\site-packages (from matplotlib!=3.6.1,>=3.4->seaborn) (3.1.1)\n",
            "Requirement already satisfied: python-dateutil>=2.7 in c:\\users\\mk473\\appdata\\roaming\\python\\python310\\site-packages (from matplotlib!=3.6.1,>=3.4->seaborn) (2.9.0.post0)\n",
            "Requirement already satisfied: pytz>=2020.1 in c:\\users\\mk473\\appdata\\local\\programs\\python\\python310\\lib\\site-packages (from pandas->datasets) (2024.1)\n",
            "Requirement already satisfied: tzdata>=2022.7 in c:\\users\\mk473\\appdata\\local\\programs\\python\\python310\\lib\\site-packages (from pandas->datasets) (2024.2)\n",
            "Requirement already satisfied: charset-normalizer<4,>=2 in c:\\users\\mk473\\appdata\\local\\programs\\python\\python310\\lib\\site-packages (from requests->transformers[torch]) (3.3.2)\n",
            "Requirement already satisfied: idna<4,>=2.5 in c:\\users\\mk473\\appdata\\local\\programs\\python\\python310\\lib\\site-packages (from requests->transformers[torch]) (3.6)\n",
            "Requirement already satisfied: urllib3<3,>=1.21.1 in c:\\users\\mk473\\appdata\\local\\programs\\python\\python310\\lib\\site-packages (from requests->transformers[torch]) (1.26.19)\n",
            "Requirement already satisfied: certifi>=2017.4.17 in c:\\users\\mk473\\appdata\\local\\programs\\python\\python310\\lib\\site-packages (from requests->transformers[torch]) (2023.11.17)\n",
            "Requirement already satisfied: sympy in c:\\users\\mk473\\appdata\\local\\programs\\python\\python310\\lib\\site-packages (from torch!=1.12.0,>=1.10->transformers[torch]) (1.12)\n",
            "Requirement already satisfied: networkx in c:\\users\\mk473\\appdata\\local\\programs\\python\\python310\\lib\\site-packages (from torch!=1.12.0,>=1.10->transformers[torch]) (3.2.1)\n",
            "Requirement already satisfied: jinja2 in c:\\users\\mk473\\appdata\\local\\programs\\python\\python310\\lib\\site-packages (from torch!=1.12.0,>=1.10->transformers[torch]) (3.1.2)\n",
            "Requirement already satisfied: colorama in c:\\users\\mk473\\appdata\\local\\programs\\python\\python310\\lib\\site-packages (from tqdm>=4.27->transformers[torch]) (0.4.6)\n",
            "Requirement already satisfied: six>=1.5 in c:\\users\\mk473\\appdata\\local\\programs\\python\\python310\\lib\\site-packages (from python-dateutil>=2.7->matplotlib!=3.6.1,>=3.4->seaborn) (1.16.0)\n",
            "Requirement already satisfied: MarkupSafe>=2.0 in c:\\users\\mk473\\appdata\\local\\programs\\python\\python310\\lib\\site-packages (from jinja2->torch!=1.12.0,>=1.10->transformers[torch]) (2.1.3)\n",
            "Requirement already satisfied: mpmath>=0.19 in c:\\users\\mk473\\appdata\\local\\programs\\python\\python310\\lib\\site-packages (from sympy->torch!=1.12.0,>=1.10->transformers[torch]) (1.3.0)\n"
          ]
        },
        {
          "name": "stderr",
          "output_type": "stream",
          "text": [
            "\n",
            "[notice] A new release of pip is available: 24.0 -> 24.2\n",
            "[notice] To update, run: python.exe -m pip install --upgrade pip\n"
          ]
        }
      ],
      "source": [
        "!pip install transformers[torch] datasets evaluate seaborn"
      ]
    },
    {
      "cell_type": "markdown",
      "metadata": {
        "id": "39k-BncjiZtY"
      },
      "source": [
        "## 1. Load the dataset"
      ]
    },
    {
      "cell_type": "code",
      "execution_count": 2,
      "metadata": {
        "colab": {
          "base_uri": "https://localhost:8080/"
        },
        "id": "twsVt1DPihlH",
        "outputId": "ac7f0b63-752c-4765-a2c0-a50a7737b8c5"
      },
      "outputs": [
        {
          "data": {
            "text/plain": [
              "(                                                text language     label\n",
              " 0  @TheChiScroller @nachosarah @hankgreen Shrug. ...       en   neutral\n",
              " 1  @TXDeltaBravo @WHO13news Get over yourself. In...       en   neutral\n",
              " 2          @itsme_kgee Isn't it incredible?!!!😊👏👏👏🤑🤑       en  positive\n",
              " 3  Psychedelics exert dramatic effects on the sub...       en   neutral\n",
              " 4  Might have a short stream when I get home and ...       en   neutral,\n",
              " (20000, 3),\n",
              " language\n",
              " en    18604\n",
              " fr      277\n",
              " es      262\n",
              " pt      229\n",
              " ja      168\n",
              " Name: count, dtype: int64,\n",
              " label\n",
              " neutral     8667\n",
              " negative    5747\n",
              " positive    5586\n",
              " Name: count, dtype: int64)"
            ]
          },
          "execution_count": 2,
          "metadata": {},
          "output_type": "execute_result"
        }
      ],
      "source": [
        "import random\n",
        "import pandas as pd\n",
        "import numpy as np\n",
        "\n",
        "sentiment_to_int = {\n",
        "\t\"positive\": 2,\n",
        "\t\"neutral\": 1,\n",
        "\t\"negative\": 0\n",
        "}\n",
        "\n",
        "int_to_sentiment = {v: k for k, v in sentiment_to_int.items()}\n",
        "\n",
        "# Reduce to 10000 samples if you want your model to train faster (while loss may increase)\n",
        "samples = 20000\n",
        "\n",
        "# Read dataset and take random 20000 samples\n",
        "df = pd.read_csv(\"dataset.csv\")\n",
        "df = df.sample(n=samples, random_state=random.randint(0, 100))\n",
        "\n",
        "# Reset the index\n",
        "df.reset_index(drop=True, inplace=True)\n",
        "df.head(), df.shape, df[\"language\"].value_counts()[:5],df[\"label\"].value_counts()"
      ]
    },
    {
      "cell_type": "code",
      "execution_count": 3,
      "metadata": {
        "colab": {
          "base_uri": "https://localhost:8080/",
          "height": 89
        },
        "id": "xHyN1x6Pih5u",
        "outputId": "57dc6965-42aa-4424-ae4b-6fa49528486a"
      },
      "outputs": [
        {
          "data": {
            "text/plain": [
              "\"@TheChiScroller @nachosarah @hankgreen Shrug. That's almost always an appropriate reply when a female says that or similar. Doesn't have to exactly fit the context.\""
            ]
          },
          "execution_count": 3,
          "metadata": {},
          "output_type": "execute_result"
        }
      ],
      "source": [
        "df['text'][0]"
      ]
    },
    {
      "cell_type": "code",
      "execution_count": 4,
      "metadata": {
        "colab": {
          "base_uri": "https://localhost:8080/"
        },
        "id": "SsFTo9aWi62B",
        "outputId": "865bbc98-0d63-40ce-f589-3d70fcbcd36b"
      },
      "outputs": [
        {
          "data": {
            "text/plain": [
              "label\n",
              "neutral     8667\n",
              "negative    5747\n",
              "positive    5586\n",
              "Name: count, dtype: int64"
            ]
          },
          "execution_count": 4,
          "metadata": {},
          "output_type": "execute_result"
        }
      ],
      "source": [
        "df['label'].value_counts()"
      ]
    },
    {
      "cell_type": "markdown",
      "metadata": {
        "id": "bnkgCW7L1w_h"
      },
      "source": [
        "## 2. Text Pre-Processing"
      ]
    },
    {
      "cell_type": "code",
      "execution_count": 5,
      "metadata": {
        "colab": {
          "base_uri": "https://localhost:8080/"
        },
        "id": "RQ6ShoeAlpPv",
        "outputId": "fdaa6521-3f5e-47b9-a266-9603f2e69415"
      },
      "outputs": [],
      "source": [
        "import re\n",
        "\n",
        "# Precompile regular expressions for faster pre processing\n",
        "non_word_chars_pattern = re.compile(r\"[^\\w\\s]\")\n",
        "whitespace_pattern = re.compile(r\"\\s+\")\n",
        "digits_pattern = re.compile(r\"\\d\")\n",
        "username_pattern = re.compile(r\"@([^\\s]+)\")\n",
        "hashtags_pattern = re.compile(r\"#\\d+\")\n",
        "br_pattern = re.compile(r'<br\\s*/?>\\s*<br\\s*/?>')\n",
        "\n",
        "def preprocess_string(s):\n",
        "    # Remove all non-word characters (everything except numbers and letters)\n",
        "    s = non_word_chars_pattern.sub('', s)\n",
        "    # Replace all runs of whitespaces with single space\n",
        "    s = whitespace_pattern.sub(' ', s)\n",
        "    # Replace digits with no space\n",
        "    s = digits_pattern.sub('', s)\n",
        "    # Replace usernames with no space\n",
        "    s = username_pattern.sub('', s)\n",
        "    # Replace hashtags with no space\n",
        "    s = hashtags_pattern.sub('', s)\n",
        "    # Replace <br /> pattern with empty string\n",
        "    s = br_pattern.sub('', s)\n",
        "    # Replace specific characters\n",
        "    s = s.replace(\"https\", \"\")\n",
        "    s = s.replace(\"http\", \"\")\n",
        "    s = s.replace(\"rt\", \"\")\n",
        "    s = s.replace(\"-\", \"\")\n",
        "    # Replace br with empty string\n",
        "    s = s.replace(\"br\", \"\")\n",
        "    # Replace newline character with empty string\n",
        "    s = s.replace(\"\\n\", \"\")\n",
        "    return s"
      ]
    },
    {
      "cell_type": "code",
      "execution_count": 6,
      "metadata": {
        "colab": {
          "base_uri": "https://localhost:8080/",
          "height": 49,
          "referenced_widgets": [
            "7904667e67424983aeacfdf6fceab2a3",
            "5e12365361ab4641a7ba003c86d77586",
            "5db308d5b97f44c48fbedbbf0dbbf97e",
            "8496b3a8f89b420bbd64ba2f7e6fa6f5",
            "4c01bea3d08d4d7b956752b43697c996",
            "68b672b53c8a4a1097f47c2a850ce1a0",
            "12f37aede6d249dd817b16db3b12b099",
            "f7794110d28344d8b713c63aa5ec0e21",
            "6090c48a151a42d5a4daa26662177e7c",
            "fc46c0fc11814ef9bb9045d2dad97234",
            "79887438173e4ad4a55a46e735ec569c"
          ]
        },
        "id": "DyEsn8Lml9PH",
        "outputId": "85cdb938-581e-457e-e341-f575c908f6fb"
      },
      "outputs": [
        {
          "data": {
            "application/vnd.jupyter.widget-view+json": {
              "model_id": "154417bc8d314c4497369d5bf2c7a9b4",
              "version_major": 2,
              "version_minor": 0
            },
            "text/plain": [
              "Preprocessing:   0%|          | 0/20000 [00:00<?, ?it/s]"
            ]
          },
          "metadata": {},
          "output_type": "display_data"
        }
      ],
      "source": [
        "from tqdm.notebook import tqdm_notebook\n",
        "\n",
        "preprocessed_texts = []\n",
        "\n",
        "# Apply preprocessing\n",
        "for text in tqdm_notebook(df['text'], desc='Preprocessing'):\n",
        "    preprocessed_text = preprocess_string(text)\n",
        "    preprocessed_texts.append(preprocessed_text)\n",
        "\n",
        "# Assign the preprocessed reviews back to  'text' column\n",
        "df['text'] = preprocessed_texts"
      ]
    },
    {
      "cell_type": "code",
      "execution_count": 7,
      "metadata": {
        "colab": {
          "base_uri": "https://localhost:8080/"
        },
        "id": "-lwgaucZnAkh",
        "outputId": "9910669d-b29e-42fa-b557-6a37f4d3f8ea"
      },
      "outputs": [
        {
          "data": {
            "text/plain": [
              "('TheChiScroller nachosarah hankgreen Shrug Thats almost always an appropriate reply when a female says that or similar Doesnt have to exactly fit the context',\n",
              " 'neutral')"
            ]
          },
          "execution_count": 7,
          "metadata": {},
          "output_type": "execute_result"
        }
      ],
      "source": [
        "df['text'][0], df['label'][0]"
      ]
    },
    {
      "cell_type": "markdown",
      "metadata": {
        "id": "BR6tc-oT2Hc1"
      },
      "source": [
        "## 3. Mapping `label` column to numeric values"
      ]
    },
    {
      "cell_type": "code",
      "execution_count": 8,
      "metadata": {
        "colab": {
          "base_uri": "https://localhost:8080/",
          "height": 206
        },
        "id": "vNoB1qL86oPG",
        "outputId": "115f1c9b-11c0-4424-aa2d-86fea5b595c8"
      },
      "outputs": [
        {
          "name": "stderr",
          "output_type": "stream",
          "text": [
            "C:\\Users\\mk473\\AppData\\Local\\Temp\\ipykernel_12340\\2400672919.py:1: FutureWarning: Downcasting behavior in `replace` is deprecated and will be removed in a future version. To retain the old behavior, explicitly call `result.infer_objects(copy=False)`. To opt-in to the future behavior, set `pd.set_option('future.no_silent_downcasting', True)`\n",
            "  df['label'] = df['label'].replace(sentiment_to_int)\n"
          ]
        },
        {
          "data": {
            "text/html": [
              "<div>\n",
              "<style scoped>\n",
              "    .dataframe tbody tr th:only-of-type {\n",
              "        vertical-align: middle;\n",
              "    }\n",
              "\n",
              "    .dataframe tbody tr th {\n",
              "        vertical-align: top;\n",
              "    }\n",
              "\n",
              "    .dataframe thead th {\n",
              "        text-align: right;\n",
              "    }\n",
              "</style>\n",
              "<table border=\"1\" class=\"dataframe\">\n",
              "  <thead>\n",
              "    <tr style=\"text-align: right;\">\n",
              "      <th></th>\n",
              "      <th>text</th>\n",
              "      <th>language</th>\n",
              "      <th>label</th>\n",
              "    </tr>\n",
              "  </thead>\n",
              "  <tbody>\n",
              "    <tr>\n",
              "      <th>0</th>\n",
              "      <td>TheChiScroller nachosarah hankgreen Shrug That...</td>\n",
              "      <td>en</td>\n",
              "      <td>1</td>\n",
              "    </tr>\n",
              "    <tr>\n",
              "      <th>1</th>\n",
              "      <td>TXDeltaBravo WHOnews Get over yourself In my o...</td>\n",
              "      <td>en</td>\n",
              "      <td>1</td>\n",
              "    </tr>\n",
              "    <tr>\n",
              "      <th>2</th>\n",
              "      <td>itsme_kgee Isnt it incredible</td>\n",
              "      <td>en</td>\n",
              "      <td>2</td>\n",
              "    </tr>\n",
              "    <tr>\n",
              "      <th>3</th>\n",
              "      <td>Psychedelics exe dramatic effects on the subje...</td>\n",
              "      <td>en</td>\n",
              "      <td>1</td>\n",
              "    </tr>\n",
              "    <tr>\n",
              "      <th>4</th>\n",
              "      <td>Might have a sho stream when I get home and th...</td>\n",
              "      <td>en</td>\n",
              "      <td>1</td>\n",
              "    </tr>\n",
              "  </tbody>\n",
              "</table>\n",
              "</div>"
            ],
            "text/plain": [
              "                                                text language  label\n",
              "0  TheChiScroller nachosarah hankgreen Shrug That...       en      1\n",
              "1  TXDeltaBravo WHOnews Get over yourself In my o...       en      1\n",
              "2                      itsme_kgee Isnt it incredible       en      2\n",
              "3  Psychedelics exe dramatic effects on the subje...       en      1\n",
              "4  Might have a sho stream when I get home and th...       en      1"
            ]
          },
          "execution_count": 8,
          "metadata": {},
          "output_type": "execute_result"
        }
      ],
      "source": [
        "df['label'] = df['label'].replace(sentiment_to_int)\n",
        "df.head()"
      ]
    },
    {
      "cell_type": "markdown",
      "metadata": {
        "id": "9XS665rf2t-9"
      },
      "source": [
        "## 4. Splitting datasets into train and test"
      ]
    },
    {
      "cell_type": "code",
      "execution_count": 9,
      "metadata": {
        "colab": {
          "base_uri": "https://localhost:8080/"
        },
        "id": "xE28r9W8jFXc",
        "outputId": "04cdb615-93a7-4d78-8b87-fbcccb718c33"
      },
      "outputs": [
        {
          "data": {
            "text/plain": [
              "(16000, 4000)"
            ]
          },
          "execution_count": 9,
          "metadata": {},
          "output_type": "execute_result"
        }
      ],
      "source": [
        "from sklearn.model_selection import train_test_split\n",
        "\n",
        "X_train, X_test, y_train, y_test = train_test_split(df['text'],\n",
        "                                                    df['label'],\n",
        "                                                    test_size=0.2)\n",
        "\n",
        "len(X_train), len(X_test)"
      ]
    },
    {
      "cell_type": "code",
      "execution_count": 10,
      "metadata": {
        "colab": {
          "base_uri": "https://localhost:8080/"
        },
        "id": "arUMIRZDqr5T",
        "outputId": "8e6e6d00-536d-42da-dfe0-963f990a8abd"
      },
      "outputs": [
        {
          "data": {
            "text/plain": [
              "(['New Task Force has been created to reduce processing times for government services including immigration file processing The task force will identify problems and make recommendations to improve serviceContact to know more at  OR infomeritimmigrationltdca tconNAeATKXKZ',\n",
              "  'What fresh hell is coming out of the Texas GOP todayAboion laws from the s amp encouraging criminal prosecution under those laws Ken Paxton isnt even testing rape kitsVoteBlueToProtectWomen RochelleMGarza for TX AG Texans its up to us VOTE VoteBlue tcoYTuUbPtJU'],\n",
              " [2, 1])"
            ]
          },
          "execution_count": 10,
          "metadata": {},
          "output_type": "execute_result"
        }
      ],
      "source": [
        "X_train, X_test, y_train, y_test = list(X_train), list(X_test), list(y_train), list(y_test)\n",
        "X_train[:2], y_train[:2]"
      ]
    },
    {
      "cell_type": "markdown",
      "metadata": {
        "id": "QyrxW-2T20rI"
      },
      "source": [
        "## 5. Preparing data using custom dataloader"
      ]
    },
    {
      "cell_type": "code",
      "execution_count": 11,
      "metadata": {
        "colab": {
          "base_uri": "https://localhost:8080/"
        },
        "id": "sS4L0KVorOIx",
        "outputId": "100cbb56-db5c-4ccf-d2ed-713b178b10cd"
      },
      "outputs": [
        {
          "name": "stdout",
          "output_type": "stream",
          "text": [
            "cuda\n"
          ]
        }
      ],
      "source": [
        "import torch\n",
        "import torch.nn.functional as F\n",
        "from torch.utils.data import Dataset\n",
        "from transformers import DistilBertTokenizerFast, DistilBertForSequenceClassification\n",
        "from transformers import Trainer, TrainingArguments\n",
        "\n",
        "# Setting device agnostic code\n",
        "device = 'cuda' if torch.cuda.is_available() else 'cpu'\n",
        "print(device)"
      ]
    },
    {
      "cell_type": "code",
      "execution_count": 12,
      "metadata": {
        "id": "dN_U6_-OtG9V"
      },
      "outputs": [],
      "source": [
        "class data(Dataset):\n",
        "  def __init__(self, encodings, labels):\n",
        "    self.encodings = encodings\n",
        "    self.labels = labels\n",
        "\n",
        "  def __getitem__(self, index):\n",
        "    item = {key: torch.tensor(val[index]) for key, val in self.encodings.items()}\n",
        "    item['labels'] = torch.tensor(self.labels[index])\n",
        "    return item\n",
        "\n",
        "  def __len__(self):\n",
        "    return len(self.labels)"
      ]
    },
    {
      "cell_type": "markdown",
      "metadata": {
        "id": "jIqMd4Kx7h9D"
      },
      "source": [
        "## 6. Load PreTrained BERT Model\n",
        "\n",
        "**BERT** (Bidirectional Encoder Representations from Transformers) is a pre-trained language representation model developed by researchers at Google.\n",
        "\n",
        "<img src = \"https://i0.wp.com/neptune.ai/wp-content/uploads/2022/10/Attention_diagram_transformer.png?ssl=1\">\n",
        "\n",
        "- BERT architecture consists of `multiple encoder transformer blocks` stacked together.\n",
        "- Each transformer block includes` multi-head self-attention` and `feed-forward neural networks`.\n",
        "- `Multi-head self-attention` allows BERT to weigh word importance based on context, capturing long-range dependencies effectively.\n",
        "- The output from `attention mechanisms` undergoes non-linear transformations via `feed-forward neural networks`.\n",
        "- `Layer normalization` and `residual connections` stabilize training and facilitate gradient flow within each transformer block.\n",
        "- `Positional encodings` preserve word order in sequences, aiding BERT in understanding the sequential nature of data.\n",
        "\n",
        ">BERT is pre-trained on a large text corpus using tasks like masked language modeling and next sentence prediction. Fine-tuning on specific tasks involves adjusting the final layers of the pre-trained BERT model.\n",
        "\n",
        "### [Explanation Video on BERT](https://www.youtube.com/watch?v=6ahxPTLZxU8)"
      ]
    },
    {
      "cell_type": "code",
      "execution_count": 13,
      "metadata": {
        "colab": {
          "base_uri": "https://localhost:8080/",
          "height": 145,
          "referenced_widgets": [
            "923e1b7fbd8b49bdabcd4f00f714be14",
            "b809d01b8cd344d98f2273b3ae8f7ffb",
            "6360e06ae7e74b89ad45dd1bb4413342",
            "1421f131fe17439898b48f87cfa26b52",
            "730e7bfb278a433bac4fedce9538cf0d",
            "0cb660d95a9b46ed9ea2689b3b828508",
            "b6caf3716cd4411cb727f34683958bf6",
            "2480db893d3b43379c2aff68f421eb07",
            "e8fd4b2f11b749ca9ef44d94353e13f0",
            "3bc4f28421f8430d8640f292e94d8c64",
            "96edc1fed27340c692bf75fd4fc9c5d2",
            "ee83043d95cc4bee83a14456fbd7c01c",
            "ed42110cf0cf47f3aff0853d0452e7d8",
            "a5c25ef7145d4a819569b30c10b3db22",
            "be723d54691348868cff55a8ba046eab",
            "3242d629683242bfbc5777a2b904dd70",
            "657bc2cc2cb744c4a1f72488b58d53b0",
            "35e38db3a6e74956ae22f6e6b3d594a3",
            "e800a5dc461b465c98814786c7b9d42b",
            "90cea132a5114445922194fa5aea05d1",
            "9f025708b4034c879c0a4249378fadc3",
            "f03f81ec0bc44602be760ff2f548a5fd",
            "038710f43d7a48dc8660458c680b35fb",
            "368cc160a1bb43b7b11f7991b2d55d5a",
            "94bc6056062746bc8b1cfbfa3292a241",
            "6fe80fdd065148a2b8f6eebf0862123a",
            "680bcce08dd645f9badcfd5a9f53dc4f",
            "1d5d3e06619c4084b41ab120e8476c6d",
            "f701050853814fff9c33373ab92deb43",
            "2a4847e7a62f46b0b2afd22f9c1a0a4c",
            "7b0317bfb8d742a09a3aa2c0ebb9773c",
            "b848fa1f848348079650e1897429c3fa"
          ]
        },
        "id": "6WY3qWTAxh1u",
        "outputId": "24259200-a1da-4a6c-f106-4582baa801f2"
      },
      "outputs": [
        {
          "data": {
            "application/vnd.jupyter.widget-view+json": {
              "model_id": "46c2f144ae9847fe886090fecc15f976",
              "version_major": 2,
              "version_minor": 0
            },
            "text/plain": [
              "VBox(children=(HTML(value='<center> <img\\nsrc=https://huggingface.co/front/assets/huggingface_logo-noborder.sv…"
            ]
          },
          "metadata": {},
          "output_type": "display_data"
        }
      ],
      "source": [
        "from huggingface_hub import notebook_login\n",
        "\n",
        "# Paste hugging face token with write permission enabled and log in\n",
        "notebook_login()"
      ]
    },
    {
      "cell_type": "code",
      "execution_count": 14,
      "metadata": {
        "colab": {
          "base_uri": "https://localhost:8080/"
        },
        "id": "M3pUE51Ttyvp",
        "outputId": "f8683f9d-2e89-4c13-8eb5-f311fd46e181"
      },
      "outputs": [
        {
          "name": "stderr",
          "output_type": "stream",
          "text": [
            "c:\\Users\\mk473\\AppData\\Local\\Programs\\Python\\Python310\\lib\\site-packages\\huggingface_hub\\file_download.py:1132: FutureWarning: `resume_download` is deprecated and will be removed in version 1.0.0. Downloads always resume when possible. If you want to force a new download, use `force_download=True`.\n",
            "  warnings.warn(\n"
          ]
        }
      ],
      "source": [
        "model_name = 'distilbert-base-uncased'\n",
        "tokenizer = DistilBertTokenizerFast.from_pretrained(model_name)"
      ]
    },
    {
      "cell_type": "markdown",
      "metadata": {
        "id": "wFFYOaeg--PW"
      },
      "source": [
        "## 7. Tokenize and Create Encoded Dataset"
      ]
    },
    {
      "cell_type": "code",
      "execution_count": 15,
      "metadata": {
        "id": "6d1E4UWit4PW"
      },
      "outputs": [],
      "source": [
        "from transformers import DataCollatorWithPadding\n",
        "\n",
        "data_collator = DataCollatorWithPadding(tokenizer)\n",
        "\n",
        "# Tokenize with truncation and padding and create dataset from tokenized data\n",
        "train_encoding = tokenizer(X_train, truncation=True, padding=True)\n",
        "test_encoding = tokenizer(X_test, truncation=True, padding=True)\n",
        "\n",
        "train_dataset = data(train_encoding, y_train)\n",
        "test_dataset = data(test_encoding, y_test)"
      ]
    },
    {
      "cell_type": "markdown",
      "metadata": {
        "id": "Zu7-BCBH-wis"
      },
      "source": [
        "## 8. Fine-Tuning Distil BERT\n",
        "\n",
        "Fine-tuning BERT, a pre-trained language model, allows us to adapt it to specific NLP tasks such as text classification, named entity recognition, sentiment analysis, and question answering.\n",
        "\n",
        "\n",
        "<img src = \"https://raw.githubusercontent.com/LuluW8071/Text-Sentiment-Analysis/dfa065d8169ae9d26460114e612118f5628d7dd3//assets/BERT-Fine-tuning-pipeline.png\">"
      ]
    },
    {
      "cell_type": "code",
      "execution_count": 16,
      "metadata": {
        "id": "x4qy_mL05NVG"
      },
      "outputs": [],
      "source": [
        "batch_size = 2\n",
        "\n",
        "training_args = TrainingArguments(\n",
        "    output_dir=f\"{model_name}-{samples}-samples\",\n",
        "    num_train_epochs=10,                              # No of epochs to train\n",
        "    per_device_train_batch_size=batch_size,          # Batch size for training per device\n",
        "    per_device_eval_batch_size=batch_size,           # Batch size for evaluation per device\n",
        "    learning_rate=2e-5,                              # Learning rate for optimizer\n",
        "    warmup_steps=400,                                # No of warmup steps for the learning rate scheduler\n",
        "    weight_decay=0.01,                               # Weight decay coefficient for regularization\n",
        "    logging_dir='./logs',                            # Directory for logging training information\n",
        "    load_best_model_at_end=True,                     # Whether to load the best model from checkpoints at the end of training\n",
        "    logging_steps=1000,                               # Log training metrics every `logging_steps` steps\n",
        "    save_steps=1000,                                  # Save model checkpoints every `save_steps` steps\n",
        "    save_total_limit=2,                              # Save no of checkpoints\n",
        "    evaluation_strategy = \"steps\",                   # When to run evaluation during training: steps, epochs or none\n",
        "    fp16=True,                                       # Floating point 16 precision\n",
        "    push_to_hub=True,                               # Save checkpoint in Hugging Face Hub\n",
        "    report_to=\"tensorboard\",                         # Enable TensorBoard integration\n",
        ")\n"
      ]
    },
    {
      "cell_type": "markdown",
      "metadata": {
        "id": "nlH5U0ImAMFJ"
      },
      "source": [
        "## 9. Train the Fine-Tuned BERT Model"
      ]
    },
    {
      "cell_type": "code",
      "execution_count": 17,
      "metadata": {
        "id": "0n4eNRbo39LN"
      },
      "outputs": [],
      "source": [
        "from evaluate import load\n",
        "\n",
        "accuracy_metric = load(\"accuracy\")\n",
        "\n",
        "# Compute_metrics function\n",
        "def compute_metrics(eval_pred):\n",
        "    logits, labels = eval_pred\n",
        "    predictions = np.argmax(logits, axis=-1)\n",
        "    accuracy = accuracy_metric.compute(predictions=predictions, references=labels)\n",
        "    return accuracy"
      ]
    },
    {
      "cell_type": "code",
      "execution_count": 18,
      "metadata": {
        "colab": {
          "base_uri": "https://localhost:8080/"
        },
        "id": "QaN-z2lExThi",
        "outputId": "05ed24c8-d387-456b-b27b-0b8046ee9234"
      },
      "outputs": [
        {
          "name": "stderr",
          "output_type": "stream",
          "text": [
            "Some weights of DistilBertForSequenceClassification were not initialized from the model checkpoint at distilbert-base-uncased and are newly initialized: ['pre_classifier.weight', 'classifier.weight', 'pre_classifier.bias', 'classifier.bias']\n",
            "You should probably TRAIN this model on a down-stream task to be able to use it for predictions and inference.\n"
          ]
        }
      ],
      "source": [
        "model = DistilBertForSequenceClassification.from_pretrained(model_name,\n",
        "                                                            num_labels=len(sentiment_to_int))\n",
        "\n",
        "# Override the model configuration for custom labels\n",
        "model.config.id2label = int_to_sentiment\n",
        "model.config.label2id = sentiment_to_int\n",
        "\n",
        "\n",
        "trainer = Trainer(\n",
        "    model=model,                      # The instantiated Transformers model to be trained\n",
        "    args=training_args,               # Training arguments, defined above\n",
        "    train_dataset=train_dataset,      # Training dataset\n",
        "    eval_dataset=test_dataset,        # Evaluation dataset\n",
        "    tokenizer=tokenizer,              # Tokenizer\n",
        "    data_collator=data_collator,      # Data collator\n",
        "    compute_metrics=compute_metrics,  # Function to compute metrics\n",
        ")"
      ]
    },
    {
      "cell_type": "code",
      "execution_count": 19,
      "metadata": {
        "colab": {
          "base_uri": "https://localhost:8080/",
          "height": 422
        },
        "id": "H1KmmxIQyXK_",
        "outputId": "dfe4bf31-ce16-4c6f-8aeb-a54dc5a9338b"
      },
      "outputs": [
        {
          "data": {
            "application/vnd.jupyter.widget-view+json": {
              "model_id": "32979d3c9b4c4828b863aea668153e39",
              "version_major": 2,
              "version_minor": 0
            },
            "text/plain": [
              "  0%|          | 0/80000 [00:00<?, ?it/s]"
            ]
          },
          "metadata": {},
          "output_type": "display_data"
        },
        {
          "name": "stderr",
          "output_type": "stream",
          "text": [
            "You're using a DistilBertTokenizerFast tokenizer. Please note that with a fast tokenizer, using the `__call__` method is faster than using a method to encode the text followed by a call to the `pad` method to get a padded encoding.\n"
          ]
        },
        {
          "name": "stdout",
          "output_type": "stream",
          "text": [
            "{'loss': 0.7065, 'learning_rate': 1.9850502512562816e-05, 'epoch': 0.12}\n"
          ]
        },
        {
          "data": {
            "application/vnd.jupyter.widget-view+json": {
              "model_id": "fad72d8946394ad9a524adf24ad1bac1",
              "version_major": 2,
              "version_minor": 0
            },
            "text/plain": [
              "  0%|          | 0/2000 [00:00<?, ?it/s]"
            ]
          },
          "metadata": {},
          "output_type": "display_data"
        },
        {
          "name": "stdout",
          "output_type": "stream",
          "text": [
            "{'eval_loss': 0.37631261348724365, 'eval_accuracy': 0.91625, 'eval_runtime': 21.74, 'eval_samples_per_second': 183.993, 'eval_steps_per_second': 91.997, 'epoch': 0.12}\n",
            "{'loss': 0.3074, 'learning_rate': 1.9599497487437188e-05, 'epoch': 0.25}\n"
          ]
        },
        {
          "data": {
            "application/vnd.jupyter.widget-view+json": {
              "model_id": "16aaf06ce18e4504917191197742db84",
              "version_major": 2,
              "version_minor": 0
            },
            "text/plain": [
              "  0%|          | 0/2000 [00:00<?, ?it/s]"
            ]
          },
          "metadata": {},
          "output_type": "display_data"
        },
        {
          "name": "stdout",
          "output_type": "stream",
          "text": [
            "{'eval_loss': 0.25749295949935913, 'eval_accuracy': 0.945, 'eval_runtime': 22.0052, 'eval_samples_per_second': 181.775, 'eval_steps_per_second': 90.887, 'epoch': 0.25}\n",
            "{'loss': 0.2228, 'learning_rate': 1.934824120603015e-05, 'epoch': 0.38}\n"
          ]
        },
        {
          "data": {
            "application/vnd.jupyter.widget-view+json": {
              "model_id": "58debff2212f459e965b2368b5e6ce70",
              "version_major": 2,
              "version_minor": 0
            },
            "text/plain": [
              "  0%|          | 0/2000 [00:00<?, ?it/s]"
            ]
          },
          "metadata": {},
          "output_type": "display_data"
        },
        {
          "name": "stdout",
          "output_type": "stream",
          "text": [
            "{'eval_loss': 0.21134819090366364, 'eval_accuracy': 0.95175, 'eval_runtime': 21.3455, 'eval_samples_per_second': 187.393, 'eval_steps_per_second': 93.697, 'epoch': 0.38}\n",
            "{'loss': 0.2143, 'learning_rate': 1.9097236180904522e-05, 'epoch': 0.5}\n"
          ]
        },
        {
          "data": {
            "application/vnd.jupyter.widget-view+json": {
              "model_id": "ffbdd16e4b4144ca9d424c9574bca543",
              "version_major": 2,
              "version_minor": 0
            },
            "text/plain": [
              "  0%|          | 0/2000 [00:00<?, ?it/s]"
            ]
          },
          "metadata": {},
          "output_type": "display_data"
        },
        {
          "name": "stdout",
          "output_type": "stream",
          "text": [
            "{'eval_loss': 0.26589831709861755, 'eval_accuracy': 0.95075, 'eval_runtime': 21.5311, 'eval_samples_per_second': 185.778, 'eval_steps_per_second': 92.889, 'epoch': 0.5}\n",
            "{'loss': 0.1763, 'learning_rate': 1.884597989949749e-05, 'epoch': 0.62}\n"
          ]
        },
        {
          "data": {
            "application/vnd.jupyter.widget-view+json": {
              "model_id": "3afd0e5b15a54c258e8e3b479f61a6ca",
              "version_major": 2,
              "version_minor": 0
            },
            "text/plain": [
              "  0%|          | 0/2000 [00:00<?, ?it/s]"
            ]
          },
          "metadata": {},
          "output_type": "display_data"
        },
        {
          "name": "stdout",
          "output_type": "stream",
          "text": [
            "{'eval_loss': 0.13211162388324738, 'eval_accuracy': 0.962, 'eval_runtime': 20.7156, 'eval_samples_per_second': 193.091, 'eval_steps_per_second': 96.546, 'epoch': 0.62}\n",
            "{'loss': 0.2056, 'learning_rate': 1.8594723618090455e-05, 'epoch': 0.75}\n"
          ]
        },
        {
          "data": {
            "application/vnd.jupyter.widget-view+json": {
              "model_id": "6494f71df9bb4695a49aff62b2dcc31e",
              "version_major": 2,
              "version_minor": 0
            },
            "text/plain": [
              "  0%|          | 0/2000 [00:00<?, ?it/s]"
            ]
          },
          "metadata": {},
          "output_type": "display_data"
        },
        {
          "name": "stdout",
          "output_type": "stream",
          "text": [
            "{'eval_loss': 0.13629046082496643, 'eval_accuracy': 0.96525, 'eval_runtime': 21.1926, 'eval_samples_per_second': 188.745, 'eval_steps_per_second': 94.372, 'epoch': 0.75}\n",
            "{'loss': 0.1455, 'learning_rate': 1.8343718592964826e-05, 'epoch': 0.88}\n"
          ]
        },
        {
          "data": {
            "application/vnd.jupyter.widget-view+json": {
              "model_id": "4ec4db278d7d45ed8870e61d7bed6182",
              "version_major": 2,
              "version_minor": 0
            },
            "text/plain": [
              "  0%|          | 0/2000 [00:00<?, ?it/s]"
            ]
          },
          "metadata": {},
          "output_type": "display_data"
        },
        {
          "name": "stdout",
          "output_type": "stream",
          "text": [
            "{'eval_loss': 0.15087085962295532, 'eval_accuracy': 0.96675, 'eval_runtime': 21.32, 'eval_samples_per_second': 187.617, 'eval_steps_per_second': 93.809, 'epoch': 0.88}\n",
            "{'loss': 0.1406, 'learning_rate': 1.809246231155779e-05, 'epoch': 1.0}\n"
          ]
        },
        {
          "data": {
            "application/vnd.jupyter.widget-view+json": {
              "model_id": "94294589d5c74e39bf13c7edcb47c43f",
              "version_major": 2,
              "version_minor": 0
            },
            "text/plain": [
              "  0%|          | 0/2000 [00:00<?, ?it/s]"
            ]
          },
          "metadata": {},
          "output_type": "display_data"
        },
        {
          "name": "stdout",
          "output_type": "stream",
          "text": [
            "{'eval_loss': 0.16267019510269165, 'eval_accuracy': 0.96175, 'eval_runtime': 21.4676, 'eval_samples_per_second': 186.327, 'eval_steps_per_second': 93.164, 'epoch': 1.0}\n",
            "{'loss': 0.1468, 'learning_rate': 1.7841206030150755e-05, 'epoch': 1.12}\n"
          ]
        },
        {
          "data": {
            "application/vnd.jupyter.widget-view+json": {
              "model_id": "a54a171d22fd4647abe4fa56944ffc36",
              "version_major": 2,
              "version_minor": 0
            },
            "text/plain": [
              "  0%|          | 0/2000 [00:00<?, ?it/s]"
            ]
          },
          "metadata": {},
          "output_type": "display_data"
        },
        {
          "name": "stdout",
          "output_type": "stream",
          "text": [
            "{'eval_loss': 0.1654956042766571, 'eval_accuracy': 0.967, 'eval_runtime': 21.5887, 'eval_samples_per_second': 185.282, 'eval_steps_per_second': 92.641, 'epoch': 1.12}\n",
            "{'loss': 0.1556, 'learning_rate': 1.7590201005025127e-05, 'epoch': 1.25}\n"
          ]
        },
        {
          "data": {
            "application/vnd.jupyter.widget-view+json": {
              "model_id": "33182c902548434aa7fc3882c4f965b3",
              "version_major": 2,
              "version_minor": 0
            },
            "text/plain": [
              "  0%|          | 0/2000 [00:00<?, ?it/s]"
            ]
          },
          "metadata": {},
          "output_type": "display_data"
        },
        {
          "name": "stdout",
          "output_type": "stream",
          "text": [
            "{'eval_loss': 0.15637442469596863, 'eval_accuracy': 0.9665, 'eval_runtime': 21.7335, 'eval_samples_per_second': 184.048, 'eval_steps_per_second': 92.024, 'epoch': 1.25}\n",
            "{'loss': 0.1489, 'learning_rate': 1.7338944723618093e-05, 'epoch': 1.38}\n"
          ]
        },
        {
          "data": {
            "application/vnd.jupyter.widget-view+json": {
              "model_id": "2dbb3c041228443c8c70cb533021ae0f",
              "version_major": 2,
              "version_minor": 0
            },
            "text/plain": [
              "  0%|          | 0/2000 [00:00<?, ?it/s]"
            ]
          },
          "metadata": {},
          "output_type": "display_data"
        },
        {
          "name": "stdout",
          "output_type": "stream",
          "text": [
            "{'eval_loss': 0.17832690477371216, 'eval_accuracy': 0.96325, 'eval_runtime': 21.4604, 'eval_samples_per_second': 186.389, 'eval_steps_per_second': 93.195, 'epoch': 1.38}\n",
            "{'loss': 0.1431, 'learning_rate': 1.7087688442211056e-05, 'epoch': 1.5}\n"
          ]
        },
        {
          "data": {
            "application/vnd.jupyter.widget-view+json": {
              "model_id": "0f24b0e096b54df0a3f14db96b1a9a41",
              "version_major": 2,
              "version_minor": 0
            },
            "text/plain": [
              "  0%|          | 0/2000 [00:00<?, ?it/s]"
            ]
          },
          "metadata": {},
          "output_type": "display_data"
        },
        {
          "name": "stdout",
          "output_type": "stream",
          "text": [
            "{'eval_loss': 0.19197523593902588, 'eval_accuracy': 0.96225, 'eval_runtime': 21.3878, 'eval_samples_per_second': 187.022, 'eval_steps_per_second': 93.511, 'epoch': 1.5}\n",
            "{'loss': 0.1553, 'learning_rate': 1.6836432160804022e-05, 'epoch': 1.62}\n"
          ]
        },
        {
          "data": {
            "application/vnd.jupyter.widget-view+json": {
              "model_id": "23f6a47fb464452b8c9126277a82c126",
              "version_major": 2,
              "version_minor": 0
            },
            "text/plain": [
              "  0%|          | 0/2000 [00:00<?, ?it/s]"
            ]
          },
          "metadata": {},
          "output_type": "display_data"
        },
        {
          "name": "stdout",
          "output_type": "stream",
          "text": [
            "{'eval_loss': 0.15168869495391846, 'eval_accuracy': 0.964, 'eval_runtime': 21.3462, 'eval_samples_per_second': 187.387, 'eval_steps_per_second': 93.694, 'epoch': 1.62}\n",
            "{'loss': 0.1403, 'learning_rate': 1.6585427135678394e-05, 'epoch': 1.75}\n"
          ]
        },
        {
          "data": {
            "application/vnd.jupyter.widget-view+json": {
              "model_id": "3c08a7eca73642c3b35c0398d7e75787",
              "version_major": 2,
              "version_minor": 0
            },
            "text/plain": [
              "  0%|          | 0/2000 [00:00<?, ?it/s]"
            ]
          },
          "metadata": {},
          "output_type": "display_data"
        },
        {
          "name": "stdout",
          "output_type": "stream",
          "text": [
            "{'eval_loss': 0.15474344789981842, 'eval_accuracy': 0.9645, 'eval_runtime': 21.581, 'eval_samples_per_second': 185.348, 'eval_steps_per_second': 92.674, 'epoch': 1.75}\n",
            "{'loss': 0.1221, 'learning_rate': 1.6334170854271357e-05, 'epoch': 1.88}\n"
          ]
        },
        {
          "data": {
            "application/vnd.jupyter.widget-view+json": {
              "model_id": "66a223b97b2c420699d9a88bfc6e69c3",
              "version_major": 2,
              "version_minor": 0
            },
            "text/plain": [
              "  0%|          | 0/2000 [00:00<?, ?it/s]"
            ]
          },
          "metadata": {},
          "output_type": "display_data"
        },
        {
          "name": "stdout",
          "output_type": "stream",
          "text": [
            "{'eval_loss': 0.1645537167787552, 'eval_accuracy': 0.96725, 'eval_runtime': 21.5996, 'eval_samples_per_second': 185.188, 'eval_steps_per_second': 92.594, 'epoch': 1.88}\n",
            "{'loss': 0.1075, 'learning_rate': 1.6082914572864323e-05, 'epoch': 2.0}\n"
          ]
        },
        {
          "data": {
            "application/vnd.jupyter.widget-view+json": {
              "model_id": "3c988c3fb69d4549a23a07f0e6ec6d36",
              "version_major": 2,
              "version_minor": 0
            },
            "text/plain": [
              "  0%|          | 0/2000 [00:00<?, ?it/s]"
            ]
          },
          "metadata": {},
          "output_type": "display_data"
        },
        {
          "name": "stdout",
          "output_type": "stream",
          "text": [
            "{'eval_loss': 0.1401827335357666, 'eval_accuracy': 0.97025, 'eval_runtime': 21.6104, 'eval_samples_per_second': 185.096, 'eval_steps_per_second': 92.548, 'epoch': 2.0}\n",
            "{'loss': 0.0932, 'learning_rate': 1.583165829145729e-05, 'epoch': 2.12}\n"
          ]
        },
        {
          "data": {
            "application/vnd.jupyter.widget-view+json": {
              "model_id": "df1d3ef1932145eeb3b9fdd8e25d74a9",
              "version_major": 2,
              "version_minor": 0
            },
            "text/plain": [
              "  0%|          | 0/2000 [00:00<?, ?it/s]"
            ]
          },
          "metadata": {},
          "output_type": "display_data"
        },
        {
          "name": "stdout",
          "output_type": "stream",
          "text": [
            "{'eval_loss': 0.17402829229831696, 'eval_accuracy': 0.9685, 'eval_runtime': 21.332, 'eval_samples_per_second': 187.512, 'eval_steps_per_second': 93.756, 'epoch': 2.12}\n",
            "{'loss': 0.0693, 'learning_rate': 1.558065326633166e-05, 'epoch': 2.25}\n"
          ]
        },
        {
          "data": {
            "application/vnd.jupyter.widget-view+json": {
              "model_id": "6f30d7847211465e8b7768aa843b2f2a",
              "version_major": 2,
              "version_minor": 0
            },
            "text/plain": [
              "  0%|          | 0/2000 [00:00<?, ?it/s]"
            ]
          },
          "metadata": {},
          "output_type": "display_data"
        },
        {
          "name": "stdout",
          "output_type": "stream",
          "text": [
            "{'eval_loss': 0.18216918408870697, 'eval_accuracy': 0.96475, 'eval_runtime': 22.1859, 'eval_samples_per_second': 180.295, 'eval_steps_per_second': 90.147, 'epoch': 2.25}\n",
            "{'loss': 0.1066, 'learning_rate': 1.5329396984924624e-05, 'epoch': 2.38}\n"
          ]
        },
        {
          "data": {
            "application/vnd.jupyter.widget-view+json": {
              "model_id": "545aeb423f694c598ef3c962283f0543",
              "version_major": 2,
              "version_minor": 0
            },
            "text/plain": [
              "  0%|          | 0/2000 [00:00<?, ?it/s]"
            ]
          },
          "metadata": {},
          "output_type": "display_data"
        },
        {
          "name": "stdout",
          "output_type": "stream",
          "text": [
            "{'eval_loss': 0.19401998817920685, 'eval_accuracy': 0.967, 'eval_runtime': 21.4234, 'eval_samples_per_second': 186.711, 'eval_steps_per_second': 93.356, 'epoch': 2.38}\n",
            "{'loss': 0.1156, 'learning_rate': 1.5078391959798997e-05, 'epoch': 2.5}\n"
          ]
        },
        {
          "data": {
            "application/vnd.jupyter.widget-view+json": {
              "model_id": "5ce368c2f81e4178afb11b59499287c0",
              "version_major": 2,
              "version_minor": 0
            },
            "text/plain": [
              "  0%|          | 0/2000 [00:00<?, ?it/s]"
            ]
          },
          "metadata": {},
          "output_type": "display_data"
        },
        {
          "name": "stdout",
          "output_type": "stream",
          "text": [
            "{'eval_loss': 0.16400735080242157, 'eval_accuracy': 0.96575, 'eval_runtime': 21.8079, 'eval_samples_per_second': 183.42, 'eval_steps_per_second': 91.71, 'epoch': 2.5}\n",
            "{'loss': 0.1042, 'learning_rate': 1.4827386934673369e-05, 'epoch': 2.62}\n"
          ]
        },
        {
          "data": {
            "application/vnd.jupyter.widget-view+json": {
              "model_id": "aadd6791495840b588621f2776307fdc",
              "version_major": 2,
              "version_minor": 0
            },
            "text/plain": [
              "  0%|          | 0/2000 [00:00<?, ?it/s]"
            ]
          },
          "metadata": {},
          "output_type": "display_data"
        },
        {
          "name": "stdout",
          "output_type": "stream",
          "text": [
            "{'eval_loss': 0.1914261132478714, 'eval_accuracy': 0.9665, 'eval_runtime': 21.5636, 'eval_samples_per_second': 185.498, 'eval_steps_per_second': 92.749, 'epoch': 2.62}\n",
            "{'loss': 0.1179, 'learning_rate': 1.4576130653266334e-05, 'epoch': 2.75}\n"
          ]
        },
        {
          "data": {
            "application/vnd.jupyter.widget-view+json": {
              "model_id": "1d0e4e4db3774044a91084e31ba4a8f9",
              "version_major": 2,
              "version_minor": 0
            },
            "text/plain": [
              "  0%|          | 0/2000 [00:00<?, ?it/s]"
            ]
          },
          "metadata": {},
          "output_type": "display_data"
        },
        {
          "name": "stdout",
          "output_type": "stream",
          "text": [
            "{'eval_loss': 0.18559060990810394, 'eval_accuracy': 0.965, 'eval_runtime': 21.9894, 'eval_samples_per_second': 181.906, 'eval_steps_per_second': 90.953, 'epoch': 2.75}\n",
            "{'loss': 0.0767, 'learning_rate': 1.4324874371859298e-05, 'epoch': 2.88}\n"
          ]
        },
        {
          "data": {
            "application/vnd.jupyter.widget-view+json": {
              "model_id": "7810944d01c0457fa6889726b8c23dd4",
              "version_major": 2,
              "version_minor": 0
            },
            "text/plain": [
              "  0%|          | 0/2000 [00:00<?, ?it/s]"
            ]
          },
          "metadata": {},
          "output_type": "display_data"
        },
        {
          "name": "stdout",
          "output_type": "stream",
          "text": [
            "{'eval_loss': 0.1902889609336853, 'eval_accuracy': 0.9685, 'eval_runtime': 21.6916, 'eval_samples_per_second': 184.403, 'eval_steps_per_second': 92.202, 'epoch': 2.88}\n",
            "{'loss': 0.0932, 'learning_rate': 1.4073618090452263e-05, 'epoch': 3.0}\n"
          ]
        },
        {
          "data": {
            "application/vnd.jupyter.widget-view+json": {
              "model_id": "17ea350250e742e69419ff9772527d1c",
              "version_major": 2,
              "version_minor": 0
            },
            "text/plain": [
              "  0%|          | 0/2000 [00:00<?, ?it/s]"
            ]
          },
          "metadata": {},
          "output_type": "display_data"
        },
        {
          "name": "stdout",
          "output_type": "stream",
          "text": [
            "{'eval_loss': 0.2226729691028595, 'eval_accuracy': 0.966, 'eval_runtime': 21.6092, 'eval_samples_per_second': 185.106, 'eval_steps_per_second': 92.553, 'epoch': 3.0}\n",
            "{'loss': 0.0677, 'learning_rate': 1.3822613065326633e-05, 'epoch': 3.12}\n"
          ]
        },
        {
          "data": {
            "application/vnd.jupyter.widget-view+json": {
              "model_id": "de35509e48114539ba6e2881f2d63682",
              "version_major": 2,
              "version_minor": 0
            },
            "text/plain": [
              "  0%|          | 0/2000 [00:00<?, ?it/s]"
            ]
          },
          "metadata": {},
          "output_type": "display_data"
        },
        {
          "name": "stdout",
          "output_type": "stream",
          "text": [
            "{'eval_loss': 0.23185127973556519, 'eval_accuracy': 0.96525, 'eval_runtime': 21.4532, 'eval_samples_per_second': 186.452, 'eval_steps_per_second': 93.226, 'epoch': 3.12}\n",
            "{'loss': 0.067, 'learning_rate': 1.3571356783919599e-05, 'epoch': 3.25}\n"
          ]
        },
        {
          "data": {
            "application/vnd.jupyter.widget-view+json": {
              "model_id": "4178da87d52344ce854242f46690d6af",
              "version_major": 2,
              "version_minor": 0
            },
            "text/plain": [
              "  0%|          | 0/2000 [00:00<?, ?it/s]"
            ]
          },
          "metadata": {},
          "output_type": "display_data"
        },
        {
          "name": "stdout",
          "output_type": "stream",
          "text": [
            "{'eval_loss': 0.24731728434562683, 'eval_accuracy': 0.96575, 'eval_runtime': 21.3472, 'eval_samples_per_second': 187.379, 'eval_steps_per_second': 93.689, 'epoch': 3.25}\n",
            "{'loss': 0.0276, 'learning_rate': 1.332035175879397e-05, 'epoch': 3.38}\n"
          ]
        },
        {
          "data": {
            "application/vnd.jupyter.widget-view+json": {
              "model_id": "7d67bef524cb4ca2a86a874d6c54be08",
              "version_major": 2,
              "version_minor": 0
            },
            "text/plain": [
              "  0%|          | 0/2000 [00:00<?, ?it/s]"
            ]
          },
          "metadata": {},
          "output_type": "display_data"
        },
        {
          "name": "stdout",
          "output_type": "stream",
          "text": [
            "{'eval_loss': 0.29168036580085754, 'eval_accuracy': 0.963, 'eval_runtime': 21.4674, 'eval_samples_per_second': 186.329, 'eval_steps_per_second': 93.165, 'epoch': 3.38}\n",
            "{'loss': 0.0409, 'learning_rate': 1.3069095477386935e-05, 'epoch': 3.5}\n"
          ]
        },
        {
          "data": {
            "application/vnd.jupyter.widget-view+json": {
              "model_id": "f6dd2e6848ad4b4bb9d9b21ec18b2967",
              "version_major": 2,
              "version_minor": 0
            },
            "text/plain": [
              "  0%|          | 0/2000 [00:00<?, ?it/s]"
            ]
          },
          "metadata": {},
          "output_type": "display_data"
        },
        {
          "name": "stdout",
          "output_type": "stream",
          "text": [
            "{'eval_loss': 0.24366672337055206, 'eval_accuracy': 0.96875, 'eval_runtime': 21.3224, 'eval_samples_per_second': 187.596, 'eval_steps_per_second': 93.798, 'epoch': 3.5}\n",
            "{'loss': 0.0648, 'learning_rate': 1.28178391959799e-05, 'epoch': 3.62}\n"
          ]
        },
        {
          "data": {
            "application/vnd.jupyter.widget-view+json": {
              "model_id": "585d64e8e1514ebab27eeca40f237da5",
              "version_major": 2,
              "version_minor": 0
            },
            "text/plain": [
              "  0%|          | 0/2000 [00:00<?, ?it/s]"
            ]
          },
          "metadata": {},
          "output_type": "display_data"
        },
        {
          "name": "stdout",
          "output_type": "stream",
          "text": [
            "{'eval_loss': 0.23653683066368103, 'eval_accuracy': 0.9675, 'eval_runtime': 21.3626, 'eval_samples_per_second': 187.243, 'eval_steps_per_second': 93.622, 'epoch': 3.62}\n",
            "{'loss': 0.0471, 'learning_rate': 1.2566834170854271e-05, 'epoch': 3.75}\n"
          ]
        },
        {
          "data": {
            "application/vnd.jupyter.widget-view+json": {
              "model_id": "d1c5bb64cf6c45d09fe844c8b882c10e",
              "version_major": 2,
              "version_minor": 0
            },
            "text/plain": [
              "  0%|          | 0/2000 [00:00<?, ?it/s]"
            ]
          },
          "metadata": {},
          "output_type": "display_data"
        },
        {
          "name": "stdout",
          "output_type": "stream",
          "text": [
            "{'eval_loss': 0.26428961753845215, 'eval_accuracy': 0.96525, 'eval_runtime': 21.1819, 'eval_samples_per_second': 188.84, 'eval_steps_per_second': 94.42, 'epoch': 3.75}\n",
            "{'loss': 0.0438, 'learning_rate': 1.2315829145728643e-05, 'epoch': 3.88}\n"
          ]
        },
        {
          "data": {
            "application/vnd.jupyter.widget-view+json": {
              "model_id": "d9d7785b31574c83840c19f5bd6d5245",
              "version_major": 2,
              "version_minor": 0
            },
            "text/plain": [
              "  0%|          | 0/2000 [00:00<?, ?it/s]"
            ]
          },
          "metadata": {},
          "output_type": "display_data"
        },
        {
          "name": "stdout",
          "output_type": "stream",
          "text": [
            "{'eval_loss': 0.2624569237232208, 'eval_accuracy': 0.96925, 'eval_runtime': 21.1914, 'eval_samples_per_second': 188.755, 'eval_steps_per_second': 94.378, 'epoch': 3.88}\n",
            "{'loss': 0.0322, 'learning_rate': 1.206457286432161e-05, 'epoch': 4.0}\n"
          ]
        },
        {
          "data": {
            "application/vnd.jupyter.widget-view+json": {
              "model_id": "a885d66de9924084b68de0286b3381d6",
              "version_major": 2,
              "version_minor": 0
            },
            "text/plain": [
              "  0%|          | 0/2000 [00:00<?, ?it/s]"
            ]
          },
          "metadata": {},
          "output_type": "display_data"
        },
        {
          "name": "stdout",
          "output_type": "stream",
          "text": [
            "{'eval_loss': 0.26855194568634033, 'eval_accuracy': 0.966, 'eval_runtime': 21.2865, 'eval_samples_per_second': 187.913, 'eval_steps_per_second': 93.956, 'epoch': 4.0}\n",
            "{'loss': 0.0285, 'learning_rate': 1.1813316582914574e-05, 'epoch': 4.12}\n"
          ]
        },
        {
          "data": {
            "application/vnd.jupyter.widget-view+json": {
              "model_id": "922494fd53904f12894e2dbb236e3c70",
              "version_major": 2,
              "version_minor": 0
            },
            "text/plain": [
              "  0%|          | 0/2000 [00:00<?, ?it/s]"
            ]
          },
          "metadata": {},
          "output_type": "display_data"
        },
        {
          "name": "stdout",
          "output_type": "stream",
          "text": [
            "{'eval_loss': 0.2687147855758667, 'eval_accuracy': 0.96875, 'eval_runtime': 21.2871, 'eval_samples_per_second': 187.908, 'eval_steps_per_second': 93.954, 'epoch': 4.12}\n",
            "{'loss': 0.0162, 'learning_rate': 1.1562060301507538e-05, 'epoch': 4.25}\n"
          ]
        },
        {
          "data": {
            "application/vnd.jupyter.widget-view+json": {
              "model_id": "5efb3cec6cbd43d5b37144a4531c9eaf",
              "version_major": 2,
              "version_minor": 0
            },
            "text/plain": [
              "  0%|          | 0/2000 [00:00<?, ?it/s]"
            ]
          },
          "metadata": {},
          "output_type": "display_data"
        },
        {
          "name": "stdout",
          "output_type": "stream",
          "text": [
            "{'eval_loss': 0.3026686906814575, 'eval_accuracy': 0.96675, 'eval_runtime': 21.3994, 'eval_samples_per_second': 186.921, 'eval_steps_per_second': 93.461, 'epoch': 4.25}\n",
            "{'loss': 0.0421, 'learning_rate': 1.1310804020100503e-05, 'epoch': 4.38}\n"
          ]
        },
        {
          "data": {
            "application/vnd.jupyter.widget-view+json": {
              "model_id": "86d482be59b944639b706d1c391c1944",
              "version_major": 2,
              "version_minor": 0
            },
            "text/plain": [
              "  0%|          | 0/2000 [00:00<?, ?it/s]"
            ]
          },
          "metadata": {},
          "output_type": "display_data"
        },
        {
          "name": "stdout",
          "output_type": "stream",
          "text": [
            "{'eval_loss': 0.29808861017227173, 'eval_accuracy': 0.9645, 'eval_runtime': 22.0384, 'eval_samples_per_second': 181.501, 'eval_steps_per_second': 90.751, 'epoch': 4.38}\n",
            "{'loss': 0.0417, 'learning_rate': 1.1059547738693467e-05, 'epoch': 4.5}\n"
          ]
        },
        {
          "data": {
            "application/vnd.jupyter.widget-view+json": {
              "model_id": "f621116eb7ac483d9c68ba026fb65c4e",
              "version_major": 2,
              "version_minor": 0
            },
            "text/plain": [
              "  0%|          | 0/2000 [00:00<?, ?it/s]"
            ]
          },
          "metadata": {},
          "output_type": "display_data"
        },
        {
          "name": "stdout",
          "output_type": "stream",
          "text": [
            "{'eval_loss': 0.27925610542297363, 'eval_accuracy': 0.9615, 'eval_runtime': 21.8282, 'eval_samples_per_second': 183.249, 'eval_steps_per_second': 91.625, 'epoch': 4.5}\n",
            "{'loss': 0.0436, 'learning_rate': 1.080854271356784e-05, 'epoch': 4.62}\n"
          ]
        },
        {
          "data": {
            "application/vnd.jupyter.widget-view+json": {
              "model_id": "12f8d15eee8642e2acdd5554932708c0",
              "version_major": 2,
              "version_minor": 0
            },
            "text/plain": [
              "  0%|          | 0/2000 [00:00<?, ?it/s]"
            ]
          },
          "metadata": {},
          "output_type": "display_data"
        },
        {
          "name": "stdout",
          "output_type": "stream",
          "text": [
            "{'eval_loss': 0.260853111743927, 'eval_accuracy': 0.9655, 'eval_runtime': 21.5492, 'eval_samples_per_second': 185.622, 'eval_steps_per_second': 92.811, 'epoch': 4.62}\n",
            "{'loss': 0.0504, 'learning_rate': 1.0557286432160805e-05, 'epoch': 4.75}\n"
          ]
        },
        {
          "data": {
            "application/vnd.jupyter.widget-view+json": {
              "model_id": "c65f70ceb85540aa9bea350117c67d68",
              "version_major": 2,
              "version_minor": 0
            },
            "text/plain": [
              "  0%|          | 0/2000 [00:00<?, ?it/s]"
            ]
          },
          "metadata": {},
          "output_type": "display_data"
        },
        {
          "name": "stdout",
          "output_type": "stream",
          "text": [
            "{'eval_loss': 0.25547248125076294, 'eval_accuracy': 0.96625, 'eval_runtime': 21.4239, 'eval_samples_per_second': 186.708, 'eval_steps_per_second': 93.354, 'epoch': 4.75}\n",
            "{'loss': 0.0408, 'learning_rate': 1.0306281407035177e-05, 'epoch': 4.88}\n"
          ]
        },
        {
          "data": {
            "application/vnd.jupyter.widget-view+json": {
              "model_id": "6b9118b2d35f4cfbacabcd3d6f7c788e",
              "version_major": 2,
              "version_minor": 0
            },
            "text/plain": [
              "  0%|          | 0/2000 [00:00<?, ?it/s]"
            ]
          },
          "metadata": {},
          "output_type": "display_data"
        },
        {
          "name": "stdout",
          "output_type": "stream",
          "text": [
            "{'eval_loss': 0.28119221329689026, 'eval_accuracy': 0.9655, 'eval_runtime': 21.4462, 'eval_samples_per_second': 186.513, 'eval_steps_per_second': 93.257, 'epoch': 4.88}\n",
            "{'loss': 0.0176, 'learning_rate': 1.0055025125628142e-05, 'epoch': 5.0}\n"
          ]
        },
        {
          "data": {
            "application/vnd.jupyter.widget-view+json": {
              "model_id": "1fb1823d7f6343818a444bc82666b8ea",
              "version_major": 2,
              "version_minor": 0
            },
            "text/plain": [
              "  0%|          | 0/2000 [00:00<?, ?it/s]"
            ]
          },
          "metadata": {},
          "output_type": "display_data"
        },
        {
          "name": "stdout",
          "output_type": "stream",
          "text": [
            "{'eval_loss': 0.27978718280792236, 'eval_accuracy': 0.967, 'eval_runtime': 21.7829, 'eval_samples_per_second': 183.63, 'eval_steps_per_second': 91.815, 'epoch': 5.0}\n",
            "{'loss': 0.0142, 'learning_rate': 9.803768844221106e-06, 'epoch': 5.12}\n"
          ]
        },
        {
          "data": {
            "application/vnd.jupyter.widget-view+json": {
              "model_id": "bb65f23f0a6649f5961e9a2fccdb16b7",
              "version_major": 2,
              "version_minor": 0
            },
            "text/plain": [
              "  0%|          | 0/2000 [00:00<?, ?it/s]"
            ]
          },
          "metadata": {},
          "output_type": "display_data"
        },
        {
          "name": "stdout",
          "output_type": "stream",
          "text": [
            "{'eval_loss': 0.2908329367637634, 'eval_accuracy': 0.9675, 'eval_runtime': 21.7439, 'eval_samples_per_second': 183.96, 'eval_steps_per_second': 91.98, 'epoch': 5.12}\n",
            "{'loss': 0.0133, 'learning_rate': 9.55251256281407e-06, 'epoch': 5.25}\n"
          ]
        },
        {
          "data": {
            "application/vnd.jupyter.widget-view+json": {
              "model_id": "96dd12972247412290f668e1bfbb0740",
              "version_major": 2,
              "version_minor": 0
            },
            "text/plain": [
              "  0%|          | 0/2000 [00:00<?, ?it/s]"
            ]
          },
          "metadata": {},
          "output_type": "display_data"
        },
        {
          "name": "stdout",
          "output_type": "stream",
          "text": [
            "{'eval_loss': 0.3114830255508423, 'eval_accuracy': 0.96825, 'eval_runtime': 21.7213, 'eval_samples_per_second': 184.151, 'eval_steps_per_second': 92.075, 'epoch': 5.25}\n",
            "{'loss': 0.0202, 'learning_rate': 9.301507537688444e-06, 'epoch': 5.38}\n"
          ]
        },
        {
          "data": {
            "application/vnd.jupyter.widget-view+json": {
              "model_id": "282b5b8be3474a208cafde91362d24f2",
              "version_major": 2,
              "version_minor": 0
            },
            "text/plain": [
              "  0%|          | 0/2000 [00:00<?, ?it/s]"
            ]
          },
          "metadata": {},
          "output_type": "display_data"
        },
        {
          "name": "stdout",
          "output_type": "stream",
          "text": [
            "{'eval_loss': 0.28611141443252563, 'eval_accuracy': 0.966, 'eval_runtime': 21.7374, 'eval_samples_per_second': 184.015, 'eval_steps_per_second': 92.007, 'epoch': 5.38}\n",
            "{'loss': 0.0256, 'learning_rate': 9.050502512562814e-06, 'epoch': 5.5}\n"
          ]
        },
        {
          "data": {
            "application/vnd.jupyter.widget-view+json": {
              "model_id": "89810076b49d4f4ba115ad205ab33b8e",
              "version_major": 2,
              "version_minor": 0
            },
            "text/plain": [
              "  0%|          | 0/2000 [00:00<?, ?it/s]"
            ]
          },
          "metadata": {},
          "output_type": "display_data"
        },
        {
          "name": "stdout",
          "output_type": "stream",
          "text": [
            "{'eval_loss': 0.34644371271133423, 'eval_accuracy': 0.9625, 'eval_runtime': 21.2236, 'eval_samples_per_second': 188.47, 'eval_steps_per_second': 94.235, 'epoch': 5.5}\n",
            "{'loss': 0.0343, 'learning_rate': 8.799246231155779e-06, 'epoch': 5.62}\n"
          ]
        },
        {
          "data": {
            "application/vnd.jupyter.widget-view+json": {
              "model_id": "abad5ca77bf04ebc8ce9a0eb7d2e6209",
              "version_major": 2,
              "version_minor": 0
            },
            "text/plain": [
              "  0%|          | 0/2000 [00:00<?, ?it/s]"
            ]
          },
          "metadata": {},
          "output_type": "display_data"
        },
        {
          "name": "stdout",
          "output_type": "stream",
          "text": [
            "{'eval_loss': 0.27354565262794495, 'eval_accuracy': 0.96725, 'eval_runtime': 21.106, 'eval_samples_per_second': 189.52, 'eval_steps_per_second': 94.76, 'epoch': 5.62}\n",
            "{'loss': 0.0211, 'learning_rate': 8.547989949748743e-06, 'epoch': 5.75}\n"
          ]
        },
        {
          "data": {
            "application/vnd.jupyter.widget-view+json": {
              "model_id": "56c2fe0891404428a29bb521b8140061",
              "version_major": 2,
              "version_minor": 0
            },
            "text/plain": [
              "  0%|          | 0/2000 [00:00<?, ?it/s]"
            ]
          },
          "metadata": {},
          "output_type": "display_data"
        },
        {
          "name": "stdout",
          "output_type": "stream",
          "text": [
            "{'eval_loss': 0.26410791277885437, 'eval_accuracy': 0.96725, 'eval_runtime': 21.4907, 'eval_samples_per_second': 186.127, 'eval_steps_per_second': 93.064, 'epoch': 5.75}\n",
            "{'loss': 0.0218, 'learning_rate': 8.296984924623117e-06, 'epoch': 5.88}\n"
          ]
        },
        {
          "data": {
            "application/vnd.jupyter.widget-view+json": {
              "model_id": "762ccd8f1d584cc1b97dff70f5f0e539",
              "version_major": 2,
              "version_minor": 0
            },
            "text/plain": [
              "  0%|          | 0/2000 [00:00<?, ?it/s]"
            ]
          },
          "metadata": {},
          "output_type": "display_data"
        },
        {
          "name": "stdout",
          "output_type": "stream",
          "text": [
            "{'eval_loss': 0.2799511253833771, 'eval_accuracy': 0.96825, 'eval_runtime': 21.4966, 'eval_samples_per_second': 186.076, 'eval_steps_per_second': 93.038, 'epoch': 5.88}\n",
            "{'loss': 0.0202, 'learning_rate': 8.045728643216081e-06, 'epoch': 6.0}\n"
          ]
        },
        {
          "data": {
            "application/vnd.jupyter.widget-view+json": {
              "model_id": "8b6086fb35ec413db68f1d070b4a93ea",
              "version_major": 2,
              "version_minor": 0
            },
            "text/plain": [
              "  0%|          | 0/2000 [00:00<?, ?it/s]"
            ]
          },
          "metadata": {},
          "output_type": "display_data"
        },
        {
          "name": "stdout",
          "output_type": "stream",
          "text": [
            "{'eval_loss': 0.32256531715393066, 'eval_accuracy': 0.9655, 'eval_runtime': 21.3986, 'eval_samples_per_second': 186.928, 'eval_steps_per_second': 93.464, 'epoch': 6.0}\n",
            "{'loss': 0.0043, 'learning_rate': 7.794472361809046e-06, 'epoch': 6.12}\n"
          ]
        },
        {
          "data": {
            "application/vnd.jupyter.widget-view+json": {
              "model_id": "d4d50162f185470888569a61d03da947",
              "version_major": 2,
              "version_minor": 0
            },
            "text/plain": [
              "  0%|          | 0/2000 [00:00<?, ?it/s]"
            ]
          },
          "metadata": {},
          "output_type": "display_data"
        },
        {
          "name": "stdout",
          "output_type": "stream",
          "text": [
            "{'eval_loss': 0.3162810206413269, 'eval_accuracy': 0.96775, 'eval_runtime': 21.3428, 'eval_samples_per_second': 187.417, 'eval_steps_per_second': 93.708, 'epoch': 6.12}\n",
            "{'loss': 0.0065, 'learning_rate': 7.54321608040201e-06, 'epoch': 6.25}\n"
          ]
        },
        {
          "data": {
            "application/vnd.jupyter.widget-view+json": {
              "model_id": "cef491c9f8ac4b9faa3b67b701b18571",
              "version_major": 2,
              "version_minor": 0
            },
            "text/plain": [
              "  0%|          | 0/2000 [00:00<?, ?it/s]"
            ]
          },
          "metadata": {},
          "output_type": "display_data"
        },
        {
          "name": "stdout",
          "output_type": "stream",
          "text": [
            "{'eval_loss': 0.3497527539730072, 'eval_accuracy': 0.967, 'eval_runtime': 21.2465, 'eval_samples_per_second': 188.266, 'eval_steps_per_second': 94.133, 'epoch': 6.25}\n",
            "{'loss': 0.0088, 'learning_rate': 7.292211055276383e-06, 'epoch': 6.38}\n"
          ]
        },
        {
          "data": {
            "application/vnd.jupyter.widget-view+json": {
              "model_id": "a4c3d33d10ba4373bcf3b96fc6bfe473",
              "version_major": 2,
              "version_minor": 0
            },
            "text/plain": [
              "  0%|          | 0/2000 [00:00<?, ?it/s]"
            ]
          },
          "metadata": {},
          "output_type": "display_data"
        },
        {
          "name": "stdout",
          "output_type": "stream",
          "text": [
            "{'eval_loss': 0.3558047413825989, 'eval_accuracy': 0.96725, 'eval_runtime': 21.752, 'eval_samples_per_second': 183.891, 'eval_steps_per_second': 91.946, 'epoch': 6.38}\n",
            "{'loss': 0.0102, 'learning_rate': 7.040954773869347e-06, 'epoch': 6.5}\n"
          ]
        },
        {
          "data": {
            "application/vnd.jupyter.widget-view+json": {
              "model_id": "c914eda7eafa433d8b614e6f1eee0d2f",
              "version_major": 2,
              "version_minor": 0
            },
            "text/plain": [
              "  0%|          | 0/2000 [00:00<?, ?it/s]"
            ]
          },
          "metadata": {},
          "output_type": "display_data"
        },
        {
          "name": "stdout",
          "output_type": "stream",
          "text": [
            "{'eval_loss': 0.3317978084087372, 'eval_accuracy': 0.96775, 'eval_runtime': 21.1932, 'eval_samples_per_second': 188.739, 'eval_steps_per_second': 94.37, 'epoch': 6.5}\n",
            "{'loss': 0.0134, 'learning_rate': 6.789698492462312e-06, 'epoch': 6.62}\n"
          ]
        },
        {
          "data": {
            "application/vnd.jupyter.widget-view+json": {
              "model_id": "e9a1732794cc4d30974f8ff61bb70839",
              "version_major": 2,
              "version_minor": 0
            },
            "text/plain": [
              "  0%|          | 0/2000 [00:00<?, ?it/s]"
            ]
          },
          "metadata": {},
          "output_type": "display_data"
        },
        {
          "name": "stdout",
          "output_type": "stream",
          "text": [
            "{'eval_loss': 0.3630959689617157, 'eval_accuracy': 0.966, 'eval_runtime': 22.07, 'eval_samples_per_second': 181.241, 'eval_steps_per_second': 90.621, 'epoch': 6.62}\n",
            "{'loss': 0.0111, 'learning_rate': 6.538442211055277e-06, 'epoch': 6.75}\n"
          ]
        },
        {
          "data": {
            "application/vnd.jupyter.widget-view+json": {
              "model_id": "2e431bcc3a684f2ab7cae026163b8d63",
              "version_major": 2,
              "version_minor": 0
            },
            "text/plain": [
              "  0%|          | 0/2000 [00:00<?, ?it/s]"
            ]
          },
          "metadata": {},
          "output_type": "display_data"
        },
        {
          "name": "stdout",
          "output_type": "stream",
          "text": [
            "{'eval_loss': 0.3695167601108551, 'eval_accuracy': 0.96875, 'eval_runtime': 21.4313, 'eval_samples_per_second': 186.643, 'eval_steps_per_second': 93.321, 'epoch': 6.75}\n",
            "{'loss': 0.0142, 'learning_rate': 6.287437185929649e-06, 'epoch': 6.88}\n"
          ]
        },
        {
          "data": {
            "application/vnd.jupyter.widget-view+json": {
              "model_id": "c081ca7af33e468ab9dcb6a7b2a02e6a",
              "version_major": 2,
              "version_minor": 0
            },
            "text/plain": [
              "  0%|          | 0/2000 [00:00<?, ?it/s]"
            ]
          },
          "metadata": {},
          "output_type": "display_data"
        },
        {
          "name": "stdout",
          "output_type": "stream",
          "text": [
            "{'eval_loss': 0.34439799189567566, 'eval_accuracy': 0.969, 'eval_runtime': 22.2882, 'eval_samples_per_second': 179.467, 'eval_steps_per_second': 89.734, 'epoch': 6.88}\n",
            "{'loss': 0.0222, 'learning_rate': 6.0361809045226135e-06, 'epoch': 7.0}\n"
          ]
        },
        {
          "data": {
            "application/vnd.jupyter.widget-view+json": {
              "model_id": "97f70cd1014c402bb5bb7c6cb800dad3",
              "version_major": 2,
              "version_minor": 0
            },
            "text/plain": [
              "  0%|          | 0/2000 [00:00<?, ?it/s]"
            ]
          },
          "metadata": {},
          "output_type": "display_data"
        },
        {
          "name": "stdout",
          "output_type": "stream",
          "text": [
            "{'eval_loss': 0.3092615306377411, 'eval_accuracy': 0.96775, 'eval_runtime': 23.0026, 'eval_samples_per_second': 173.893, 'eval_steps_per_second': 86.947, 'epoch': 7.0}\n",
            "{'loss': 0.0012, 'learning_rate': 5.784924623115579e-06, 'epoch': 7.12}\n"
          ]
        },
        {
          "data": {
            "application/vnd.jupyter.widget-view+json": {
              "model_id": "0aaf3e040e7942b9b02c6a833315d87d",
              "version_major": 2,
              "version_minor": 0
            },
            "text/plain": [
              "  0%|          | 0/2000 [00:00<?, ?it/s]"
            ]
          },
          "metadata": {},
          "output_type": "display_data"
        },
        {
          "name": "stdout",
          "output_type": "stream",
          "text": [
            "{'eval_loss': 0.3494756817817688, 'eval_accuracy': 0.96775, 'eval_runtime': 21.906, 'eval_samples_per_second': 182.599, 'eval_steps_per_second': 91.299, 'epoch': 7.12}\n",
            "{'loss': 0.0128, 'learning_rate': 5.533668341708543e-06, 'epoch': 7.25}\n"
          ]
        },
        {
          "data": {
            "application/vnd.jupyter.widget-view+json": {
              "model_id": "2761175e028343778f2df964c0792130",
              "version_major": 2,
              "version_minor": 0
            },
            "text/plain": [
              "  0%|          | 0/2000 [00:00<?, ?it/s]"
            ]
          },
          "metadata": {},
          "output_type": "display_data"
        },
        {
          "name": "stdout",
          "output_type": "stream",
          "text": [
            "{'eval_loss': 0.33140698075294495, 'eval_accuracy': 0.968, 'eval_runtime': 21.5898, 'eval_samples_per_second': 185.273, 'eval_steps_per_second': 92.636, 'epoch': 7.25}\n",
            "{'loss': 0.002, 'learning_rate': 5.282663316582915e-06, 'epoch': 7.38}\n"
          ]
        },
        {
          "data": {
            "application/vnd.jupyter.widget-view+json": {
              "model_id": "da4dabe9aa18464f9a2d9ab0bd024a74",
              "version_major": 2,
              "version_minor": 0
            },
            "text/plain": [
              "  0%|          | 0/2000 [00:00<?, ?it/s]"
            ]
          },
          "metadata": {},
          "output_type": "display_data"
        },
        {
          "name": "stdout",
          "output_type": "stream",
          "text": [
            "{'eval_loss': 0.3431863784790039, 'eval_accuracy': 0.96975, 'eval_runtime': 21.889, 'eval_samples_per_second': 182.74, 'eval_steps_per_second': 91.37, 'epoch': 7.38}\n",
            "{'loss': 0.0124, 'learning_rate': 5.0314070351758805e-06, 'epoch': 7.5}\n"
          ]
        },
        {
          "data": {
            "application/vnd.jupyter.widget-view+json": {
              "model_id": "7be9a21d7eaf4a10b3ee6c1f8ab7a3c5",
              "version_major": 2,
              "version_minor": 0
            },
            "text/plain": [
              "  0%|          | 0/2000 [00:00<?, ?it/s]"
            ]
          },
          "metadata": {},
          "output_type": "display_data"
        },
        {
          "name": "stdout",
          "output_type": "stream",
          "text": [
            "{'eval_loss': 0.33915114402770996, 'eval_accuracy': 0.969, 'eval_runtime': 21.6023, 'eval_samples_per_second': 185.166, 'eval_steps_per_second': 92.583, 'epoch': 7.5}\n",
            "{'loss': 0.0018, 'learning_rate': 4.780150753768845e-06, 'epoch': 7.62}\n"
          ]
        },
        {
          "data": {
            "application/vnd.jupyter.widget-view+json": {
              "model_id": "7eea8966ecb444eca30bcee5e364d8b1",
              "version_major": 2,
              "version_minor": 0
            },
            "text/plain": [
              "  0%|          | 0/2000 [00:00<?, ?it/s]"
            ]
          },
          "metadata": {},
          "output_type": "display_data"
        },
        {
          "name": "stdout",
          "output_type": "stream",
          "text": [
            "{'eval_loss': 0.36213165521621704, 'eval_accuracy': 0.96825, 'eval_runtime': 21.3564, 'eval_samples_per_second': 187.298, 'eval_steps_per_second': 93.649, 'epoch': 7.62}\n",
            "{'loss': 0.0022, 'learning_rate': 4.529145728643217e-06, 'epoch': 7.75}\n"
          ]
        },
        {
          "data": {
            "application/vnd.jupyter.widget-view+json": {
              "model_id": "4a7462752c894ba8aa3f3f50e9d1163f",
              "version_major": 2,
              "version_minor": 0
            },
            "text/plain": [
              "  0%|          | 0/2000 [00:00<?, ?it/s]"
            ]
          },
          "metadata": {},
          "output_type": "display_data"
        },
        {
          "name": "stdout",
          "output_type": "stream",
          "text": [
            "{'eval_loss': 0.38372260332107544, 'eval_accuracy': 0.96975, 'eval_runtime': 21.841, 'eval_samples_per_second': 183.142, 'eval_steps_per_second': 91.571, 'epoch': 7.75}\n",
            "{'loss': 0.0039, 'learning_rate': 4.277889447236181e-06, 'epoch': 7.88}\n"
          ]
        },
        {
          "data": {
            "application/vnd.jupyter.widget-view+json": {
              "model_id": "42f81376ece24625a1f44cba3b75624c",
              "version_major": 2,
              "version_minor": 0
            },
            "text/plain": [
              "  0%|          | 0/2000 [00:00<?, ?it/s]"
            ]
          },
          "metadata": {},
          "output_type": "display_data"
        },
        {
          "name": "stdout",
          "output_type": "stream",
          "text": [
            "{'eval_loss': 0.3885185420513153, 'eval_accuracy': 0.9675, 'eval_runtime': 21.4024, 'eval_samples_per_second': 186.895, 'eval_steps_per_second': 93.448, 'epoch': 7.88}\n",
            "{'loss': 0.0251, 'learning_rate': 4.026884422110553e-06, 'epoch': 8.0}\n"
          ]
        },
        {
          "data": {
            "application/vnd.jupyter.widget-view+json": {
              "model_id": "3fb6bd787e6a4affbc8b1ce84684fe85",
              "version_major": 2,
              "version_minor": 0
            },
            "text/plain": [
              "  0%|          | 0/2000 [00:00<?, ?it/s]"
            ]
          },
          "metadata": {},
          "output_type": "display_data"
        },
        {
          "name": "stdout",
          "output_type": "stream",
          "text": [
            "{'eval_loss': 0.381529837846756, 'eval_accuracy': 0.968, 'eval_runtime': 21.5102, 'eval_samples_per_second': 185.958, 'eval_steps_per_second': 92.979, 'epoch': 8.0}\n",
            "{'loss': 0.003, 'learning_rate': 3.775628140703518e-06, 'epoch': 8.12}\n"
          ]
        },
        {
          "data": {
            "application/vnd.jupyter.widget-view+json": {
              "model_id": "b6ee6e164ff4408fb04dd144ab4bbba4",
              "version_major": 2,
              "version_minor": 0
            },
            "text/plain": [
              "  0%|          | 0/2000 [00:00<?, ?it/s]"
            ]
          },
          "metadata": {},
          "output_type": "display_data"
        },
        {
          "name": "stdout",
          "output_type": "stream",
          "text": [
            "{'eval_loss': 0.37167754769325256, 'eval_accuracy': 0.96825, 'eval_runtime': 21.9052, 'eval_samples_per_second': 182.605, 'eval_steps_per_second': 91.302, 'epoch': 8.12}\n",
            "{'loss': 0.0024, 'learning_rate': 3.5246231155778897e-06, 'epoch': 8.25}\n"
          ]
        },
        {
          "data": {
            "application/vnd.jupyter.widget-view+json": {
              "model_id": "7b4672d6d0a541eaac78f58a34d535f6",
              "version_major": 2,
              "version_minor": 0
            },
            "text/plain": [
              "  0%|          | 0/2000 [00:00<?, ?it/s]"
            ]
          },
          "metadata": {},
          "output_type": "display_data"
        },
        {
          "name": "stdout",
          "output_type": "stream",
          "text": [
            "{'eval_loss': 0.37677857279777527, 'eval_accuracy': 0.96775, 'eval_runtime': 21.3944, 'eval_samples_per_second': 186.965, 'eval_steps_per_second': 93.482, 'epoch': 8.25}\n",
            "{'loss': 0.0008, 'learning_rate': 3.2733668341708546e-06, 'epoch': 8.38}\n"
          ]
        },
        {
          "data": {
            "application/vnd.jupyter.widget-view+json": {
              "model_id": "94cc3742e53941409b116c5daef36fc7",
              "version_major": 2,
              "version_minor": 0
            },
            "text/plain": [
              "  0%|          | 0/2000 [00:00<?, ?it/s]"
            ]
          },
          "metadata": {},
          "output_type": "display_data"
        },
        {
          "name": "stdout",
          "output_type": "stream",
          "text": [
            "{'eval_loss': 0.39796924591064453, 'eval_accuracy': 0.96925, 'eval_runtime': 21.3428, 'eval_samples_per_second': 187.417, 'eval_steps_per_second': 93.708, 'epoch': 8.38}\n",
            "{'loss': 0.0066, 'learning_rate': 3.022361809045226e-06, 'epoch': 8.5}\n"
          ]
        },
        {
          "data": {
            "application/vnd.jupyter.widget-view+json": {
              "model_id": "5b7e2f7d26dc421392163d3a7c686bac",
              "version_major": 2,
              "version_minor": 0
            },
            "text/plain": [
              "  0%|          | 0/2000 [00:00<?, ?it/s]"
            ]
          },
          "metadata": {},
          "output_type": "display_data"
        },
        {
          "name": "stdout",
          "output_type": "stream",
          "text": [
            "{'eval_loss': 0.3926517963409424, 'eval_accuracy': 0.969, 'eval_runtime': 21.3317, 'eval_samples_per_second': 187.514, 'eval_steps_per_second': 93.757, 'epoch': 8.5}\n",
            "{'loss': 0.0006, 'learning_rate': 2.771105527638191e-06, 'epoch': 8.62}\n"
          ]
        },
        {
          "data": {
            "application/vnd.jupyter.widget-view+json": {
              "model_id": "18de1a5b98014d83b7a22e26b9afc7bf",
              "version_major": 2,
              "version_minor": 0
            },
            "text/plain": [
              "  0%|          | 0/2000 [00:00<?, ?it/s]"
            ]
          },
          "metadata": {},
          "output_type": "display_data"
        },
        {
          "name": "stdout",
          "output_type": "stream",
          "text": [
            "{'eval_loss': 0.3992263078689575, 'eval_accuracy': 0.969, 'eval_runtime': 21.9847, 'eval_samples_per_second': 181.945, 'eval_steps_per_second': 90.972, 'epoch': 8.62}\n",
            "{'loss': 0.0085, 'learning_rate': 2.519849246231156e-06, 'epoch': 8.75}\n"
          ]
        },
        {
          "data": {
            "application/vnd.jupyter.widget-view+json": {
              "model_id": "8197d896db69408695d2eb6dfaf2f53a",
              "version_major": 2,
              "version_minor": 0
            },
            "text/plain": [
              "  0%|          | 0/2000 [00:00<?, ?it/s]"
            ]
          },
          "metadata": {},
          "output_type": "display_data"
        },
        {
          "name": "stdout",
          "output_type": "stream",
          "text": [
            "{'eval_loss': 0.3978897035121918, 'eval_accuracy': 0.9685, 'eval_runtime': 21.6689, 'eval_samples_per_second': 184.596, 'eval_steps_per_second': 92.298, 'epoch': 8.75}\n",
            "{'loss': 0.0015, 'learning_rate': 2.2685929648241208e-06, 'epoch': 8.88}\n"
          ]
        },
        {
          "data": {
            "application/vnd.jupyter.widget-view+json": {
              "model_id": "f667b391adcf4ddbb94deaf6fc75fd92",
              "version_major": 2,
              "version_minor": 0
            },
            "text/plain": [
              "  0%|          | 0/2000 [00:00<?, ?it/s]"
            ]
          },
          "metadata": {},
          "output_type": "display_data"
        },
        {
          "name": "stdout",
          "output_type": "stream",
          "text": [
            "{'eval_loss': 0.39853373169898987, 'eval_accuracy': 0.96975, 'eval_runtime': 22.1931, 'eval_samples_per_second': 180.236, 'eval_steps_per_second': 90.118, 'epoch': 8.88}\n",
            "{'loss': 0.0, 'learning_rate': 2.0173366834170857e-06, 'epoch': 9.0}\n"
          ]
        },
        {
          "data": {
            "application/vnd.jupyter.widget-view+json": {
              "model_id": "91ee9c70a1304e1c91089d967d4616b4",
              "version_major": 2,
              "version_minor": 0
            },
            "text/plain": [
              "  0%|          | 0/2000 [00:00<?, ?it/s]"
            ]
          },
          "metadata": {},
          "output_type": "display_data"
        },
        {
          "name": "stdout",
          "output_type": "stream",
          "text": [
            "{'eval_loss': 0.4044252336025238, 'eval_accuracy': 0.96975, 'eval_runtime': 21.7025, 'eval_samples_per_second': 184.311, 'eval_steps_per_second': 92.155, 'epoch': 9.0}\n",
            "{'loss': 0.0, 'learning_rate': 1.7660804020100502e-06, 'epoch': 9.12}\n"
          ]
        },
        {
          "data": {
            "application/vnd.jupyter.widget-view+json": {
              "model_id": "70f20f7e42ea499a833c3f1b6f0d337c",
              "version_major": 2,
              "version_minor": 0
            },
            "text/plain": [
              "  0%|          | 0/2000 [00:00<?, ?it/s]"
            ]
          },
          "metadata": {},
          "output_type": "display_data"
        },
        {
          "name": "stdout",
          "output_type": "stream",
          "text": [
            "{'eval_loss': 0.40755367279052734, 'eval_accuracy': 0.97, 'eval_runtime': 21.2264, 'eval_samples_per_second': 188.445, 'eval_steps_per_second': 94.222, 'epoch': 9.12}\n",
            "{'loss': 0.0141, 'learning_rate': 1.5150753768844224e-06, 'epoch': 9.25}\n"
          ]
        },
        {
          "data": {
            "application/vnd.jupyter.widget-view+json": {
              "model_id": "2f60ccb88f774fb396883f607985cfb9",
              "version_major": 2,
              "version_minor": 0
            },
            "text/plain": [
              "  0%|          | 0/2000 [00:00<?, ?it/s]"
            ]
          },
          "metadata": {},
          "output_type": "display_data"
        },
        {
          "name": "stdout",
          "output_type": "stream",
          "text": [
            "{'eval_loss': 0.40096426010131836, 'eval_accuracy': 0.97, 'eval_runtime': 21.8477, 'eval_samples_per_second': 183.086, 'eval_steps_per_second': 91.543, 'epoch': 9.25}\n",
            "{'loss': 0.0054, 'learning_rate': 1.2640703517587942e-06, 'epoch': 9.38}\n"
          ]
        },
        {
          "data": {
            "application/vnd.jupyter.widget-view+json": {
              "model_id": "51c13ff0b03c45e2beac05e1fd9ee241",
              "version_major": 2,
              "version_minor": 0
            },
            "text/plain": [
              "  0%|          | 0/2000 [00:00<?, ?it/s]"
            ]
          },
          "metadata": {},
          "output_type": "display_data"
        },
        {
          "name": "stdout",
          "output_type": "stream",
          "text": [
            "{'eval_loss': 0.4079992175102234, 'eval_accuracy': 0.96975, 'eval_runtime': 21.3256, 'eval_samples_per_second': 187.568, 'eval_steps_per_second': 93.784, 'epoch': 9.38}\n",
            "{'loss': 0.0, 'learning_rate': 1.0128140703517589e-06, 'epoch': 9.5}\n"
          ]
        },
        {
          "data": {
            "application/vnd.jupyter.widget-view+json": {
              "model_id": "1851b76f0e9340b081fb2552e992685f",
              "version_major": 2,
              "version_minor": 0
            },
            "text/plain": [
              "  0%|          | 0/2000 [00:00<?, ?it/s]"
            ]
          },
          "metadata": {},
          "output_type": "display_data"
        },
        {
          "name": "stdout",
          "output_type": "stream",
          "text": [
            "{'eval_loss': 0.412305623292923, 'eval_accuracy': 0.9695, 'eval_runtime': 21.4046, 'eval_samples_per_second': 186.875, 'eval_steps_per_second': 93.438, 'epoch': 9.5}\n",
            "{'loss': 0.0029, 'learning_rate': 7.615577889447237e-07, 'epoch': 9.62}\n"
          ]
        },
        {
          "data": {
            "application/vnd.jupyter.widget-view+json": {
              "model_id": "43994d5686ff4584bfa68bb90af3b63f",
              "version_major": 2,
              "version_minor": 0
            },
            "text/plain": [
              "  0%|          | 0/2000 [00:00<?, ?it/s]"
            ]
          },
          "metadata": {},
          "output_type": "display_data"
        },
        {
          "name": "stdout",
          "output_type": "stream",
          "text": [
            "{'eval_loss': 0.4134979248046875, 'eval_accuracy': 0.9695, 'eval_runtime': 21.6296, 'eval_samples_per_second': 184.932, 'eval_steps_per_second': 92.466, 'epoch': 9.62}\n",
            "{'loss': 0.0, 'learning_rate': 5.103015075376884e-07, 'epoch': 9.75}\n"
          ]
        },
        {
          "data": {
            "application/vnd.jupyter.widget-view+json": {
              "model_id": "c4d8f67bf7054aa1bd0fd9892a02cd87",
              "version_major": 2,
              "version_minor": 0
            },
            "text/plain": [
              "  0%|          | 0/2000 [00:00<?, ?it/s]"
            ]
          },
          "metadata": {},
          "output_type": "display_data"
        },
        {
          "name": "stdout",
          "output_type": "stream",
          "text": [
            "{'eval_loss': 0.41410529613494873, 'eval_accuracy': 0.96925, 'eval_runtime': 21.4999, 'eval_samples_per_second': 186.047, 'eval_steps_per_second': 93.024, 'epoch': 9.75}\n",
            "{'loss': 0.0018, 'learning_rate': 2.5904522613065327e-07, 'epoch': 9.88}\n"
          ]
        },
        {
          "data": {
            "application/vnd.jupyter.widget-view+json": {
              "model_id": "3e8e955543954532af1f8331cb1df08a",
              "version_major": 2,
              "version_minor": 0
            },
            "text/plain": [
              "  0%|          | 0/2000 [00:00<?, ?it/s]"
            ]
          },
          "metadata": {},
          "output_type": "display_data"
        },
        {
          "name": "stdout",
          "output_type": "stream",
          "text": [
            "{'eval_loss': 0.4154391288757324, 'eval_accuracy': 0.96925, 'eval_runtime': 21.466, 'eval_samples_per_second': 186.341, 'eval_steps_per_second': 93.171, 'epoch': 9.88}\n",
            "{'loss': 0.0014, 'learning_rate': 7.788944723618091e-09, 'epoch': 10.0}\n"
          ]
        },
        {
          "data": {
            "application/vnd.jupyter.widget-view+json": {
              "model_id": "b6b2f87b3818434ba8f697e1f1907a11",
              "version_major": 2,
              "version_minor": 0
            },
            "text/plain": [
              "  0%|          | 0/2000 [00:00<?, ?it/s]"
            ]
          },
          "metadata": {},
          "output_type": "display_data"
        },
        {
          "name": "stdout",
          "output_type": "stream",
          "text": [
            "{'eval_loss': 0.4153878092765808, 'eval_accuracy': 0.96925, 'eval_runtime': 21.5256, 'eval_samples_per_second': 185.825, 'eval_steps_per_second': 92.912, 'epoch': 10.0}\n",
            "{'train_runtime': 5164.8069, 'train_samples_per_second': 30.979, 'train_steps_per_second': 15.489, 'train_loss': 0.06324111212342977, 'epoch': 10.0}\n"
          ]
        },
        {
          "data": {
            "text/plain": [
              "TrainOutput(global_step=80000, training_loss=0.06324111212342977, metrics={'train_runtime': 5164.8069, 'train_samples_per_second': 30.979, 'train_steps_per_second': 15.489, 'train_loss': 0.06324111212342977, 'epoch': 10.0})"
            ]
          },
          "execution_count": 19,
          "metadata": {},
          "output_type": "execute_result"
        }
      ],
      "source": [
        "from accelerate import Accelerator\n",
        "\n",
        "# Initialize Accelerator and Trainer\n",
        "Accelerator()\n",
        "trainer.train()"
      ]
    },
    {
      "cell_type": "markdown",
      "metadata": {
        "id": "2wlH9_LX9fG2"
      },
      "source": [
        "## 10. Sentiment Prediction using custom text\n"
      ]
    },
    {
      "cell_type": "code",
      "execution_count": 20,
      "metadata": {
        "id": "EBo9Vmnh8ET8"
      },
      "outputs": [],
      "source": [
        "# Tokenize text, get output from model and predict\n",
        "def predict_sentiment(model, tokenizer, text, device):\n",
        "    tokenized = tokenizer(text, truncation=True, padding=True, return_tensors='pt').to(device)\n",
        "    outputs = model(**tokenized)\n",
        "\n",
        "    probs = F.softmax(outputs.logits, dim=-1)\n",
        "    preds = torch.argmax(outputs.logits, dim=-1).item()\n",
        "    probs_max = probs.max().detach().cpu().numpy()\n",
        "\n",
        "    prediction = int_to_sentiment[preds]\n",
        "    print(f'{text}\\nSentiment: {prediction}\\tProbability: {probs_max*100:.2f}%\\n', end=\"-\"*50 + \"\\n\")\n",
        "    # return prediction, probs_max"
      ]
    },
    {
      "cell_type": "code",
      "execution_count": 21,
      "metadata": {
        "id": "EujVy_419ip4"
      },
      "outputs": [
        {
          "name": "stdout",
          "output_type": "stream",
          "text": [
            "The traffic was horrendous this morning; I was stuck in it for over an hour.\n",
            "Sentiment: negative\tProbability: 99.46%\n",
            "--------------------------------------------------\n",
            "I was extremely disappointed with the quality of the product; it didn't meet my expectations at all.\n",
            "Sentiment: negative\tProbability: 99.98%\n",
            "--------------------------------------------------\n",
            "The customer service at the restaurant was very good; the staff went above and beyond to make us feel welcome.\n",
            "Sentiment: positive\tProbability: 99.96%\n",
            "--------------------------------------------------\n",
            "My recent stay at Paradise Resort was absolutely fantastic! From the moment I arrived, I was greeted with warm smiles and excellent service. The room was spacious, beautifully decorated, and spotlessly clean. I loved the breathtaking view from my balcony overlooking the pool and tropical gardens. The dining options were exceptional, and the resort's facilities were top-notch, offering everything from a fitness center to guided nature walks. Overall, Paradise Resort exceeded all my expectations, and I can't wait to return for another memorable stay!\n",
            "Sentiment: positive\tProbability: 99.98%\n",
            "--------------------------------------------------\n",
            "The movie started off promising, but it quickly went downhill. The plot was confusing, the acting was mediocre, and the ending was unsatisfying.\n",
            "Sentiment: negative\tProbability: 74.94%\n",
            "--------------------------------------------------\n",
            "I had a terrible experience at the restaurant last night. The food was cold, the service was slow, and the staff was rude.\n",
            "Sentiment: negative\tProbability: 95.25%\n",
            "--------------------------------------------------\n",
            "Despite the initial skepticism, I was pleasantly surprised by the performance of the new smartphone. Its sleek design, impressive camera quality, and fast processing speed exceeded my expectations.\n",
            "Sentiment: positive\tProbability: 99.96%\n",
            "--------------------------------------------------\n",
            "The concert was absolutely amazing! The energy of the performers, the enthusiasm of the crowd, and the quality of the music made it an unforgettable experience.\n",
            "Sentiment: positive\tProbability: 99.98%\n",
            "--------------------------------------------------\n",
            "I had high hopes for the book, but it turned out to be a disappointment. The characters were one-dimensional, the plot was predictable, and the writing style was uninspired.\n",
            "Sentiment: negative\tProbability: 82.71%\n",
            "--------------------------------------------------\n",
            "The presentation was well-prepared and delivered with confidence. The speaker engaged the audience effectively and provided valuable insights on the topic.\n",
            "Sentiment: positive\tProbability: 99.74%\n",
            "--------------------------------------------------\n",
            "The service at the hotel was impeccable. The staff was attentive, courteous, and always willing to assist with any request.\n",
            "Sentiment: neutral\tProbability: 94.07%\n",
            "--------------------------------------------------\n",
            "The weather during our vacation was dreadful; it rained every day, and we were stuck indoors for most of the trip.\n",
            "Sentiment: negative\tProbability: 92.42%\n",
            "--------------------------------------------------\n",
            "The hiking trail offered breathtaking views of the mountains and lush forests. It was a challenging but rewarding experience.\n",
            "Sentiment: positive\tProbability: 99.95%\n",
            "--------------------------------------------------\n",
            "The customer support team was unhelpful and incompetent. They were unable to resolve my issue and seemed indifferent to my concerns.\n",
            "Sentiment: negative\tProbability: 99.43%\n",
            "--------------------------------------------------\n",
            "The play was a delightful blend of humor, drama, and suspense. The talented cast delivered stellar performances, and the storyline kept me engaged from start to finish.\n",
            "Sentiment: positive\tProbability: 99.97%\n",
            "--------------------------------------------------\n",
            "The new restaurant in town has quickly become my favorite dining spot. The food is delicious, the atmosphere is cozy, and the service is outstanding.\n",
            "Sentiment: neutral\tProbability: 50.90%\n",
            "--------------------------------------------------\n"
          ]
        }
      ],
      "source": [
        "texts = [\n",
        "    \"The traffic was horrendous this morning; I was stuck in it for over an hour.\",\n",
        "    \"I was extremely disappointed with the quality of the product; it didn't meet my expectations at all.\",\n",
        "    \"The customer service at the restaurant was very good; the staff went above and beyond to make us feel welcome.\",\n",
        "    \"My recent stay at Paradise Resort was absolutely fantastic! From the moment I arrived, I was greeted with warm smiles and excellent service. The room was spacious, beautifully decorated, and spotlessly clean. I loved the breathtaking view from my balcony overlooking the pool and tropical gardens. The dining options were exceptional, and the resort's facilities were top-notch, offering everything from a fitness center to guided nature walks. Overall, Paradise Resort exceeded all my expectations, and I can't wait to return for another memorable stay!\",\n",
        "    \"The movie started off promising, but it quickly went downhill. The plot was confusing, the acting was mediocre, and the ending was unsatisfying.\",\n",
        "    \"I had a terrible experience at the restaurant last night. The food was cold, the service was slow, and the staff was rude.\",\n",
        "    \"Despite the initial skepticism, I was pleasantly surprised by the performance of the new smartphone. Its sleek design, impressive camera quality, and fast processing speed exceeded my expectations.\",\n",
        "    \"The concert was absolutely amazing! The energy of the performers, the enthusiasm of the crowd, and the quality of the music made it an unforgettable experience.\",\n",
        "    \"I had high hopes for the book, but it turned out to be a disappointment. The characters were one-dimensional, the plot was predictable, and the writing style was uninspired.\",\n",
        "    \"The presentation was well-prepared and delivered with confidence. The speaker engaged the audience effectively and provided valuable insights on the topic.\",\n",
        "    \"The service at the hotel was impeccable. The staff was attentive, courteous, and always willing to assist with any request.\",\n",
        "    \"The weather during our vacation was dreadful; it rained every day, and we were stuck indoors for most of the trip.\",\n",
        "    \"The hiking trail offered breathtaking views of the mountains and lush forests. It was a challenging but rewarding experience.\",\n",
        "    \"The customer support team was unhelpful and incompetent. They were unable to resolve my issue and seemed indifferent to my concerns.\",\n",
        "    \"The play was a delightful blend of humor, drama, and suspense. The talented cast delivered stellar performances, and the storyline kept me engaged from start to finish.\",\n",
        "    \"The new restaurant in town has quickly become my favorite dining spot. The food is delicious, the atmosphere is cozy, and the service is outstanding.\",\n",
        "]\n",
        "\n",
        "for text in texts:\n",
        "  predict_sentiment(model, tokenizer, text, device)"
      ]
    },
    {
      "cell_type": "code",
      "execution_count": 22,
      "metadata": {
        "id": "YBC6C8VA_Kh4"
      },
      "outputs": [
        {
          "name": "stdout",
          "output_type": "stream",
          "text": [
            "Despite facing numerous challenges and setbacks, the team worked tirelessly and managed to exceed all expectations, achieving remarkable success. However, despite their best efforts, the project encountered multiple setbacks, ultimately leading to its failure and significant financial losses.\n",
            "Sentiment: positive\tProbability: 99.94%\n",
            "--------------------------------------------------\n",
            "The hotel room was clean and comfortable, and the amenities were well-maintained. However, the noise from the nearby construction site was disruptive due to which i could not focus when working.\n",
            "Sentiment: neutral\tProbability: 85.40%\n",
            "--------------------------------------------------\n",
            "The movie had an intriguing plot and captivating visuals, but the sound quality was poor, making it difficult to fully enjoy the experience.\n",
            "Sentiment: negative\tProbability: 99.98%\n",
            "--------------------------------------------------\n"
          ]
        }
      ],
      "source": [
        "# An example of complex review that contains both positive and negative sentiment\n",
        "texts = [\"Despite facing numerous challenges and setbacks, the team worked tirelessly and managed to exceed all expectations, achieving remarkable success. However, despite their best efforts, the project encountered multiple setbacks, ultimately leading to its failure and significant financial losses.\",\n",
        "         \"The hotel room was clean and comfortable, and the amenities were well-maintained. However, the noise from the nearby construction site was disruptive due to which i could not focus when working.\",\n",
        "         \"The movie had an intriguing plot and captivating visuals, but the sound quality was poor, making it difficult to fully enjoy the experience.\"]\n",
        "for text in texts:\n",
        "  predict_sentiment(model, tokenizer, text, device)"
      ]
    },
    {
      "cell_type": "code",
      "execution_count": 23,
      "metadata": {
        "id": "ucfdIBfD62Tr"
      },
      "outputs": [
        {
          "name": "stdout",
          "output_type": "stream",
          "text": [
            "Despite facing numerous challenges and setbacks, the team worked tirelessly and managed to exceed all expectations, achieving remarkable success.\n",
            "Sentiment: positive\tProbability: 99.80%\n",
            "--------------------------------------------------\n",
            "However, despite their best efforts, the project encountered multiple setbacks, ultimately leading to its failure and significant financial losses.\n",
            "Sentiment: positive\tProbability: 99.84%\n",
            "--------------------------------------------------\n",
            "The hotel room was clean and comfortable, and the amenities were well-maintained.\n",
            "Sentiment: neutral\tProbability: 53.62%\n",
            "--------------------------------------------------\n",
            "However, the noise from the nearby construction site was disruptive due to which i could not focus when working.\n",
            "Sentiment: negative\tProbability: 70.22%\n",
            "--------------------------------------------------\n"
          ]
        }
      ],
      "source": [
        "# Breaking down above example into parts\n",
        "texts = [\"Despite facing numerous challenges and setbacks, the team worked tirelessly and managed to exceed all expectations, achieving remarkable success.\",\n",
        "         \"However, despite their best efforts, the project encountered multiple setbacks, ultimately leading to its failure and significant financial losses.\",\n",
        "         \"The hotel room was clean and comfortable, and the amenities were well-maintained.\",\n",
        "         \"However, the noise from the nearby construction site was disruptive due to which i could not focus when working.\"]\n",
        "\n",
        "for text in texts:\n",
        "  predict_sentiment(model, tokenizer, text, device)"
      ]
    },
    {
      "cell_type": "markdown",
      "metadata": {
        "id": "i30fs6fub2qs"
      },
      "source": [
        "## 11. Evaluate & Plot Confusion Matrix"
      ]
    },
    {
      "cell_type": "code",
      "execution_count": 24,
      "metadata": {
        "id": "2vhoNPwXYyIY"
      },
      "outputs": [],
      "source": [
        "from sklearn.metrics import confusion_matrix\n",
        "from tqdm.auto import tqdm\n",
        "import seaborn as sns\n",
        "import matplotlib.pyplot as plt"
      ]
    },
    {
      "cell_type": "code",
      "execution_count": 25,
      "metadata": {
        "id": "Tw25ZE-BbwY8"
      },
      "outputs": [],
      "source": [
        "# Predict X_test dataset and evaluate through usage of metrics and\n",
        "# plot Confusion Matrix\n",
        "def predict_sentiment_and_evaluate(model, tokenizer, X_test, y_test, device):\n",
        "  predictions = []\n",
        "\n",
        "  for text in tqdm(X_test):\n",
        "    # Tokenize and forward pass to model\n",
        "    tokenized = tokenizer(text, truncation=True, padding=True, return_tensors='pt').to(device)\n",
        "    outputs = model(**tokenized)\n",
        "\n",
        "    # Inference\n",
        "    preds = torch.argmax(outputs.logits, dim=-1).item()\n",
        "    prediction = preds\n",
        "    predictions.append(prediction)\n",
        "\n",
        "  # Confusion Matrix\n",
        "  cm = confusion_matrix(y_test, predictions)\n",
        "  plt.figure(figsize=(6, 4))\n",
        "  sns.heatmap(cm, annot=True, fmt=\"d\", cmap=\"Blues\", cbar=False,\n",
        "              xticklabels=['Negative', 'Neutral', 'Positive'],\n",
        "              yticklabels=['Negative', 'Neutral', 'Positive'])\n",
        "  plt.xlabel('Predicted')\n",
        "  plt.ylabel('Actual')\n",
        "  plt.title('Confusion Matrix')\n",
        "  plt.show()"
      ]
    },
    {
      "cell_type": "code",
      "execution_count": 26,
      "metadata": {
        "colab": {
          "base_uri": "https://localhost:8080/",
          "height": 442,
          "referenced_widgets": [
            "651b42c5bcb446e58ee60d07411982cf",
            "e2c20c8499e1439c83e12333b6876280",
            "47d938799f6149bca0349e65366cad51",
            "24b53ee1f6b44eb996574e5c8d9231b8",
            "3f1d4ce564974fa5be80e15978afb915",
            "095ce34a8efb4ebab6df1faf3ab9257a",
            "7f556609234146d08c78c0bbea32ec93",
            "a71b7b35ac20470aa715857fe4eac0d3",
            "4cb94bfc2fc94e8b8787f41612b7f749",
            "54f7632a7d3047ce9b6e9333ac871248",
            "198d620b60f14cd2aa5cfb0114dec311"
          ]
        },
        "id": "6LimqTJ9YzCG",
        "outputId": "b30b98dd-c38c-40a0-9968-9e460bb164ea"
      },
      "outputs": [
        {
          "data": {
            "application/vnd.jupyter.widget-view+json": {
              "model_id": "6b0d25a4fbfe4eb2bed2abe3fa79252a",
              "version_major": 2,
              "version_minor": 0
            },
            "text/plain": [
              "  0%|          | 0/4000 [00:00<?, ?it/s]"
            ]
          },
          "metadata": {},
          "output_type": "display_data"
        },
        {
          "data": {
            "image/png": "[encoded data removed]",
            "text/plain": [
              "<Figure size 600x400 with 1 Axes>"
            ]
          },
          "metadata": {},
          "output_type": "display_data"
        }
      ],
      "source": [
        "predict_sentiment_and_evaluate(model, tokenizer, X_test, y_test, device)"
      ]
    }
  ],
  "metadata": {
    "accelerator": "GPU",
    "colab": {
      "gpuType": "T4",
      "include_colab_link": true,
      "provenance": []
    },
    "kernelspec": {
      "display_name": "Python 3",
      "name": "python3"
    },
    "language_info": {
      "codemirror_mode": {
        "name": "ipython",
        "version": 3
      },
      "file_extension": ".py",
      "mimetype": "text/x-python",
      "name": "python",
      "nbconvert_exporter": "python",
      "pygments_lexer": "ipython3",
      "version": "3.10.11"
    },
    "widgets": {
      "application/vnd.jupyter.widget-state+json": {
        "038710f43d7a48dc8660458c680b35fb": {
          "model_module": "@jupyter-widgets/controls",
          "model_module_version": "1.5.0",
          "model_name": "LabelModel",
          "state": {
            "_dom_classes": [],
            "_model_module": "@jupyter-widgets/controls",
            "_model_module_version": "1.5.0",
            "_model_name": "LabelModel",
            "_view_count": null,
            "_view_module": "@jupyter-widgets/controls",
            "_view_module_version": "1.5.0",
            "_view_name": "LabelView",
            "description": "",
            "description_tooltip": null,
            "layout": "IPY_MODEL_f701050853814fff9c33373ab92deb43",
            "placeholder": "​",
            "style": "IPY_MODEL_2a4847e7a62f46b0b2afd22f9c1a0a4c",
            "value": "Your token has been saved to /root/.cache/huggingface/token"
          }
        },
        "095ce34a8efb4ebab6df1faf3ab9257a": {
          "model_module": "@jupyter-widgets/base",
          "model_module_version": "1.2.0",
          "model_name": "LayoutModel",
          "state": {
            "_model_module": "@jupyter-widgets/base",
            "_model_module_version": "1.2.0",
            "_model_name": "LayoutModel",
            "_view_count": null,
            "_view_module": "@jupyter-widgets/base",
            "_view_module_version": "1.2.0",
            "_view_name": "LayoutView",
            "align_content": null,
            "align_items": null,
            "align_self": null,
            "border": null,
            "bottom": null,
            "display": null,
            "flex": null,
            "flex_flow": null,
            "grid_area": null,
            "grid_auto_columns": null,
            "grid_auto_flow": null,
            "grid_auto_rows": null,
            "grid_column": null,
            "grid_gap": null,
            "grid_row": null,
            "grid_template_areas": null,
            "grid_template_columns": null,
            "grid_template_rows": null,
            "height": null,
            "justify_content": null,
            "justify_items": null,
            "left": null,
            "margin": null,
            "max_height": null,
            "max_width": null,
            "min_height": null,
            "min_width": null,
            "object_fit": null,
            "object_position": null,
            "order": null,
            "overflow": null,
            "overflow_x": null,
            "overflow_y": null,
            "padding": null,
            "right": null,
            "top": null,
            "visibility": null,
            "width": null
          }
        },
        "0cb660d95a9b46ed9ea2689b3b828508": {
          "model_module": "@jupyter-widgets/controls",
          "model_module_version": "1.5.0",
          "model_name": "HTMLModel",
          "state": {
            "_dom_classes": [],
            "_model_module": "@jupyter-widgets/controls",
            "_model_module_version": "1.5.0",
            "_model_name": "HTMLModel",
            "_view_count": null,
            "_view_module": "@jupyter-widgets/controls",
            "_view_module_version": "1.5.0",
            "_view_name": "HTMLView",
            "description": "",
            "description_tooltip": null,
            "layout": "IPY_MODEL_3242d629683242bfbc5777a2b904dd70",
            "placeholder": "​",
            "style": "IPY_MODEL_657bc2cc2cb744c4a1f72488b58d53b0",
            "value": "\n<b>Pro Tip:</b> If you don't already have one, you can create a dedicated\n'notebooks' token with 'write' access, that you can then easily reuse for all\nnotebooks. </center>"
          }
        },
        "12f37aede6d249dd817b16db3b12b099": {
          "model_module": "@jupyter-widgets/controls",
          "model_module_version": "1.5.0",
          "model_name": "DescriptionStyleModel",
          "state": {
            "_model_module": "@jupyter-widgets/controls",
            "_model_module_version": "1.5.0",
            "_model_name": "DescriptionStyleModel",
            "_view_count": null,
            "_view_module": "@jupyter-widgets/base",
            "_view_module_version": "1.2.0",
            "_view_name": "StyleView",
            "description_width": ""
          }
        },
        "1421f131fe17439898b48f87cfa26b52": {
          "model_module": "@jupyter-widgets/controls",
          "model_module_version": "1.5.0",
          "model_name": "CheckboxModel",
          "state": {
            "_dom_classes": [],
            "_model_module": "@jupyter-widgets/controls",
            "_model_module_version": "1.5.0",
            "_model_name": "CheckboxModel",
            "_view_count": null,
            "_view_module": "@jupyter-widgets/controls",
            "_view_module_version": "1.5.0",
            "_view_name": "CheckboxView",
            "description": "Add token as git credential?",
            "description_tooltip": null,
            "disabled": false,
            "indent": true,
            "layout": "IPY_MODEL_ee83043d95cc4bee83a14456fbd7c01c",
            "style": "IPY_MODEL_ed42110cf0cf47f3aff0853d0452e7d8",
            "value": true
          }
        },
        "198d620b60f14cd2aa5cfb0114dec311": {
          "model_module": "@jupyter-widgets/controls",
          "model_module_version": "1.5.0",
          "model_name": "DescriptionStyleModel",
          "state": {
            "_model_module": "@jupyter-widgets/controls",
            "_model_module_version": "1.5.0",
            "_model_name": "DescriptionStyleModel",
            "_view_count": null,
            "_view_module": "@jupyter-widgets/base",
            "_view_module_version": "1.2.0",
            "_view_name": "StyleView",
            "description_width": ""
          }
        },
        "1d5d3e06619c4084b41ab120e8476c6d": {
          "model_module": "@jupyter-widgets/controls",
          "model_module_version": "1.5.0",
          "model_name": "DescriptionStyleModel",
          "state": {
            "_model_module": "@jupyter-widgets/controls",
            "_model_module_version": "1.5.0",
            "_model_name": "DescriptionStyleModel",
            "_view_count": null,
            "_view_module": "@jupyter-widgets/base",
            "_view_module_version": "1.2.0",
            "_view_name": "StyleView",
            "description_width": ""
          }
        },
        "2480db893d3b43379c2aff68f421eb07": {
          "model_module": "@jupyter-widgets/base",
          "model_module_version": "1.2.0",
          "model_name": "LayoutModel",
          "state": {
            "_model_module": "@jupyter-widgets/base",
            "_model_module_version": "1.2.0",
            "_model_name": "LayoutModel",
            "_view_count": null,
            "_view_module": "@jupyter-widgets/base",
            "_view_module_version": "1.2.0",
            "_view_name": "LayoutView",
            "align_content": null,
            "align_items": null,
            "align_self": null,
            "border": null,
            "bottom": null,
            "display": null,
            "flex": null,
            "flex_flow": null,
            "grid_area": null,
            "grid_auto_columns": null,
            "grid_auto_flow": null,
            "grid_auto_rows": null,
            "grid_column": null,
            "grid_gap": null,
            "grid_row": null,
            "grid_template_areas": null,
            "grid_template_columns": null,
            "grid_template_rows": null,
            "height": null,
            "justify_content": null,
            "justify_items": null,
            "left": null,
            "margin": null,
            "max_height": null,
            "max_width": null,
            "min_height": null,
            "min_width": null,
            "object_fit": null,
            "object_position": null,
            "order": null,
            "overflow": null,
            "overflow_x": null,
            "overflow_y": null,
            "padding": null,
            "right": null,
            "top": null,
            "visibility": null,
            "width": null
          }
        },
        "24b53ee1f6b44eb996574e5c8d9231b8": {
          "model_module": "@jupyter-widgets/controls",
          "model_module_version": "1.5.0",
          "model_name": "HTMLModel",
          "state": {
            "_dom_classes": [],
            "_model_module": "@jupyter-widgets/controls",
            "_model_module_version": "1.5.0",
            "_model_name": "HTMLModel",
            "_view_count": null,
            "_view_module": "@jupyter-widgets/controls",
            "_view_module_version": "1.5.0",
            "_view_name": "HTMLView",
            "description": "",
            "description_tooltip": null,
            "layout": "IPY_MODEL_54f7632a7d3047ce9b6e9333ac871248",
            "placeholder": "​",
            "style": "IPY_MODEL_198d620b60f14cd2aa5cfb0114dec311",
            "value": " 4000/4000 [00:56&lt;00:00, 96.18it/s]"
          }
        },
        "2a4847e7a62f46b0b2afd22f9c1a0a4c": {
          "model_module": "@jupyter-widgets/controls",
          "model_module_version": "1.5.0",
          "model_name": "DescriptionStyleModel",
          "state": {
            "_model_module": "@jupyter-widgets/controls",
            "_model_module_version": "1.5.0",
            "_model_name": "DescriptionStyleModel",
            "_view_count": null,
            "_view_module": "@jupyter-widgets/base",
            "_view_module_version": "1.2.0",
            "_view_name": "StyleView",
            "description_width": ""
          }
        },
        "3242d629683242bfbc5777a2b904dd70": {
          "model_module": "@jupyter-widgets/base",
          "model_module_version": "1.2.0",
          "model_name": "LayoutModel",
          "state": {
            "_model_module": "@jupyter-widgets/base",
            "_model_module_version": "1.2.0",
            "_model_name": "LayoutModel",
            "_view_count": null,
            "_view_module": "@jupyter-widgets/base",
            "_view_module_version": "1.2.0",
            "_view_name": "LayoutView",
            "align_content": null,
            "align_items": null,
            "align_self": null,
            "border": null,
            "bottom": null,
            "display": null,
            "flex": null,
            "flex_flow": null,
            "grid_area": null,
            "grid_auto_columns": null,
            "grid_auto_flow": null,
            "grid_auto_rows": null,
            "grid_column": null,
            "grid_gap": null,
            "grid_row": null,
            "grid_template_areas": null,
            "grid_template_columns": null,
            "grid_template_rows": null,
            "height": null,
            "justify_content": null,
            "justify_items": null,
            "left": null,
            "margin": null,
            "max_height": null,
            "max_width": null,
            "min_height": null,
            "min_width": null,
            "object_fit": null,
            "object_position": null,
            "order": null,
            "overflow": null,
            "overflow_x": null,
            "overflow_y": null,
            "padding": null,
            "right": null,
            "top": null,
            "visibility": null,
            "width": null
          }
        },
        "35e38db3a6e74956ae22f6e6b3d594a3": {
          "model_module": "@jupyter-widgets/controls",
          "model_module_version": "1.5.0",
          "model_name": "LabelModel",
          "state": {
            "_dom_classes": [],
            "_model_module": "@jupyter-widgets/controls",
            "_model_module_version": "1.5.0",
            "_model_name": "LabelModel",
            "_view_count": null,
            "_view_module": "@jupyter-widgets/controls",
            "_view_module_version": "1.5.0",
            "_view_name": "LabelView",
            "description": "",
            "description_tooltip": null,
            "layout": "IPY_MODEL_e800a5dc461b465c98814786c7b9d42b",
            "placeholder": "​",
            "style": "IPY_MODEL_90cea132a5114445922194fa5aea05d1",
            "value": "Connecting..."
          }
        },
        "368cc160a1bb43b7b11f7991b2d55d5a": {
          "model_module": "@jupyter-widgets/controls",
          "model_module_version": "1.5.0",
          "model_name": "LabelModel",
          "state": {
            "_dom_classes": [],
            "_model_module": "@jupyter-widgets/controls",
            "_model_module_version": "1.5.0",
            "_model_name": "LabelModel",
            "_view_count": null,
            "_view_module": "@jupyter-widgets/controls",
            "_view_module_version": "1.5.0",
            "_view_name": "LabelView",
            "description": "",
            "description_tooltip": null,
            "layout": "IPY_MODEL_7b0317bfb8d742a09a3aa2c0ebb9773c",
            "placeholder": "​",
            "style": "IPY_MODEL_b848fa1f848348079650e1897429c3fa",
            "value": "Login successful"
          }
        },
        "3bc4f28421f8430d8640f292e94d8c64": {
          "model_module": "@jupyter-widgets/base",
          "model_module_version": "1.2.0",
          "model_name": "LayoutModel",
          "state": {
            "_model_module": "@jupyter-widgets/base",
            "_model_module_version": "1.2.0",
            "_model_name": "LayoutModel",
            "_view_count": null,
            "_view_module": "@jupyter-widgets/base",
            "_view_module_version": "1.2.0",
            "_view_name": "LayoutView",
            "align_content": null,
            "align_items": null,
            "align_self": null,
            "border": null,
            "bottom": null,
            "display": null,
            "flex": null,
            "flex_flow": null,
            "grid_area": null,
            "grid_auto_columns": null,
            "grid_auto_flow": null,
            "grid_auto_rows": null,
            "grid_column": null,
            "grid_gap": null,
            "grid_row": null,
            "grid_template_areas": null,
            "grid_template_columns": null,
            "grid_template_rows": null,
            "height": null,
            "justify_content": null,
            "justify_items": null,
            "left": null,
            "margin": null,
            "max_height": null,
            "max_width": null,
            "min_height": null,
            "min_width": null,
            "object_fit": null,
            "object_position": null,
            "order": null,
            "overflow": null,
            "overflow_x": null,
            "overflow_y": null,
            "padding": null,
            "right": null,
            "top": null,
            "visibility": null,
            "width": null
          }
        },
        "3f1d4ce564974fa5be80e15978afb915": {
          "model_module": "@jupyter-widgets/base",
          "model_module_version": "1.2.0",
          "model_name": "LayoutModel",
          "state": {
            "_model_module": "@jupyter-widgets/base",
            "_model_module_version": "1.2.0",
            "_model_name": "LayoutModel",
            "_view_count": null,
            "_view_module": "@jupyter-widgets/base",
            "_view_module_version": "1.2.0",
            "_view_name": "LayoutView",
            "align_content": null,
            "align_items": null,
            "align_self": null,
            "border": null,
            "bottom": null,
            "display": null,
            "flex": null,
            "flex_flow": null,
            "grid_area": null,
            "grid_auto_columns": null,
            "grid_auto_flow": null,
            "grid_auto_rows": null,
            "grid_column": null,
            "grid_gap": null,
            "grid_row": null,
            "grid_template_areas": null,
            "grid_template_columns": null,
            "grid_template_rows": null,
            "height": null,
            "justify_content": null,
            "justify_items": null,
            "left": null,
            "margin": null,
            "max_height": null,
            "max_width": null,
            "min_height": null,
            "min_width": null,
            "object_fit": null,
            "object_position": null,
            "order": null,
            "overflow": null,
            "overflow_x": null,
            "overflow_y": null,
            "padding": null,
            "right": null,
            "top": null,
            "visibility": null,
            "width": null
          }
        },
        "47d938799f6149bca0349e65366cad51": {
          "model_module": "@jupyter-widgets/controls",
          "model_module_version": "1.5.0",
          "model_name": "FloatProgressModel",
          "state": {
            "_dom_classes": [],
            "_model_module": "@jupyter-widgets/controls",
            "_model_module_version": "1.5.0",
            "_model_name": "FloatProgressModel",
            "_view_count": null,
            "_view_module": "@jupyter-widgets/controls",
            "_view_module_version": "1.5.0",
            "_view_name": "ProgressView",
            "bar_style": "success",
            "description": "",
            "description_tooltip": null,
            "layout": "IPY_MODEL_a71b7b35ac20470aa715857fe4eac0d3",
            "max": 4000,
            "min": 0,
            "orientation": "horizontal",
            "style": "IPY_MODEL_4cb94bfc2fc94e8b8787f41612b7f749",
            "value": 4000
          }
        },
        "4c01bea3d08d4d7b956752b43697c996": {
          "model_module": "@jupyter-widgets/base",
          "model_module_version": "1.2.0",
          "model_name": "LayoutModel",
          "state": {
            "_model_module": "@jupyter-widgets/base",
            "_model_module_version": "1.2.0",
            "_model_name": "LayoutModel",
            "_view_count": null,
            "_view_module": "@jupyter-widgets/base",
            "_view_module_version": "1.2.0",
            "_view_name": "LayoutView",
            "align_content": null,
            "align_items": null,
            "align_self": null,
            "border": null,
            "bottom": null,
            "display": null,
            "flex": null,
            "flex_flow": null,
            "grid_area": null,
            "grid_auto_columns": null,
            "grid_auto_flow": null,
            "grid_auto_rows": null,
            "grid_column": null,
            "grid_gap": null,
            "grid_row": null,
            "grid_template_areas": null,
            "grid_template_columns": null,
            "grid_template_rows": null,
            "height": null,
            "justify_content": null,
            "justify_items": null,
            "left": null,
            "margin": null,
            "max_height": null,
            "max_width": null,
            "min_height": null,
            "min_width": null,
            "object_fit": null,
            "object_position": null,
            "order": null,
            "overflow": null,
            "overflow_x": null,
            "overflow_y": null,
            "padding": null,
            "right": null,
            "top": null,
            "visibility": null,
            "width": null
          }
        },
        "4cb94bfc2fc94e8b8787f41612b7f749": {
          "model_module": "@jupyter-widgets/controls",
          "model_module_version": "1.5.0",
          "model_name": "ProgressStyleModel",
          "state": {
            "_model_module": "@jupyter-widgets/controls",
            "_model_module_version": "1.5.0",
            "_model_name": "ProgressStyleModel",
            "_view_count": null,
            "_view_module": "@jupyter-widgets/base",
            "_view_module_version": "1.2.0",
            "_view_name": "StyleView",
            "bar_color": null,
            "description_width": ""
          }
        },
        "54f7632a7d3047ce9b6e9333ac871248": {
          "model_module": "@jupyter-widgets/base",
          "model_module_version": "1.2.0",
          "model_name": "LayoutModel",
          "state": {
            "_model_module": "@jupyter-widgets/base",
            "_model_module_version": "1.2.0",
            "_model_name": "LayoutModel",
            "_view_count": null,
            "_view_module": "@jupyter-widgets/base",
            "_view_module_version": "1.2.0",
            "_view_name": "LayoutView",
            "align_content": null,
            "align_items": null,
            "align_self": null,
            "border": null,
            "bottom": null,
            "display": null,
            "flex": null,
            "flex_flow": null,
            "grid_area": null,
            "grid_auto_columns": null,
            "grid_auto_flow": null,
            "grid_auto_rows": null,
            "grid_column": null,
            "grid_gap": null,
            "grid_row": null,
            "grid_template_areas": null,
            "grid_template_columns": null,
            "grid_template_rows": null,
            "height": null,
            "justify_content": null,
            "justify_items": null,
            "left": null,
            "margin": null,
            "max_height": null,
            "max_width": null,
            "min_height": null,
            "min_width": null,
            "object_fit": null,
            "object_position": null,
            "order": null,
            "overflow": null,
            "overflow_x": null,
            "overflow_y": null,
            "padding": null,
            "right": null,
            "top": null,
            "visibility": null,
            "width": null
          }
        },
        "5db308d5b97f44c48fbedbbf0dbbf97e": {
          "model_module": "@jupyter-widgets/controls",
          "model_module_version": "1.5.0",
          "model_name": "FloatProgressModel",
          "state": {
            "_dom_classes": [],
            "_model_module": "@jupyter-widgets/controls",
            "_model_module_version": "1.5.0",
            "_model_name": "FloatProgressModel",
            "_view_count": null,
            "_view_module": "@jupyter-widgets/controls",
            "_view_module_version": "1.5.0",
            "_view_name": "ProgressView",
            "bar_style": "success",
            "description": "",
            "description_tooltip": null,
            "layout": "IPY_MODEL_f7794110d28344d8b713c63aa5ec0e21",
            "max": 20000,
            "min": 0,
            "orientation": "horizontal",
            "style": "IPY_MODEL_6090c48a151a42d5a4daa26662177e7c",
            "value": 20000
          }
        },
        "5e12365361ab4641a7ba003c86d77586": {
          "model_module": "@jupyter-widgets/controls",
          "model_module_version": "1.5.0",
          "model_name": "HTMLModel",
          "state": {
            "_dom_classes": [],
            "_model_module": "@jupyter-widgets/controls",
            "_model_module_version": "1.5.0",
            "_model_name": "HTMLModel",
            "_view_count": null,
            "_view_module": "@jupyter-widgets/controls",
            "_view_module_version": "1.5.0",
            "_view_name": "HTMLView",
            "description": "",
            "description_tooltip": null,
            "layout": "IPY_MODEL_68b672b53c8a4a1097f47c2a850ce1a0",
            "placeholder": "​",
            "style": "IPY_MODEL_12f37aede6d249dd817b16db3b12b099",
            "value": "Preprocessing: 100%"
          }
        },
        "6090c48a151a42d5a4daa26662177e7c": {
          "model_module": "@jupyter-widgets/controls",
          "model_module_version": "1.5.0",
          "model_name": "ProgressStyleModel",
          "state": {
            "_model_module": "@jupyter-widgets/controls",
            "_model_module_version": "1.5.0",
            "_model_name": "ProgressStyleModel",
            "_view_count": null,
            "_view_module": "@jupyter-widgets/base",
            "_view_module_version": "1.2.0",
            "_view_name": "StyleView",
            "bar_color": null,
            "description_width": ""
          }
        },
        "6360e06ae7e74b89ad45dd1bb4413342": {
          "model_module": "@jupyter-widgets/controls",
          "model_module_version": "1.5.0",
          "model_name": "PasswordModel",
          "state": {
            "_dom_classes": [],
            "_model_module": "@jupyter-widgets/controls",
            "_model_module_version": "1.5.0",
            "_model_name": "PasswordModel",
            "_view_count": null,
            "_view_module": "@jupyter-widgets/controls",
            "_view_module_version": "1.5.0",
            "_view_name": "PasswordView",
            "continuous_update": true,
            "description": "Token:",
            "description_tooltip": null,
            "disabled": false,
            "layout": "IPY_MODEL_3bc4f28421f8430d8640f292e94d8c64",
            "placeholder": "​",
            "style": "IPY_MODEL_96edc1fed27340c692bf75fd4fc9c5d2",
            "value": ""
          }
        },
        "651b42c5bcb446e58ee60d07411982cf": {
          "model_module": "@jupyter-widgets/controls",
          "model_module_version": "1.5.0",
          "model_name": "HBoxModel",
          "state": {
            "_dom_classes": [],
            "_model_module": "@jupyter-widgets/controls",
            "_model_module_version": "1.5.0",
            "_model_name": "HBoxModel",
            "_view_count": null,
            "_view_module": "@jupyter-widgets/controls",
            "_view_module_version": "1.5.0",
            "_view_name": "HBoxView",
            "box_style": "",
            "children": [
              "IPY_MODEL_e2c20c8499e1439c83e12333b6876280",
              "IPY_MODEL_47d938799f6149bca0349e65366cad51",
              "IPY_MODEL_24b53ee1f6b44eb996574e5c8d9231b8"
            ],
            "layout": "IPY_MODEL_3f1d4ce564974fa5be80e15978afb915"
          }
        },
        "657bc2cc2cb744c4a1f72488b58d53b0": {
          "model_module": "@jupyter-widgets/controls",
          "model_module_version": "1.5.0",
          "model_name": "DescriptionStyleModel",
          "state": {
            "_model_module": "@jupyter-widgets/controls",
            "_model_module_version": "1.5.0",
            "_model_name": "DescriptionStyleModel",
            "_view_count": null,
            "_view_module": "@jupyter-widgets/base",
            "_view_module_version": "1.2.0",
            "_view_name": "StyleView",
            "description_width": ""
          }
        },
        "680bcce08dd645f9badcfd5a9f53dc4f": {
          "model_module": "@jupyter-widgets/base",
          "model_module_version": "1.2.0",
          "model_name": "LayoutModel",
          "state": {
            "_model_module": "@jupyter-widgets/base",
            "_model_module_version": "1.2.0",
            "_model_name": "LayoutModel",
            "_view_count": null,
            "_view_module": "@jupyter-widgets/base",
            "_view_module_version": "1.2.0",
            "_view_name": "LayoutView",
            "align_content": null,
            "align_items": null,
            "align_self": null,
            "border": null,
            "bottom": null,
            "display": null,
            "flex": null,
            "flex_flow": null,
            "grid_area": null,
            "grid_auto_columns": null,
            "grid_auto_flow": null,
            "grid_auto_rows": null,
            "grid_column": null,
            "grid_gap": null,
            "grid_row": null,
            "grid_template_areas": null,
            "grid_template_columns": null,
            "grid_template_rows": null,
            "height": null,
            "justify_content": null,
            "justify_items": null,
            "left": null,
            "margin": null,
            "max_height": null,
            "max_width": null,
            "min_height": null,
            "min_width": null,
            "object_fit": null,
            "object_position": null,
            "order": null,
            "overflow": null,
            "overflow_x": null,
            "overflow_y": null,
            "padding": null,
            "right": null,
            "top": null,
            "visibility": null,
            "width": null
          }
        },
        "68b672b53c8a4a1097f47c2a850ce1a0": {
          "model_module": "@jupyter-widgets/base",
          "model_module_version": "1.2.0",
          "model_name": "LayoutModel",
          "state": {
            "_model_module": "@jupyter-widgets/base",
            "_model_module_version": "1.2.0",
            "_model_name": "LayoutModel",
            "_view_count": null,
            "_view_module": "@jupyter-widgets/base",
            "_view_module_version": "1.2.0",
            "_view_name": "LayoutView",
            "align_content": null,
            "align_items": null,
            "align_self": null,
            "border": null,
            "bottom": null,
            "display": null,
            "flex": null,
            "flex_flow": null,
            "grid_area": null,
            "grid_auto_columns": null,
            "grid_auto_flow": null,
            "grid_auto_rows": null,
            "grid_column": null,
            "grid_gap": null,
            "grid_row": null,
            "grid_template_areas": null,
            "grid_template_columns": null,
            "grid_template_rows": null,
            "height": null,
            "justify_content": null,
            "justify_items": null,
            "left": null,
            "margin": null,
            "max_height": null,
            "max_width": null,
            "min_height": null,
            "min_width": null,
            "object_fit": null,
            "object_position": null,
            "order": null,
            "overflow": null,
            "overflow_x": null,
            "overflow_y": null,
            "padding": null,
            "right": null,
            "top": null,
            "visibility": null,
            "width": null
          }
        },
        "6fe80fdd065148a2b8f6eebf0862123a": {
          "model_module": "@jupyter-widgets/controls",
          "model_module_version": "1.5.0",
          "model_name": "DescriptionStyleModel",
          "state": {
            "_model_module": "@jupyter-widgets/controls",
            "_model_module_version": "1.5.0",
            "_model_name": "DescriptionStyleModel",
            "_view_count": null,
            "_view_module": "@jupyter-widgets/base",
            "_view_module_version": "1.2.0",
            "_view_name": "StyleView",
            "description_width": ""
          }
        },
        "730e7bfb278a433bac4fedce9538cf0d": {
          "model_module": "@jupyter-widgets/controls",
          "model_module_version": "1.5.0",
          "model_name": "ButtonModel",
          "state": {
            "_dom_classes": [],
            "_model_module": "@jupyter-widgets/controls",
            "_model_module_version": "1.5.0",
            "_model_name": "ButtonModel",
            "_view_count": null,
            "_view_module": "@jupyter-widgets/controls",
            "_view_module_version": "1.5.0",
            "_view_name": "ButtonView",
            "button_style": "",
            "description": "Login",
            "disabled": false,
            "icon": "",
            "layout": "IPY_MODEL_a5c25ef7145d4a819569b30c10b3db22",
            "style": "IPY_MODEL_be723d54691348868cff55a8ba046eab",
            "tooltip": ""
          }
        },
        "7904667e67424983aeacfdf6fceab2a3": {
          "model_module": "@jupyter-widgets/controls",
          "model_module_version": "1.5.0",
          "model_name": "HBoxModel",
          "state": {
            "_dom_classes": [],
            "_model_module": "@jupyter-widgets/controls",
            "_model_module_version": "1.5.0",
            "_model_name": "HBoxModel",
            "_view_count": null,
            "_view_module": "@jupyter-widgets/controls",
            "_view_module_version": "1.5.0",
            "_view_name": "HBoxView",
            "box_style": "",
            "children": [
              "IPY_MODEL_5e12365361ab4641a7ba003c86d77586",
              "IPY_MODEL_5db308d5b97f44c48fbedbbf0dbbf97e",
              "IPY_MODEL_8496b3a8f89b420bbd64ba2f7e6fa6f5"
            ],
            "layout": "IPY_MODEL_4c01bea3d08d4d7b956752b43697c996"
          }
        },
        "79887438173e4ad4a55a46e735ec569c": {
          "model_module": "@jupyter-widgets/controls",
          "model_module_version": "1.5.0",
          "model_name": "DescriptionStyleModel",
          "state": {
            "_model_module": "@jupyter-widgets/controls",
            "_model_module_version": "1.5.0",
            "_model_name": "DescriptionStyleModel",
            "_view_count": null,
            "_view_module": "@jupyter-widgets/base",
            "_view_module_version": "1.2.0",
            "_view_name": "StyleView",
            "description_width": ""
          }
        },
        "7b0317bfb8d742a09a3aa2c0ebb9773c": {
          "model_module": "@jupyter-widgets/base",
          "model_module_version": "1.2.0",
          "model_name": "LayoutModel",
          "state": {
            "_model_module": "@jupyter-widgets/base",
            "_model_module_version": "1.2.0",
            "_model_name": "LayoutModel",
            "_view_count": null,
            "_view_module": "@jupyter-widgets/base",
            "_view_module_version": "1.2.0",
            "_view_name": "LayoutView",
            "align_content": null,
            "align_items": null,
            "align_self": null,
            "border": null,
            "bottom": null,
            "display": null,
            "flex": null,
            "flex_flow": null,
            "grid_area": null,
            "grid_auto_columns": null,
            "grid_auto_flow": null,
            "grid_auto_rows": null,
            "grid_column": null,
            "grid_gap": null,
            "grid_row": null,
            "grid_template_areas": null,
            "grid_template_columns": null,
            "grid_template_rows": null,
            "height": null,
            "justify_content": null,
            "justify_items": null,
            "left": null,
            "margin": null,
            "max_height": null,
            "max_width": null,
            "min_height": null,
            "min_width": null,
            "object_fit": null,
            "object_position": null,
            "order": null,
            "overflow": null,
            "overflow_x": null,
            "overflow_y": null,
            "padding": null,
            "right": null,
            "top": null,
            "visibility": null,
            "width": null
          }
        },
        "7f556609234146d08c78c0bbea32ec93": {
          "model_module": "@jupyter-widgets/controls",
          "model_module_version": "1.5.0",
          "model_name": "DescriptionStyleModel",
          "state": {
            "_model_module": "@jupyter-widgets/controls",
            "_model_module_version": "1.5.0",
            "_model_name": "DescriptionStyleModel",
            "_view_count": null,
            "_view_module": "@jupyter-widgets/base",
            "_view_module_version": "1.2.0",
            "_view_name": "StyleView",
            "description_width": ""
          }
        },
        "8496b3a8f89b420bbd64ba2f7e6fa6f5": {
          "model_module": "@jupyter-widgets/controls",
          "model_module_version": "1.5.0",
          "model_name": "HTMLModel",
          "state": {
            "_dom_classes": [],
            "_model_module": "@jupyter-widgets/controls",
            "_model_module_version": "1.5.0",
            "_model_name": "HTMLModel",
            "_view_count": null,
            "_view_module": "@jupyter-widgets/controls",
            "_view_module_version": "1.5.0",
            "_view_name": "HTMLView",
            "description": "",
            "description_tooltip": null,
            "layout": "IPY_MODEL_fc46c0fc11814ef9bb9045d2dad97234",
            "placeholder": "​",
            "style": "IPY_MODEL_79887438173e4ad4a55a46e735ec569c",
            "value": " 20000/20000 [00:05&lt;00:00, 4445.08it/s]"
          }
        },
        "90cea132a5114445922194fa5aea05d1": {
          "model_module": "@jupyter-widgets/controls",
          "model_module_version": "1.5.0",
          "model_name": "DescriptionStyleModel",
          "state": {
            "_model_module": "@jupyter-widgets/controls",
            "_model_module_version": "1.5.0",
            "_model_name": "DescriptionStyleModel",
            "_view_count": null,
            "_view_module": "@jupyter-widgets/base",
            "_view_module_version": "1.2.0",
            "_view_name": "StyleView",
            "description_width": ""
          }
        },
        "923e1b7fbd8b49bdabcd4f00f714be14": {
          "model_module": "@jupyter-widgets/controls",
          "model_module_version": "1.5.0",
          "model_name": "VBoxModel",
          "state": {
            "_dom_classes": [],
            "_model_module": "@jupyter-widgets/controls",
            "_model_module_version": "1.5.0",
            "_model_name": "VBoxModel",
            "_view_count": null,
            "_view_module": "@jupyter-widgets/controls",
            "_view_module_version": "1.5.0",
            "_view_name": "VBoxView",
            "box_style": "",
            "children": [
              "IPY_MODEL_9f025708b4034c879c0a4249378fadc3",
              "IPY_MODEL_f03f81ec0bc44602be760ff2f548a5fd",
              "IPY_MODEL_038710f43d7a48dc8660458c680b35fb",
              "IPY_MODEL_368cc160a1bb43b7b11f7991b2d55d5a"
            ],
            "layout": "IPY_MODEL_b6caf3716cd4411cb727f34683958bf6"
          }
        },
        "94bc6056062746bc8b1cfbfa3292a241": {
          "model_module": "@jupyter-widgets/base",
          "model_module_version": "1.2.0",
          "model_name": "LayoutModel",
          "state": {
            "_model_module": "@jupyter-widgets/base",
            "_model_module_version": "1.2.0",
            "_model_name": "LayoutModel",
            "_view_count": null,
            "_view_module": "@jupyter-widgets/base",
            "_view_module_version": "1.2.0",
            "_view_name": "LayoutView",
            "align_content": null,
            "align_items": null,
            "align_self": null,
            "border": null,
            "bottom": null,
            "display": null,
            "flex": null,
            "flex_flow": null,
            "grid_area": null,
            "grid_auto_columns": null,
            "grid_auto_flow": null,
            "grid_auto_rows": null,
            "grid_column": null,
            "grid_gap": null,
            "grid_row": null,
            "grid_template_areas": null,
            "grid_template_columns": null,
            "grid_template_rows": null,
            "height": null,
            "justify_content": null,
            "justify_items": null,
            "left": null,
            "margin": null,
            "max_height": null,
            "max_width": null,
            "min_height": null,
            "min_width": null,
            "object_fit": null,
            "object_position": null,
            "order": null,
            "overflow": null,
            "overflow_x": null,
            "overflow_y": null,
            "padding": null,
            "right": null,
            "top": null,
            "visibility": null,
            "width": null
          }
        },
        "96edc1fed27340c692bf75fd4fc9c5d2": {
          "model_module": "@jupyter-widgets/controls",
          "model_module_version": "1.5.0",
          "model_name": "DescriptionStyleModel",
          "state": {
            "_model_module": "@jupyter-widgets/controls",
            "_model_module_version": "1.5.0",
            "_model_name": "DescriptionStyleModel",
            "_view_count": null,
            "_view_module": "@jupyter-widgets/base",
            "_view_module_version": "1.2.0",
            "_view_name": "StyleView",
            "description_width": ""
          }
        },
        "9f025708b4034c879c0a4249378fadc3": {
          "model_module": "@jupyter-widgets/controls",
          "model_module_version": "1.5.0",
          "model_name": "LabelModel",
          "state": {
            "_dom_classes": [],
            "_model_module": "@jupyter-widgets/controls",
            "_model_module_version": "1.5.0",
            "_model_name": "LabelModel",
            "_view_count": null,
            "_view_module": "@jupyter-widgets/controls",
            "_view_module_version": "1.5.0",
            "_view_name": "LabelView",
            "description": "",
            "description_tooltip": null,
            "layout": "IPY_MODEL_94bc6056062746bc8b1cfbfa3292a241",
            "placeholder": "​",
            "style": "IPY_MODEL_6fe80fdd065148a2b8f6eebf0862123a",
            "value": "Token is valid (permission: write)."
          }
        },
        "a5c25ef7145d4a819569b30c10b3db22": {
          "model_module": "@jupyter-widgets/base",
          "model_module_version": "1.2.0",
          "model_name": "LayoutModel",
          "state": {
            "_model_module": "@jupyter-widgets/base",
            "_model_module_version": "1.2.0",
            "_model_name": "LayoutModel",
            "_view_count": null,
            "_view_module": "@jupyter-widgets/base",
            "_view_module_version": "1.2.0",
            "_view_name": "LayoutView",
            "align_content": null,
            "align_items": null,
            "align_self": null,
            "border": null,
            "bottom": null,
            "display": null,
            "flex": null,
            "flex_flow": null,
            "grid_area": null,
            "grid_auto_columns": null,
            "grid_auto_flow": null,
            "grid_auto_rows": null,
            "grid_column": null,
            "grid_gap": null,
            "grid_row": null,
            "grid_template_areas": null,
            "grid_template_columns": null,
            "grid_template_rows": null,
            "height": null,
            "justify_content": null,
            "justify_items": null,
            "left": null,
            "margin": null,
            "max_height": null,
            "max_width": null,
            "min_height": null,
            "min_width": null,
            "object_fit": null,
            "object_position": null,
            "order": null,
            "overflow": null,
            "overflow_x": null,
            "overflow_y": null,
            "padding": null,
            "right": null,
            "top": null,
            "visibility": null,
            "width": null
          }
        },
        "a71b7b35ac20470aa715857fe4eac0d3": {
          "model_module": "@jupyter-widgets/base",
          "model_module_version": "1.2.0",
          "model_name": "LayoutModel",
          "state": {
            "_model_module": "@jupyter-widgets/base",
            "_model_module_version": "1.2.0",
            "_model_name": "LayoutModel",
            "_view_count": null,
            "_view_module": "@jupyter-widgets/base",
            "_view_module_version": "1.2.0",
            "_view_name": "LayoutView",
            "align_content": null,
            "align_items": null,
            "align_self": null,
            "border": null,
            "bottom": null,
            "display": null,
            "flex": null,
            "flex_flow": null,
            "grid_area": null,
            "grid_auto_columns": null,
            "grid_auto_flow": null,
            "grid_auto_rows": null,
            "grid_column": null,
            "grid_gap": null,
            "grid_row": null,
            "grid_template_areas": null,
            "grid_template_columns": null,
            "grid_template_rows": null,
            "height": null,
            "justify_content": null,
            "justify_items": null,
            "left": null,
            "margin": null,
            "max_height": null,
            "max_width": null,
            "min_height": null,
            "min_width": null,
            "object_fit": null,
            "object_position": null,
            "order": null,
            "overflow": null,
            "overflow_x": null,
            "overflow_y": null,
            "padding": null,
            "right": null,
            "top": null,
            "visibility": null,
            "width": null
          }
        },
        "b6caf3716cd4411cb727f34683958bf6": {
          "model_module": "@jupyter-widgets/base",
          "model_module_version": "1.2.0",
          "model_name": "LayoutModel",
          "state": {
            "_model_module": "@jupyter-widgets/base",
            "_model_module_version": "1.2.0",
            "_model_name": "LayoutModel",
            "_view_count": null,
            "_view_module": "@jupyter-widgets/base",
            "_view_module_version": "1.2.0",
            "_view_name": "LayoutView",
            "align_content": null,
            "align_items": "center",
            "align_self": null,
            "border": null,
            "bottom": null,
            "display": "flex",
            "flex": null,
            "flex_flow": "column",
            "grid_area": null,
            "grid_auto_columns": null,
            "grid_auto_flow": null,
            "grid_auto_rows": null,
            "grid_column": null,
            "grid_gap": null,
            "grid_row": null,
            "grid_template_areas": null,
            "grid_template_columns": null,
            "grid_template_rows": null,
            "height": null,
            "justify_content": null,
            "justify_items": null,
            "left": null,
            "margin": null,
            "max_height": null,
            "max_width": null,
            "min_height": null,
            "min_width": null,
            "object_fit": null,
            "object_position": null,
            "order": null,
            "overflow": null,
            "overflow_x": null,
            "overflow_y": null,
            "padding": null,
            "right": null,
            "top": null,
            "visibility": null,
            "width": "50%"
          }
        },
        "b809d01b8cd344d98f2273b3ae8f7ffb": {
          "model_module": "@jupyter-widgets/controls",
          "model_module_version": "1.5.0",
          "model_name": "HTMLModel",
          "state": {
            "_dom_classes": [],
            "_model_module": "@jupyter-widgets/controls",
            "_model_module_version": "1.5.0",
            "_model_name": "HTMLModel",
            "_view_count": null,
            "_view_module": "@jupyter-widgets/controls",
            "_view_module_version": "1.5.0",
            "_view_name": "HTMLView",
            "description": "",
            "description_tooltip": null,
            "layout": "IPY_MODEL_2480db893d3b43379c2aff68f421eb07",
            "placeholder": "​",
            "style": "IPY_MODEL_e8fd4b2f11b749ca9ef44d94353e13f0",
            "value": "<center> <img\nsrc=https://huggingface.co/front/assets/huggingface_logo-noborder.svg\nalt='Hugging Face'> <br> Copy a token from <a\nhref=\"https://huggingface.co/settings/tokens\" target=\"_blank\">your Hugging Face\ntokens page</a> and paste it below. <br> Immediately click login after copying\nyour token or it might be stored in plain text in this notebook file. </center>"
          }
        },
        "b848fa1f848348079650e1897429c3fa": {
          "model_module": "@jupyter-widgets/controls",
          "model_module_version": "1.5.0",
          "model_name": "DescriptionStyleModel",
          "state": {
            "_model_module": "@jupyter-widgets/controls",
            "_model_module_version": "1.5.0",
            "_model_name": "DescriptionStyleModel",
            "_view_count": null,
            "_view_module": "@jupyter-widgets/base",
            "_view_module_version": "1.2.0",
            "_view_name": "StyleView",
            "description_width": ""
          }
        },
        "be723d54691348868cff55a8ba046eab": {
          "model_module": "@jupyter-widgets/controls",
          "model_module_version": "1.5.0",
          "model_name": "ButtonStyleModel",
          "state": {
            "_model_module": "@jupyter-widgets/controls",
            "_model_module_version": "1.5.0",
            "_model_name": "ButtonStyleModel",
            "_view_count": null,
            "_view_module": "@jupyter-widgets/base",
            "_view_module_version": "1.2.0",
            "_view_name": "StyleView",
            "button_color": null,
            "font_weight": ""
          }
        },
        "e2c20c8499e1439c83e12333b6876280": {
          "model_module": "@jupyter-widgets/controls",
          "model_module_version": "1.5.0",
          "model_name": "HTMLModel",
          "state": {
            "_dom_classes": [],
            "_model_module": "@jupyter-widgets/controls",
            "_model_module_version": "1.5.0",
            "_model_name": "HTMLModel",
            "_view_count": null,
            "_view_module": "@jupyter-widgets/controls",
            "_view_module_version": "1.5.0",
            "_view_name": "HTMLView",
            "description": "",
            "description_tooltip": null,
            "layout": "IPY_MODEL_095ce34a8efb4ebab6df1faf3ab9257a",
            "placeholder": "​",
            "style": "IPY_MODEL_7f556609234146d08c78c0bbea32ec93",
            "value": "100%"
          }
        },
        "e800a5dc461b465c98814786c7b9d42b": {
          "model_module": "@jupyter-widgets/base",
          "model_module_version": "1.2.0",
          "model_name": "LayoutModel",
          "state": {
            "_model_module": "@jupyter-widgets/base",
            "_model_module_version": "1.2.0",
            "_model_name": "LayoutModel",
            "_view_count": null,
            "_view_module": "@jupyter-widgets/base",
            "_view_module_version": "1.2.0",
            "_view_name": "LayoutView",
            "align_content": null,
            "align_items": null,
            "align_self": null,
            "border": null,
            "bottom": null,
            "display": null,
            "flex": null,
            "flex_flow": null,
            "grid_area": null,
            "grid_auto_columns": null,
            "grid_auto_flow": null,
            "grid_auto_rows": null,
            "grid_column": null,
            "grid_gap": null,
            "grid_row": null,
            "grid_template_areas": null,
            "grid_template_columns": null,
            "grid_template_rows": null,
            "height": null,
            "justify_content": null,
            "justify_items": null,
            "left": null,
            "margin": null,
            "max_height": null,
            "max_width": null,
            "min_height": null,
            "min_width": null,
            "object_fit": null,
            "object_position": null,
            "order": null,
            "overflow": null,
            "overflow_x": null,
            "overflow_y": null,
            "padding": null,
            "right": null,
            "top": null,
            "visibility": null,
            "width": null
          }
        },
        "e8fd4b2f11b749ca9ef44d94353e13f0": {
          "model_module": "@jupyter-widgets/controls",
          "model_module_version": "1.5.0",
          "model_name": "DescriptionStyleModel",
          "state": {
            "_model_module": "@jupyter-widgets/controls",
            "_model_module_version": "1.5.0",
            "_model_name": "DescriptionStyleModel",
            "_view_count": null,
            "_view_module": "@jupyter-widgets/base",
            "_view_module_version": "1.2.0",
            "_view_name": "StyleView",
            "description_width": ""
          }
        },
        "ed42110cf0cf47f3aff0853d0452e7d8": {
          "model_module": "@jupyter-widgets/controls",
          "model_module_version": "1.5.0",
          "model_name": "DescriptionStyleModel",
          "state": {
            "_model_module": "@jupyter-widgets/controls",
            "_model_module_version": "1.5.0",
            "_model_name": "DescriptionStyleModel",
            "_view_count": null,
            "_view_module": "@jupyter-widgets/base",
            "_view_module_version": "1.2.0",
            "_view_name": "StyleView",
            "description_width": ""
          }
        },
        "ee83043d95cc4bee83a14456fbd7c01c": {
          "model_module": "@jupyter-widgets/base",
          "model_module_version": "1.2.0",
          "model_name": "LayoutModel",
          "state": {
            "_model_module": "@jupyter-widgets/base",
            "_model_module_version": "1.2.0",
            "_model_name": "LayoutModel",
            "_view_count": null,
            "_view_module": "@jupyter-widgets/base",
            "_view_module_version": "1.2.0",
            "_view_name": "LayoutView",
            "align_content": null,
            "align_items": null,
            "align_self": null,
            "border": null,
            "bottom": null,
            "display": null,
            "flex": null,
            "flex_flow": null,
            "grid_area": null,
            "grid_auto_columns": null,
            "grid_auto_flow": null,
            "grid_auto_rows": null,
            "grid_column": null,
            "grid_gap": null,
            "grid_row": null,
            "grid_template_areas": null,
            "grid_template_columns": null,
            "grid_template_rows": null,
            "height": null,
            "justify_content": null,
            "justify_items": null,
            "left": null,
            "margin": null,
            "max_height": null,
            "max_width": null,
            "min_height": null,
            "min_width": null,
            "object_fit": null,
            "object_position": null,
            "order": null,
            "overflow": null,
            "overflow_x": null,
            "overflow_y": null,
            "padding": null,
            "right": null,
            "top": null,
            "visibility": null,
            "width": null
          }
        },
        "f03f81ec0bc44602be760ff2f548a5fd": {
          "model_module": "@jupyter-widgets/controls",
          "model_module_version": "1.5.0",
          "model_name": "LabelModel",
          "state": {
            "_dom_classes": [],
            "_model_module": "@jupyter-widgets/controls",
            "_model_module_version": "1.5.0",
            "_model_name": "LabelModel",
            "_view_count": null,
            "_view_module": "@jupyter-widgets/controls",
            "_view_module_version": "1.5.0",
            "_view_name": "LabelView",
            "description": "",
            "description_tooltip": null,
            "layout": "IPY_MODEL_680bcce08dd645f9badcfd5a9f53dc4f",
            "placeholder": "​",
            "style": "IPY_MODEL_1d5d3e06619c4084b41ab120e8476c6d",
            "value": "Your token has been saved in your configured git credential helpers (store)."
          }
        },
        "f701050853814fff9c33373ab92deb43": {
          "model_module": "@jupyter-widgets/base",
          "model_module_version": "1.2.0",
          "model_name": "LayoutModel",
          "state": {
            "_model_module": "@jupyter-widgets/base",
            "_model_module_version": "1.2.0",
            "_model_name": "LayoutModel",
            "_view_count": null,
            "_view_module": "@jupyter-widgets/base",
            "_view_module_version": "1.2.0",
            "_view_name": "LayoutView",
            "align_content": null,
            "align_items": null,
            "align_self": null,
            "border": null,
            "bottom": null,
            "display": null,
            "flex": null,
            "flex_flow": null,
            "grid_area": null,
            "grid_auto_columns": null,
            "grid_auto_flow": null,
            "grid_auto_rows": null,
            "grid_column": null,
            "grid_gap": null,
            "grid_row": null,
            "grid_template_areas": null,
            "grid_template_columns": null,
            "grid_template_rows": null,
            "height": null,
            "justify_content": null,
            "justify_items": null,
            "left": null,
            "margin": null,
            "max_height": null,
            "max_width": null,
            "min_height": null,
            "min_width": null,
            "object_fit": null,
            "object_position": null,
            "order": null,
            "overflow": null,
            "overflow_x": null,
            "overflow_y": null,
            "padding": null,
            "right": null,
            "top": null,
            "visibility": null,
            "width": null
          }
        },
        "f7794110d28344d8b713c63aa5ec0e21": {
          "model_module": "@jupyter-widgets/base",
          "model_module_version": "1.2.0",
          "model_name": "LayoutModel",
          "state": {
            "_model_module": "@jupyter-widgets/base",
            "_model_module_version": "1.2.0",
            "_model_name": "LayoutModel",
            "_view_count": null,
            "_view_module": "@jupyter-widgets/base",
            "_view_module_version": "1.2.0",
            "_view_name": "LayoutView",
            "align_content": null,
            "align_items": null,
            "align_self": null,
            "border": null,
            "bottom": null,
            "display": null,
            "flex": null,
            "flex_flow": null,
            "grid_area": null,
            "grid_auto_columns": null,
            "grid_auto_flow": null,
            "grid_auto_rows": null,
            "grid_column": null,
            "grid_gap": null,
            "grid_row": null,
            "grid_template_areas": null,
            "grid_template_columns": null,
            "grid_template_rows": null,
            "height": null,
            "justify_content": null,
            "justify_items": null,
            "left": null,
            "margin": null,
            "max_height": null,
            "max_width": null,
            "min_height": null,
            "min_width": null,
            "object_fit": null,
            "object_position": null,
            "order": null,
            "overflow": null,
            "overflow_x": null,
            "overflow_y": null,
            "padding": null,
            "right": null,
            "top": null,
            "visibility": null,
            "width": null
          }
        },
        "fc46c0fc11814ef9bb9045d2dad97234": {
          "model_module": "@jupyter-widgets/base",
          "model_module_version": "1.2.0",
          "model_name": "LayoutModel",
          "state": {
            "_model_module": "@jupyter-widgets/base",
            "_model_module_version": "1.2.0",
            "_model_name": "LayoutModel",
            "_view_count": null,
            "_view_module": "@jupyter-widgets/base",
            "_view_module_version": "1.2.0",
            "_view_name": "LayoutView",
            "align_content": null,
            "align_items": null,
            "align_self": null,
            "border": null,
            "bottom": null,
            "display": null,
            "flex": null,
            "flex_flow": null,
            "grid_area": null,
            "grid_auto_columns": null,
            "grid_auto_flow": null,
            "grid_auto_rows": null,
            "grid_column": null,
            "grid_gap": null,
            "grid_row": null,
            "grid_template_areas": null,
            "grid_template_columns": null,
            "grid_template_rows": null,
            "height": null,
            "justify_content": null,
            "justify_items": null,
            "left": null,
            "margin": null,
            "max_height": null,
            "max_width": null,
            "min_height": null,
            "min_width": null,
            "object_fit": null,
            "object_position": null,
            "order": null,
            "overflow": null,
            "overflow_x": null,
            "overflow_y": null,
            "padding": null,
            "right": null,
            "top": null,
            "visibility": null,
            "width": null
          }
        }
      }
    }
  },
  "nbformat": 4,
  "nbformat_minor": 0
}

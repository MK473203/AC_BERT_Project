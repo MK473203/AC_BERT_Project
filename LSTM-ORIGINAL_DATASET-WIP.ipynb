{
  "cells": [
    {
      "cell_type": "markdown",
      "metadata": {},
      "source": [
        "# Text-Sentiment-Analysis-using-LSTM"
      ]
    },
    {
      "cell_type": "markdown",
      "metadata": {
        "colab_type": "text",
        "id": "view-in-github"
      },
      "source": [
        "<a href=\"https://colab.research.google.com/github/LuluW8071/Text-Sentiment-Analysis/blob/main/Text_Sentiment_Analysis.ipynb\" target=\"_parent\"><img src=\"https://colab.research.google.com/assets/colab-badge.svg\" alt=\"Open In Colab\"/></a>"
      ]
    },
    {
      "cell_type": "markdown",
      "metadata": {
        "id": "s-taomIznYua"
      },
      "source": [
        "## 1. Load the dataset"
      ]
    },
    {
      "cell_type": "code",
      "execution_count": 5,
      "metadata": {
        "id": "PHvIkDPkkoc2"
      },
      "outputs": [],
      "source": [
        "import pandas as pd\n",
        "import numpy as np"
      ]
    },
    {
      "cell_type": "code",
      "execution_count": 6,
      "metadata": {
        "colab": {
          "base_uri": "https://localhost:8080/",
          "height": 206
        },
        "id": "lQLGbbvAm-hs",
        "outputId": "eba6a748-6f49-4163-ba0a-9e2f797805c1"
      },
      "outputs": [
        {
          "data": {
            "application/vnd.google.colaboratory.intrinsic+json": {
              "summary": "{\n  \"name\": \"df\",\n  \"rows\": 5,\n  \"fields\": [\n    {\n      \"column\": \"review\",\n      \"properties\": {\n        \"dtype\": \"string\",\n        \"num_unique_values\": 5,\n        \"samples\": [\n          \"All Im gonna say is \\\\\\\"Bad place to have a Taekwondo Tournament\\\\\\\". \\\\n\\\\nOther than that, its ok .....for its size\\\\n\\\\nDrawback, lack of parking.\",\n          \"I'm not normally this negative in reviews but I think its justified here. I went in on a Wednesday night for Trivia with 5 friends. The service was bad, a waitress spoke to me once in 3 hours. The food was bad. On top of that, the trivia was literally the worst trivia I've ever been to. I've gone to Trivia in a bunch of cities and have never experienced it like hazelwoods. The questions were unchallenging and they were all spaced about 5 minutes apart so it took about 2 hours for 30 questions. The host was boring and I was counting the seconds until I could leave. Would not come back if you paid me.\",\n          \"Pretty much echoing the same gripes as the other reviewers.  \\\\n\\\\nParking was horrid.  Getting in was alright as we got there before the festival opened.  Getting out was another thing all together.  I drive a tall SUV, so after sitting in a line for 10 minues, I decided to off-road it to get out.  \\\\n\\\\nThe balloons were all handing out cheap candy.  And the ones that werent, or werent out of candy, had lines that were very long.  \\\\n\\\\nAll in all, there wasnt a lot for kids to do - Radio Disney booth aside.\\\\n\\\\nThe only positives were - 1) a friend of ours had her vendor booth set up there. So we got to see her.  2) I purchased a Groupon for 2-4-1 admission.  Thank goodness.  I dont think that I would have been happy paying full price. \\\\n\\\\nThis year, I was going to buy another groupon/living social deal.  BUT they originally only had the deals for Friday.  Then they opened up the option for Saturday for Groupon only, with ticket sales being limited.  By the time i went to buy the saturday groupon, it was already sold out.  \\\\n\\\\nGuess we'll be going to Howl-O-Ween at the Phx Zoo this year instead.  I have a feeling our money will be money well spent at the zoo.\"\n        ],\n        \"semantic_type\": \"\",\n        \"description\": \"\"\n      }\n    },\n    {\n      \"column\": \"sentiment\",\n      \"properties\": {\n        \"dtype\": \"category\",\n        \"num_unique_values\": 2,\n        \"samples\": [\n          \"positive\",\n          \"negative\"\n        ],\n        \"semantic_type\": \"\",\n        \"description\": \"\"\n      }\n    }\n  ]\n}",
              "type": "dataframe"
            },
            "text/html": [
              "\n",
              "  <div id=\"df-615041f9-6520-4991-8d7a-a0d9b00fee1d\" class=\"colab-df-container\">\n",
              "    <div>\n",
              "<style scoped>\n",
              "    .dataframe tbody tr th:only-of-type {\n",
              "        vertical-align: middle;\n",
              "    }\n",
              "\n",
              "    .dataframe tbody tr th {\n",
              "        vertical-align: top;\n",
              "    }\n",
              "\n",
              "    .dataframe thead th {\n",
              "        text-align: right;\n",
              "    }\n",
              "</style>\n",
              "<table border=\"1\" class=\"dataframe\">\n",
              "  <thead>\n",
              "    <tr style=\"text-align: right;\">\n",
              "      <th></th>\n",
              "      <th>review</th>\n",
              "      <th>sentiment</th>\n",
              "    </tr>\n",
              "  </thead>\n",
              "  <tbody>\n",
              "    <tr>\n",
              "      <th>132407</th>\n",
              "      <td>Usually this is a good location. I actually dr...</td>\n",
              "      <td>negative</td>\n",
              "    </tr>\n",
              "    <tr>\n",
              "      <th>270911</th>\n",
              "      <td>All Im gonna say is \\\"Bad place to have a Taek...</td>\n",
              "      <td>negative</td>\n",
              "    </tr>\n",
              "    <tr>\n",
              "      <th>585761</th>\n",
              "      <td>Pretty much echoing the same gripes as the oth...</td>\n",
              "      <td>negative</td>\n",
              "    </tr>\n",
              "    <tr>\n",
              "      <th>30243</th>\n",
              "      <td>I used to love watching this. I had no idea it...</td>\n",
              "      <td>positive</td>\n",
              "    </tr>\n",
              "    <tr>\n",
              "      <th>290934</th>\n",
              "      <td>I'm not normally this negative in reviews but ...</td>\n",
              "      <td>negative</td>\n",
              "    </tr>\n",
              "  </tbody>\n",
              "</table>\n",
              "</div>\n",
              "    <div class=\"colab-df-buttons\">\n",
              "\n",
              "  <div class=\"colab-df-container\">\n",
              "    <button class=\"colab-df-convert\" onclick=\"convertToInteractive('df-615041f9-6520-4991-8d7a-a0d9b00fee1d')\"\n",
              "            title=\"Convert this dataframe to an interactive table.\"\n",
              "            style=\"display:none;\">\n",
              "\n",
              "  <svg xmlns=\"http://www.w3.org/2000/svg\" height=\"24px\" viewBox=\"0 -960 960 960\">\n",
              "    <path d=\"M120-120v-720h720v720H120Zm60-500h600v-160H180v160Zm220 220h160v-160H400v160Zm0 220h160v-160H400v160ZM180-400h160v-160H180v160Zm440 0h160v-160H620v160ZM180-180h160v-160H180v160Zm440 0h160v-160H620v160Z\"/>\n",
              "  </svg>\n",
              "    </button>\n",
              "\n",
              "  <style>\n",
              "    .colab-df-container {\n",
              "      display:flex;\n",
              "      gap: 12px;\n",
              "    }\n",
              "\n",
              "    .colab-df-convert {\n",
              "      background-color: #E8F0FE;\n",
              "      border: none;\n",
              "      border-radius: 50%;\n",
              "      cursor: pointer;\n",
              "      display: none;\n",
              "      fill: #1967D2;\n",
              "      height: 32px;\n",
              "      padding: 0 0 0 0;\n",
              "      width: 32px;\n",
              "    }\n",
              "\n",
              "    .colab-df-convert:hover {\n",
              "      background-color: #E2EBFA;\n",
              "      box-shadow: 0px 1px 2px rgba(60, 64, 67, 0.3), 0px 1px 3px 1px rgba(60, 64, 67, 0.15);\n",
              "      fill: #174EA6;\n",
              "    }\n",
              "\n",
              "    .colab-df-buttons div {\n",
              "      margin-bottom: 4px;\n",
              "    }\n",
              "\n",
              "    [theme=dark] .colab-df-convert {\n",
              "      background-color: #3B4455;\n",
              "      fill: #D2E3FC;\n",
              "    }\n",
              "\n",
              "    [theme=dark] .colab-df-convert:hover {\n",
              "      background-color: #434B5C;\n",
              "      box-shadow: 0px 1px 3px 1px rgba(0, 0, 0, 0.15);\n",
              "      filter: drop-shadow(0px 1px 2px rgba(0, 0, 0, 0.3));\n",
              "      fill: #FFFFFF;\n",
              "    }\n",
              "  </style>\n",
              "\n",
              "    <script>\n",
              "      const buttonEl =\n",
              "        document.querySelector('#df-615041f9-6520-4991-8d7a-a0d9b00fee1d button.colab-df-convert');\n",
              "      buttonEl.style.display =\n",
              "        google.colab.kernel.accessAllowed ? 'block' : 'none';\n",
              "\n",
              "      async function convertToInteractive(key) {\n",
              "        const element = document.querySelector('#df-615041f9-6520-4991-8d7a-a0d9b00fee1d');\n",
              "        const dataTable =\n",
              "          await google.colab.kernel.invokeFunction('convertToInteractive',\n",
              "                                                    [key], {});\n",
              "        if (!dataTable) return;\n",
              "\n",
              "        const docLinkHtml = 'Like what you see? Visit the ' +\n",
              "          '<a target=\"_blank\" href=https://colab.research.google.com/notebooks/data_table.ipynb>data table notebook</a>'\n",
              "          + ' to learn more about interactive tables.';\n",
              "        element.innerHTML = '';\n",
              "        dataTable['output_type'] = 'display_data';\n",
              "        await google.colab.output.renderOutput(dataTable, element);\n",
              "        const docLink = document.createElement('div');\n",
              "        docLink.innerHTML = docLinkHtml;\n",
              "        element.appendChild(docLink);\n",
              "      }\n",
              "    </script>\n",
              "  </div>\n",
              "\n",
              "\n",
              "<div id=\"df-5830768c-d95b-4bfe-b99f-4895e6a01bd4\">\n",
              "  <button class=\"colab-df-quickchart\" onclick=\"quickchart('df-5830768c-d95b-4bfe-b99f-4895e6a01bd4')\"\n",
              "            title=\"Suggest charts\"\n",
              "            style=\"display:none;\">\n",
              "\n",
              "<svg xmlns=\"http://www.w3.org/2000/svg\" height=\"24px\"viewBox=\"0 0 24 24\"\n",
              "     width=\"24px\">\n",
              "    <g>\n",
              "        <path d=\"M19 3H5c-1.1 0-2 .9-2 2v14c0 1.1.9 2 2 2h14c1.1 0 2-.9 2-2V5c0-1.1-.9-2-2-2zM9 17H7v-7h2v7zm4 0h-2V7h2v10zm4 0h-2v-4h2v4z\"/>\n",
              "    </g>\n",
              "</svg>\n",
              "  </button>\n",
              "\n",
              "<style>\n",
              "  .colab-df-quickchart {\n",
              "      --bg-color: #E8F0FE;\n",
              "      --fill-color: #1967D2;\n",
              "      --hover-bg-color: #E2EBFA;\n",
              "      --hover-fill-color: #174EA6;\n",
              "      --disabled-fill-color: #AAA;\n",
              "      --disabled-bg-color: #DDD;\n",
              "  }\n",
              "\n",
              "  [theme=dark] .colab-df-quickchart {\n",
              "      --bg-color: #3B4455;\n",
              "      --fill-color: #D2E3FC;\n",
              "      --hover-bg-color: #434B5C;\n",
              "      --hover-fill-color: #FFFFFF;\n",
              "      --disabled-bg-color: #3B4455;\n",
              "      --disabled-fill-color: #666;\n",
              "  }\n",
              "\n",
              "  .colab-df-quickchart {\n",
              "    background-color: var(--bg-color);\n",
              "    border: none;\n",
              "    border-radius: 50%;\n",
              "    cursor: pointer;\n",
              "    display: none;\n",
              "    fill: var(--fill-color);\n",
              "    height: 32px;\n",
              "    padding: 0;\n",
              "    width: 32px;\n",
              "  }\n",
              "\n",
              "  .colab-df-quickchart:hover {\n",
              "    background-color: var(--hover-bg-color);\n",
              "    box-shadow: 0 1px 2px rgba(60, 64, 67, 0.3), 0 1px 3px 1px rgba(60, 64, 67, 0.15);\n",
              "    fill: var(--button-hover-fill-color);\n",
              "  }\n",
              "\n",
              "  .colab-df-quickchart-complete:disabled,\n",
              "  .colab-df-quickchart-complete:disabled:hover {\n",
              "    background-color: var(--disabled-bg-color);\n",
              "    fill: var(--disabled-fill-color);\n",
              "    box-shadow: none;\n",
              "  }\n",
              "\n",
              "  .colab-df-spinner {\n",
              "    border: 2px solid var(--fill-color);\n",
              "    border-color: transparent;\n",
              "    border-bottom-color: var(--fill-color);\n",
              "    animation:\n",
              "      spin 1s steps(1) infinite;\n",
              "  }\n",
              "\n",
              "  @keyframes spin {\n",
              "    0% {\n",
              "      border-color: transparent;\n",
              "      border-bottom-color: var(--fill-color);\n",
              "      border-left-color: var(--fill-color);\n",
              "    }\n",
              "    20% {\n",
              "      border-color: transparent;\n",
              "      border-left-color: var(--fill-color);\n",
              "      border-top-color: var(--fill-color);\n",
              "    }\n",
              "    30% {\n",
              "      border-color: transparent;\n",
              "      border-left-color: var(--fill-color);\n",
              "      border-top-color: var(--fill-color);\n",
              "      border-right-color: var(--fill-color);\n",
              "    }\n",
              "    40% {\n",
              "      border-color: transparent;\n",
              "      border-right-color: var(--fill-color);\n",
              "      border-top-color: var(--fill-color);\n",
              "    }\n",
              "    60% {\n",
              "      border-color: transparent;\n",
              "      border-right-color: var(--fill-color);\n",
              "    }\n",
              "    80% {\n",
              "      border-color: transparent;\n",
              "      border-right-color: var(--fill-color);\n",
              "      border-bottom-color: var(--fill-color);\n",
              "    }\n",
              "    90% {\n",
              "      border-color: transparent;\n",
              "      border-bottom-color: var(--fill-color);\n",
              "    }\n",
              "  }\n",
              "</style>\n",
              "\n",
              "  <script>\n",
              "    async function quickchart(key) {\n",
              "      const quickchartButtonEl =\n",
              "        document.querySelector('#' + key + ' button');\n",
              "      quickchartButtonEl.disabled = true;  // To prevent multiple clicks.\n",
              "      quickchartButtonEl.classList.add('colab-df-spinner');\n",
              "      try {\n",
              "        const charts = await google.colab.kernel.invokeFunction(\n",
              "            'suggestCharts', [key], {});\n",
              "      } catch (error) {\n",
              "        console.error('Error during call to suggestCharts:', error);\n",
              "      }\n",
              "      quickchartButtonEl.classList.remove('colab-df-spinner');\n",
              "      quickchartButtonEl.classList.add('colab-df-quickchart-complete');\n",
              "    }\n",
              "    (() => {\n",
              "      let quickchartButtonEl =\n",
              "        document.querySelector('#df-5830768c-d95b-4bfe-b99f-4895e6a01bd4 button');\n",
              "      quickchartButtonEl.style.display =\n",
              "        google.colab.kernel.accessAllowed ? 'block' : 'none';\n",
              "    })();\n",
              "  </script>\n",
              "</div>\n",
              "\n",
              "    </div>\n",
              "  </div>\n"
            ],
            "text/plain": [
              "                                                   review sentiment\n",
              "132407  Usually this is a good location. I actually dr...  negative\n",
              "270911  All Im gonna say is \\\"Bad place to have a Taek...  negative\n",
              "585761  Pretty much echoing the same gripes as the oth...  negative\n",
              "30243   I used to love watching this. I had no idea it...  positive\n",
              "290934  I'm not normally this negative in reviews but ...  negative"
            ]
          },
          "execution_count": 6,
          "metadata": {},
          "output_type": "execute_result"
        }
      ],
      "source": [
        "df = pd.read_csv(\"dataset/sentiment_combined.csv\")\n",
        "df.sample(5)"
      ]
    },
    {
      "cell_type": "markdown",
      "metadata": {
        "id": "00gmM1X-nbwW"
      },
      "source": [
        "## 2. Data Analysis"
      ]
    },
    {
      "cell_type": "code",
      "execution_count": 7,
      "metadata": {
        "id": "_PxnoXPknrMg"
      },
      "outputs": [],
      "source": [
        "import matplotlib.pyplot as plt\n",
        "import seaborn as sns\n",
        "from sklearn.model_selection import train_test_split"
      ]
    },
    {
      "cell_type": "code",
      "execution_count": 13,
      "metadata": {
        "colab": {
          "base_uri": "https://localhost:8080/",
          "height": 465
        },
        "id": "F-Vxh1WPnGeJ",
        "outputId": "03b6d69d-399f-4cc0-94a5-1ac78bdb5547"
      },
      "outputs": [
        {
          "name": "stdout",
          "output_type": "stream",
          "text": [
            "train data shape: (549000,)\n",
            "test data shape: (61000,)\n"
          ]
        },
        {
          "data": {
            "image/png": "[encoded data removed]",
            "text/plain": [
              "<Figure size 640x480 with 1 Axes>"
            ]
          },
          "metadata": {},
          "output_type": "display_data"
        }
      ],
      "source": [
        "X, y = df['review'].values,df['sentiment'].values\n",
        "X_train, X_test, y_train, y_test = train_test_split(X,\n",
        "                                                    y,\n",
        "                                                    test_size = 0.1)\n",
        "print(f'train data shape: {X_train.shape}')\n",
        "print(f'test data shape: {X_test.shape}')\n",
        "\n",
        "\n",
        "val = pd.Series(y_train).value_counts()\n",
        "sns.barplot(x = np.array(['negative','positive']),\n",
        "            y = val.values)\n",
        "plt.show()"
      ]
    },
    {
      "cell_type": "markdown",
      "metadata": {
        "id": "I0aQLjLNoh58"
      },
      "source": [
        "## 3. Text Pre-Processing\n",
        "- Cleaning up the text data by removing punctuation, extra spaces, and numbers.\n",
        "- Transform sentences into individual words, remove common words (known as \"stop words\")\n",
        "- Keeping track of the 1000 most frequently used words in the dataset\n",
        "- Assigning tracked words a unique identifier, forming dictionary for one-hot encoding\n",
        "- Ensuring all sequences have the same length by padding or truncating them as needed by 500 tokens"
      ]
    },
    {
      "cell_type": "code",
      "execution_count": 14,
      "metadata": {
        "colab": {
          "base_uri": "https://localhost:8080/"
        },
        "id": "HTeEZdMSpBeq",
        "outputId": "5a0be59d-dba4-4b5d-9c0e-05b8aad92615"
      },
      "outputs": [
        {
          "name": "stderr",
          "output_type": "stream",
          "text": [
            "[nltk_data] Downloading package stopwords to /root/nltk_data...\n",
            "[nltk_data]   Package stopwords is already up-to-date!\n"
          ]
        }
      ],
      "source": [
        "import re\n",
        "import nltk\n",
        "from nltk.corpus import stopwords\n",
        "nltk.download('stopwords')\n",
        "from collections import Counter\n",
        "\n",
        "from tqdm import tqdm"
      ]
    },
    {
      "cell_type": "code",
      "execution_count": 15,
      "metadata": {
        "id": "huj_ZpwyoM_F"
      },
      "outputs": [],
      "source": [
        "# Precompile regular expressions for faster pre processing [improved by 50% in preprocess]\n",
        "non_word_chars_pattern = re.compile(r\"[^\\w\\s]\")\n",
        "whitespace_pattern = re.compile(r\"\\s+\")\n",
        "digits_pattern = re.compile(r\"\\d\")\n",
        "username_pattern = re.compile(r\"@([^\\s]+)\")\n",
        "hashtags_pattern = re.compile(r\"#\\d+\")\n",
        "\n",
        "def preprocess_string(s):\n",
        "    # Remove all non-word characters (everything except numbers and letters)\n",
        "    s = non_word_chars_pattern.sub('', s)\n",
        "    # Replace all runs of whitespaces with single space\n",
        "    s = whitespace_pattern.sub(' ', s)\n",
        "    # Replace digits with no space\n",
        "    s = digits_pattern.sub('', s)\n",
        "    # Replace usernames with no space\n",
        "    s = username_pattern.sub('', s)\n",
        "    # Replace hashtags with no space\n",
        "    s = hashtags_pattern.sub('', s)\n",
        "    # Replace specific characters\n",
        "    s = s.replace(\"https\", \"\")\n",
        "    s = s.replace(\"http\", \"\")\n",
        "    s = s.replace(\"rt\", \"\")\n",
        "    s = s.replace(\"-\", \"\")\n",
        "    # Replace <br /> with a space\n",
        "    s = s.replace(\"<br />\", \" \")\n",
        "    # Replace newline character with empty string\n",
        "    s = s.replace(\"\\n\", \"\")\n",
        "    return s"
      ]
    },
    {
      "cell_type": "code",
      "execution_count": 16,
      "metadata": {
        "id": "FzaCKiCFvafI"
      },
      "outputs": [],
      "source": [
        "# Create a Tokenize including padding Function\n",
        "def tokenize(X_train, y_train, X_val, y_val, seq_len):\n",
        "    word_list = []\n",
        "    stop_words = set(stopwords.words('english'))\n",
        "\n",
        "    for sent in tqdm(X_train, desc=\"Preprocessing train data\"):\n",
        "        words = [preprocess_string(word) for word in sent.lower().split()]\n",
        "        word_list.extend([word for word in words if word not in stop_words and word != ''])\n",
        "\n",
        "    corpus = Counter(word_list)\n",
        "    # Sorting on the basis of most common words\n",
        "    corpus_ = sorted(corpus, key=corpus.get, reverse=True)[:1000]\n",
        "    # Creating a dictionary\n",
        "    onehot_dict = {w: i + 1 for i, w in enumerate(corpus_)}\n",
        "\n",
        "    # Tokenize and pad sequences\n",
        "    final_list_train = [[onehot_dict.get(preprocess_string(word), 0) for word in sent.lower().split() if preprocess_string(word) in onehot_dict]\n",
        "                        for sent in tqdm(X_train, desc=\"Tokenizing and padding train data\")]\n",
        "    final_list_train = [padded_tokens[-seq_len:] if len(padded_tokens) > seq_len else [0] * (seq_len - len(padded_tokens)) + padded_tokens\n",
        "                        for padded_tokens in final_list_train]\n",
        "\n",
        "    final_list_test = [[onehot_dict.get(preprocess_string(word), 0) for word in sent.lower().split() if preprocess_string(word) in onehot_dict]\n",
        "                       for sent in tqdm(X_val, desc=\"Tokenizing and padding validation data\")]\n",
        "    final_list_test = [padded_tokens[-seq_len:] if len(padded_tokens) > seq_len\n",
        "                       else [0] * (seq_len - len(padded_tokens)) + padded_tokens\n",
        "                       for padded_tokens in final_list_test]\n",
        "\n",
        "    encoded_train = np.array([1 if label == 'positive' else 0 for label in y_train])\n",
        "    encoded_test = np.array([1 if label == 'positive' else 0 for label in y_val])\n",
        "\n",
        "    return np.array(final_list_train), encoded_train, np.array(final_list_test), encoded_test, onehot_dict"
      ]
    },
    {
      "cell_type": "code",
      "execution_count": 17,
      "metadata": {
        "colab": {
          "base_uri": "https://localhost:8080/"
        },
        "id": "w9_A_w57pj4Y",
        "outputId": "1b0f5289-040b-49d1-aad4-1e0f4f012986"
      },
      "outputs": [
        {
          "name": "stderr",
          "output_type": "stream",
          "text": [
            "Preprocessing train data: 100%|██████████| 549000/549000 [03:11<00:00, 2864.01it/s]\n",
            "Tokenizing and padding train data: 100%|██████████| 549000/549000 [04:17<00:00, 2131.77it/s]\n",
            "Tokenizing and padding validation data: 100%|██████████| 61000/61000 [00:32<00:00, 1893.55it/s]\n"
          ]
        },
        {
          "data": {
            "text/plain": [
              "(549000, 61000)"
            ]
          },
          "execution_count": 17,
          "metadata": {},
          "output_type": "execute_result"
        }
      ],
      "source": [
        "seq_len = 300\n",
        "X_train, y_train, X_test, y_test, vocab = tokenize(X_train,\n",
        "                                                   y_train,\n",
        "                                                   X_test,\n",
        "                                                   y_test,\n",
        "                                                   seq_len)\n",
        "\n",
        "len(X_train), len(X_test)"
      ]
    },
    {
      "cell_type": "code",
      "execution_count": 18,
      "metadata": {
        "colab": {
          "base_uri": "https://localhost:8080/"
        },
        "id": "J61TtmqcuVTc",
        "outputId": "3ff460d7-accf-49a7-d53d-c3a95db79657"
      },
      "outputs": [
        {
          "data": {
            "text/plain": [
              "(array([[  0,   0,   0, ...,  87, 140,  54],\n",
              "        [  0,   0,   0, ...,   8, 136, 943],\n",
              "        [  0,   0,   0, ...,  28, 119,  67],\n",
              "        ...,\n",
              "        [  0,   0,   0, ..., 241,  22, 123],\n",
              "        [  0,   0,   0, ..., 168, 242, 501],\n",
              "        [  0,   0,   0, ...,  94, 162, 109]]),\n",
              " array([1, 0, 1, ..., 1, 1, 1]))"
            ]
          },
          "execution_count": 18,
          "metadata": {},
          "output_type": "execute_result"
        }
      ],
      "source": [
        "X_train, y_train"
      ]
    },
    {
      "cell_type": "markdown",
      "metadata": {
        "id": "r_XIMBMRwZWN"
      },
      "source": [
        "## 4. Preparing the data using DataLoader"
      ]
    },
    {
      "cell_type": "code",
      "execution_count": 19,
      "metadata": {
        "id": "tudpNZvOwq07"
      },
      "outputs": [],
      "source": [
        "import torch\n",
        "from torch.utils.data import TensorDataset, DataLoader"
      ]
    },
    {
      "cell_type": "code",
      "execution_count": 29,
      "metadata": {
        "colab": {
          "base_uri": "https://localhost:8080/"
        },
        "id": "2T5g7K3Iub9F",
        "outputId": "c3e40d7e-ea5b-4688-ec33-30453b19de01"
      },
      "outputs": [
        {
          "data": {
            "text/plain": [
              "(5490, 610)"
            ]
          },
          "execution_count": 29,
          "metadata": {},
          "output_type": "execute_result"
        }
      ],
      "source": [
        "# Create Tensor datasets\n",
        "train_data = TensorDataset(torch.from_numpy(X_train),\n",
        "                           torch.from_numpy(y_train))\n",
        "valid_data = TensorDataset(torch.from_numpy(X_test),\n",
        "                           torch.from_numpy(y_test))\n",
        "\n",
        "BATCH_SIZE = 100\n",
        "\n",
        "# Create train and valid dataloader\n",
        "train_dataloader = DataLoader(train_data,\n",
        "                              shuffle=True,\n",
        "                              batch_size=BATCH_SIZE)\n",
        "valid_dataloader = DataLoader(valid_data,\n",
        "                              shuffle=True,\n",
        "                              batch_size=BATCH_SIZE)\n",
        "\n",
        "len(train_dataloader), len(valid_dataloader)"
      ]
    },
    {
      "cell_type": "code",
      "execution_count": 30,
      "metadata": {
        "colab": {
          "base_uri": "https://localhost:8080/"
        },
        "id": "L5rE9aJsxfbg",
        "outputId": "f93e2d00-832f-4bbc-973f-6306f1723942"
      },
      "outputs": [
        {
          "name": "stdout",
          "output_type": "stream",
          "text": [
            "Sample input size: torch.Size([100, 300])\n",
            "Sample input: tensor([[  0,   0,   0,  ...,  91,  70,   1],\n",
            "        [  0,   0,   0,  ...,   2,  19,  85],\n",
            "        [  0,   0,   0,  ..., 394, 134,  52],\n",
            "        ...,\n",
            "        [  0,   0,   0,  ..., 454, 892, 982],\n",
            "        [  0,   0,   0,  ..., 230, 694, 208],\n",
            "        [  0,   0,   0,  ...,   4, 271, 944]])\n",
            "Sample output: tensor([0, 0, 0, 0, 1, 1, 0, 1, 1, 1, 0, 1, 0, 1, 1, 1, 0, 1, 1, 1, 0, 1, 0, 0,\n",
            "        1, 1, 0, 1, 0, 1, 1, 0, 1, 0, 0, 0, 0, 1, 1, 1, 1, 1, 1, 0, 0, 1, 0, 1,\n",
            "        0, 0, 1, 1, 0, 0, 0, 0, 0, 0, 1, 1, 1, 0, 0, 1, 0, 0, 0, 0, 1, 0, 0, 1,\n",
            "        0, 0, 0, 0, 1, 0, 0, 1, 1, 0, 1, 1, 1, 1, 0, 0, 1, 1, 1, 1, 0, 1, 1, 0,\n",
            "        1, 1, 0, 0])\n"
          ]
        }
      ],
      "source": [
        "# Sampling one bacth from train_dataloader\n",
        "sample_data = iter(train_dataloader)\n",
        "sample_x, sample_y = next(sample_data)\n",
        "\n",
        "print('Sample input size:', sample_x.size())     # batch_size, seq_length\n",
        "print('Sample input:', sample_x)\n",
        "print('Sample output:', sample_y)"
      ]
    },
    {
      "cell_type": "markdown",
      "metadata": {
        "id": "XfhrHm3tx9wA"
      },
      "source": [
        "## 5. Building a LSTM Model"
      ]
    },
    {
      "cell_type": "markdown",
      "metadata": {
        "id": "nyzct5DCRx8h"
      },
      "source": [
        "<img src = \"assets/LSTM-Model.png\">"
      ]
    },
    {
      "cell_type": "code",
      "execution_count": 31,
      "metadata": {
        "colab": {
          "base_uri": "https://localhost:8080/"
        },
        "id": "FCdSBQfeyNQs",
        "outputId": "4c39fa95-421a-45d0-d8b7-fe52e4d3cad0"
      },
      "outputs": [
        {
          "name": "stdout",
          "output_type": "stream",
          "text": [
            "cuda\n"
          ]
        }
      ],
      "source": [
        "import torch\n",
        "from torch import nn\n",
        "from torch.nn.utils import clip_grad_norm_\n",
        "\n",
        "# Setting device agnostic code\n",
        "device = 'cuda' if torch.cuda.is_available() else 'cpu'\n",
        "print(device)"
      ]
    },
    {
      "cell_type": "markdown",
      "metadata": {
        "id": "ulOsDj01Srqx"
      },
      "source": [
        "Here's a breakdown of how each component of the `SentimentLSTM` class processes the tokenized and padded array of text:\n",
        "\n",
        "### Embedding Layer\n",
        "The embedding layer (`self.embedding`) takes the tokenized and padded array of text as input. It converts each token (represented as an integer) into a dense vector of fixed size (`embedding_dim`). This dense representation captures semantic similarities between words. The input shape to the embedding layer is `(batch_size, sequence_length)`, where `batch_size` is the number of sequences in the batch and `sequence_length` is the length of each sequence.\n",
        "\n",
        "### LSTM Layer\n",
        "The LSTM layer (`self.lstm`) processes the embedded sequences over time. It takes the embedded input sequences and maintains hidden states to capture long-term dependencies. The LSTM layer consists of multiple LSTM units (determined by `no_layers`). Each LSTM unit processes one time step of the input sequence at a time. The input shape to the LSTM layer is `(batch_size, sequence_length, embedding_dim)`.\n",
        "\n",
        "### Dropout Layer\n",
        "The dropout layer (`self.dropout`) is applied after the LSTM layer. It helps prevent overfitting by randomly setting a fraction of input units to zero during training. This regularization technique improves the model's generalization performance. The input shape to the dropout layer is `(batch_size, sequence_length, hidden_dim)`.\n",
        "\n",
        "### Fully Connected (Linear) Layer\n",
        "The fully connected layer (`self.fc`) takes the output from the LSTM layer and transforms it into the desired output dimension (`output_dim`). It applies a linear transformation to the input data, followed by an optional bias term. The input shape to the fully connected layer is `(batch_size * sequence_length, hidden_dim)`.\n",
        "\n",
        "### Sigmoid Activation Function\n",
        "The sigmoid activation function (`self.sig`) is applied to the output of the fully connected layer. It squashes the output values to the range [0, 1], interpreting them as probabilities. In sentiment analysis, this allows the model to predict the probability of a given input belonging to a particular sentiment class (e.g., positive or negative). The output shape after applying the sigmoid function is `(batch_size * sequence_length)`."
      ]
    },
    {
      "cell_type": "code",
      "execution_count": 32,
      "metadata": {
        "id": "UAHIy-TMxzOJ"
      },
      "outputs": [],
      "source": [
        "class SentimentLSTM(nn.Module):\n",
        "  def __init__(self, no_layers, vocab_size, hidden_dim, embedding_dim, output_dim = 1):\n",
        "    super(SentimentLSTM, self).__init__()\n",
        "\n",
        "    self.output_dim = output_dim\n",
        "    self.hidden_dim = hidden_dim\n",
        "    self.no_layers = no_layers\n",
        "    self.vocab_size = vocab_size\n",
        "\n",
        "    # Embedding and LSTM layers\n",
        "    self.embedding = nn.Embedding(vocab_size, embedding_dim)\n",
        "\n",
        "    # LSTM Layer\n",
        "    self.lstm = nn.LSTM(input_size = embedding_dim,\n",
        "                        hidden_size = self.hidden_dim,\n",
        "                        num_layers = no_layers,\n",
        "                        batch_first = True)\n",
        "\n",
        "    self.dropout = nn.Dropout(0.3)                    # Dropout Layer\n",
        "    self.fc = nn.Linear(self.hidden_dim, output_dim)  # Linear Layer\n",
        "    self.sig = nn.Sigmoid()                           # Sigmoid Activation Function\n",
        "\n",
        "  def forward(self, x, hidden):\n",
        "    \"\"\" Forward pass \"\"\"\n",
        "    batch_size = x.size(0)\n",
        "\n",
        "    # Embeddings and lstm_out\n",
        "    embeds = self.embedding(x)  # shape: B x S x Feature   since batch = True\n",
        "    # print(embeds.shape)\n",
        "    lstm_out, hidden = self.lstm(embeds, hidden)\n",
        "    lstm_out = lstm_out.contiguous().view(-1, self.hidden_dim)\n",
        "\n",
        "    out = self.dropout(lstm_out)            # Dropout\n",
        "    out = self.fc(out)                      # Fully connected layer\n",
        "\n",
        "    sig_out = self.sig(out)                 # sigmoid function\n",
        "    sig_out = sig_out.view(batch_size, -1)  # Reshape to be batch_size first\n",
        "    sig_out = sig_out[:, -1]                # get last batch of labels\n",
        "    return sig_out, hidden                  # return last sigmoid output and hidden state\n",
        "\n",
        "  def init_hidden(self, batch_size):\n",
        "    \"\"\" Initializes hidden state \"\"\"\n",
        "    # Create two new tensors with sizes n_layers x batch_size x hidden_dim,\n",
        "    # Initialized to zero, for hidden state and cell state of LSTM\n",
        "    hidden_state = torch.zeros((self.no_layers,\n",
        "                                batch_size,\n",
        "                                self.hidden_dim)).to(device)\n",
        "    # print(batch_size)\n",
        "    cell_state = torch.zeros((self.no_layers,\n",
        "                              batch_size,\n",
        "                              self.hidden_dim)).to(device)\n",
        "    hidden = (hidden_state, cell_state)\n",
        "    # print(\"Hidden\", hidden_state.size())\n",
        "    # print(\"Cell\", cell_state.size())\n",
        "    return hidden"
      ]
    },
    {
      "cell_type": "code",
      "execution_count": 33,
      "metadata": {
        "colab": {
          "base_uri": "https://localhost:8080/"
        },
        "id": "ImnTLXQY0K_A",
        "outputId": "e8a56687-b12c-4e77-b213-8bd2620bd9fb"
      },
      "outputs": [
        {
          "data": {
            "text/plain": [
              "SentimentLSTM(\n",
              "  (embedding): Embedding(1001, 64)\n",
              "  (lstm): LSTM(64, 256, num_layers=2, batch_first=True)\n",
              "  (dropout): Dropout(p=0.3, inplace=False)\n",
              "  (fc): Linear(in_features=256, out_features=1, bias=True)\n",
              "  (sig): Sigmoid()\n",
              ")"
            ]
          },
          "execution_count": 33,
          "metadata": {},
          "output_type": "execute_result"
        }
      ],
      "source": [
        "model = SentimentLSTM(no_layers = 2,               # LSTM doesn't perform quite well beyound 2 layers\n",
        "                      vocab_size = len(vocab) + 1, # 1 extra for padding\n",
        "                      hidden_dim = 256,\n",
        "                      embedding_dim = 64)\n",
        "\n",
        "# Pass model to device 'cuda' if selected\n",
        "model.to(device)"
      ]
    },
    {
      "cell_type": "markdown",
      "metadata": {
        "id": "cVe0MYCA4w5L"
      },
      "source": [
        "## 6. Create Train and Validation Loop Function"
      ]
    },
    {
      "cell_type": "code",
      "execution_count": 34,
      "metadata": {
        "id": "B6LbxATe7MNN"
      },
      "outputs": [],
      "source": [
        "# Function to predict accuracy\n",
        "def acc(pred, label):\n",
        "  pred = torch.round(pred.squeeze())\n",
        "  return torch.sum(pred == label.squeeze()).item()"
      ]
    },
    {
      "cell_type": "code",
      "execution_count": 35,
      "metadata": {
        "id": "m6IE2Aep37PS"
      },
      "outputs": [],
      "source": [
        "def train_model(model, train_loader, valid_loader, criterion, optimizer, epochs, clip, device):\n",
        "  valid_loss_min = np.Inf\n",
        "  epoch_tr_loss, epoch_vl_loss = [], []\n",
        "  epoch_tr_acc, epoch_vl_acc = [], []\n",
        "\n",
        "  for epoch in range(epochs):\n",
        "    train_losses = []\n",
        "    train_acc = 0.0\n",
        "    model.train()\n",
        "\n",
        "    # Initialize hidden state\n",
        "    h = model.init_hidden(BATCH_SIZE)\n",
        "\n",
        "    for inputs, labels in train_loader:\n",
        "      inputs, labels = inputs.to(device), labels.to(device)\n",
        "\n",
        "      # Creating new variables for the hidden state to prevent backpropagation\n",
        "      # through the entire training history\n",
        "      h = tuple([each.data for each in h])\n",
        "\n",
        "      optimizer.zero_grad()\n",
        "      output, h = model(inputs, h)\n",
        "      loss = criterion(output.squeeze(), labels.float())\n",
        "      loss.backward()\n",
        "\n",
        "      train_losses.append(loss.item())\n",
        "      accuracy = acc(output, labels)\n",
        "      train_acc += accuracy\n",
        "      clip_grad_norm_(model.parameters(), clip)\n",
        "      optimizer.step()\n",
        "\n",
        "    val_h = model.init_hidden(BATCH_SIZE)\n",
        "    val_losses = []\n",
        "    val_acc = 0.0\n",
        "    model.eval()\n",
        "\n",
        "    for inputs, labels in valid_loader:\n",
        "      val_h = tuple([each.data for each in val_h])\n",
        "      inputs, labels = inputs.to(device), labels.to(device)\n",
        "      output, val_h = model(inputs, val_h)\n",
        "      val_loss = criterion(output.squeeze(), labels.float())\n",
        "      val_losses.append(val_loss.item())\n",
        "      accuracy = acc(output, labels)\n",
        "      val_acc += accuracy\n",
        "\n",
        "    epoch_train_loss = np.mean(train_losses)\n",
        "    epoch_val_loss = np.mean(val_losses)\n",
        "    epoch_train_acc = train_acc / len(train_loader.dataset)\n",
        "    epoch_val_acc = val_acc / len(valid_loader.dataset)\n",
        "\n",
        "    epoch_tr_loss.append(epoch_train_loss)\n",
        "    epoch_vl_loss.append(epoch_val_loss)\n",
        "    epoch_tr_acc.append(epoch_train_acc)\n",
        "    epoch_vl_acc.append(epoch_val_acc)\n",
        "\n",
        "    print(f'Epoch: {epoch+1} -- train_loss: {epoch_train_loss:.4f} -- train_acc: {epoch_train_acc*100:.2f}% -- val_loss: {epoch_val_loss:.4f} -- val_acc: {epoch_val_acc*100:.2f}%')\n",
        "\n",
        "    # Saving model on each epoch except when valid_loss_for_next_epoch > valid_loss_for_prev_epoch\n",
        "    if epoch_val_loss <= valid_loss_min:\n",
        "      torch.save(model.state_dict(), 'sentiment_model.pth')\n",
        "      print('Validation loss decreased ({:.6f} --> {:.6f}).  Saving model ...'.format(valid_loss_min, epoch_val_loss))\n",
        "      valid_loss_min = epoch_val_loss\n",
        "    print(25*'==')\n",
        "\n",
        "  return epoch_tr_loss, epoch_vl_loss, epoch_tr_acc, epoch_vl_acc"
      ]
    },
    {
      "cell_type": "markdown",
      "metadata": {
        "id": "p2oybwIQ-Pwd"
      },
      "source": [
        "## 7. Train and Evaluate the Model"
      ]
    },
    {
      "cell_type": "code",
      "execution_count": 36,
      "metadata": {
        "id": "eW7H3-ln5zm5"
      },
      "outputs": [],
      "source": [
        "# Loss function and Optimizer\n",
        "loss_fn = nn.BCELoss()\n",
        "optimizer = torch.optim.Adam(params=model.parameters(), lr=0.001)"
      ]
    },
    {
      "cell_type": "code",
      "execution_count": 37,
      "metadata": {
        "colab": {
          "base_uri": "https://localhost:8080/"
        },
        "id": "CmihVKQY561l",
        "outputId": "84db9608-555d-4ac3-d05a-85e4f0cdda1b"
      },
      "outputs": [
        {
          "name": "stdout",
          "output_type": "stream",
          "text": [
            "Epoch: 1 -- train_loss: 0.2746 -- train_acc: 88.19% -- val_loss: 0.2382 -- val_acc: 89.73%\n",
            "Validation loss decreased (inf --> 0.238167).  Saving model ...\n",
            "==================================================\n",
            "Epoch: 2 -- train_loss: 0.2183 -- train_acc: 90.86% -- val_loss: 0.2181 -- val_acc: 90.74%\n",
            "Validation loss decreased (0.238167 --> 0.218082).  Saving model ...\n",
            "==================================================\n",
            "Epoch: 3 -- train_loss: 0.1921 -- train_acc: 92.05% -- val_loss: 0.2105 -- val_acc: 91.15%\n",
            "Validation loss decreased (0.218082 --> 0.210509).  Saving model ...\n",
            "==================================================\n",
            "Epoch: 4 -- train_loss: 0.1653 -- train_acc: 93.20% -- val_loss: 0.2177 -- val_acc: 90.97%\n",
            "==================================================\n",
            "Epoch: 5 -- train_loss: 0.1376 -- train_acc: 94.41% -- val_loss: 0.2393 -- val_acc: 90.85%\n",
            "==================================================\n"
          ]
        }
      ],
      "source": [
        "train_losses, val_losses, train_accs, val_accs = train_model(model = model,\n",
        "                                                             train_loader = train_dataloader,\n",
        "                                                             valid_loader = valid_dataloader,\n",
        "                                                             criterion = loss_fn,\n",
        "                                                             optimizer = optimizer,\n",
        "                                                             epochs = 5,\n",
        "                                                             clip = 5,\n",
        "                                                             device = device)"
      ]
    },
    {
      "cell_type": "markdown",
      "metadata": {
        "id": "niBrXV4v-asL"
      },
      "source": [
        "## 8. Plot Loss and Accuracy Curves"
      ]
    },
    {
      "cell_type": "code",
      "execution_count": 38,
      "metadata": {
        "colab": {
          "base_uri": "https://localhost:8080/",
          "height": 486
        },
        "id": "5VM0Y5HJ59mV",
        "outputId": "720bd2e0-34e4-4bc6-ff1b-d6a0fa4be5af"
      },
      "outputs": [
        {
          "data": {
            "image/png": "[encoded data removed]",
            "text/plain": [
              "<Figure size 2000x600 with 2 Axes>"
            ]
          },
          "metadata": {},
          "output_type": "display_data"
        }
      ],
      "source": [
        "fig = plt.figure(figsize = (20, 6))\n",
        "plt.subplot(1, 2, 1)\n",
        "plt.plot(train_losses, label='Train loss')\n",
        "plt.plot(val_losses, label='Validation loss')\n",
        "plt.title(\"Loss\")\n",
        "plt.legend()\n",
        "\n",
        "plt.subplot(1, 2, 2)\n",
        "plt.plot(train_accs, label='Train Acc')\n",
        "plt.plot(val_accs, label='Validation Acc')\n",
        "plt.title(\"Accuracy\")\n",
        "plt.legend()\n",
        "\n",
        "plt.show()"
      ]
    },
    {
      "cell_type": "markdown",
      "metadata": {
        "id": "1UrCIXYQk3Y-"
      },
      "source": [
        "## 9. Load Model to `cpu`"
      ]
    },
    {
      "cell_type": "code",
      "execution_count": 39,
      "metadata": {
        "colab": {
          "base_uri": "https://localhost:8080/"
        },
        "id": "63_PktMxk9li",
        "outputId": "358e9e5f-4e4c-44f2-b6e8-b503f2c17c1e"
      },
      "outputs": [
        {
          "data": {
            "text/plain": [
              "SentimentLSTM(\n",
              "  (embedding): Embedding(1001, 64)\n",
              "  (lstm): LSTM(64, 256, num_layers=2, batch_first=True)\n",
              "  (dropout): Dropout(p=0.3, inplace=False)\n",
              "  (fc): Linear(in_features=256, out_features=1, bias=True)\n",
              "  (sig): Sigmoid()\n",
              ")"
            ]
          },
          "execution_count": 39,
          "metadata": {},
          "output_type": "execute_result"
        }
      ],
      "source": [
        "# Load model configs\n",
        "model = SentimentLSTM(no_layers = 2,\n",
        "                      vocab_size = len(vocab) + 1,\n",
        "                      hidden_dim = 256,\n",
        "                      embedding_dim = 64)\n",
        "\n",
        "# Load the model state dict\n",
        "model.load_state_dict(torch.load(\"sentiment_model.pth\", map_location=device))\n",
        "\n",
        "# Move the model to CPU\n",
        "model.to('cpu')"
      ]
    },
    {
      "cell_type": "markdown",
      "metadata": {
        "id": "K_-SrL4xlI8i"
      },
      "source": [
        "## 10. Make Prediction using Loaded Model"
      ]
    },
    {
      "cell_type": "code",
      "execution_count": 109,
      "metadata": {
        "id": "SQ5KVW-pWuIn"
      },
      "outputs": [],
      "source": [
        "def padding_(seq, max_length):\n",
        "    \"\"\"Pad sequences to the same length\"\"\"\n",
        "    if len(seq) >= max_length:\n",
        "        return seq[:max_length]\n",
        "    else:\n",
        "        padded = np.zeros((seq.shape[0], max_length), dtype=int)\n",
        "        padded[:, :seq.shape[1]] = seq\n",
        "        return padded\n",
        "\n",
        "def predict_text(text):\n",
        "    word_seq = np.array([vocab[preprocess_string(word)] for word in text.split()\n",
        "                         if preprocess_string(word) in vocab.keys()])\n",
        "    word_seq = np.expand_dims(word_seq, axis=0)\n",
        "    pad = torch.from_numpy(padding_(word_seq, 300))\n",
        "    inputs = pad.to('cpu')  # Move inputs to CPU\n",
        "    batch_size = 1\n",
        "    h = model.init_hidden(batch_size)\n",
        "    # Move the initial hidden state to CPU\n",
        "    h = tuple([each.to('cpu') for each in h])\n",
        "    # Set to evaluation mode\n",
        "    with torch.inference_mode():\n",
        "        output, h = model(inputs, h)\n",
        "    return output.item()"
      ]
    },
    {
      "cell_type": "code",
      "execution_count": 117,
      "metadata": {
        "colab": {
          "base_uri": "https://localhost:8080/"
        },
        "id": "jAZKKQ3R-jnm",
        "outputId": "acf87a5a-091e-474b-c38e-7d07bb44c014"
      },
      "outputs": [
        {
          "name": "stdout",
          "output_type": "stream",
          "text": [
            "Review:\n",
            "A very good place all around.  The service is quick, prices are reasonable and the food quality is very good.\\n\\nThey even have a drive-thru which is super-fast and convenient.  I've even ordered for 8-10 people at the drive-thru and it's quick.\\n\\nThe cheesy biscuits are great, as are the baked beans.  Salads pretty good too.  I would give them a 4.5 if I could.  I'm stingy with my 5's, but this is a strong 4.  You won't go wrong here.\\n\\nYes it's a small chain, but it doesn't feel like a chain.\n",
            "======================================================================\n",
            "Actual sentiment: positive\n",
            "======================================================================\n",
            "Predicted sentiment: \u001b[92mpositive\u001b[0m with a probability of 46.31%\n",
            "======================================================================\n",
            "Review:\n",
            "You have got to be kidding! As if Las Vegas needs any more contributions to it's notable lack of culture, authenticity and overall blandness. Here you have a place that is touting a new kind of BBQ, \\\"Las Vegas Style\\\". Now if by saying \\\"Vegas Style BBQ\\\" means that nothing that you do is actually barbecued, then Sassy Sal's has accomplished great things. Now I know that I'm sounding a bit like a LV hater, but I'm not. I just believe that the reputation that Vegas has as a cultural void need not be enhanced anymore. When you walk into a restaurant (or outside for that matter) and you do not smell any food cooking, this is not a good sign. When you walk up to, or into a BBQ restaurant and you don't smell any food cooking, or more importantly any smoke, or other aromas that define the style, you are definitely in trouble. I'll say it again, there is nothing at Sassy Sal's that is actually barbecued. Let me explain. I ordered a sampler (Ribs, Pulled Pork, Brisket, Hot Link and 2 sides), plus a 1/4 chicken. Cost around $20. Not too bad, except that $4 of it was the leg and chicken thigh. I watched the cook pull some ribs and a hot link from the cooler and put them on a grill. Then the other meats were re-heated somehow (probably in the microwave) and then sauce was applied. NOTE: Just by putting BBQ sauce on something does not make it BBQ. As we all know there are many great styles like Memphis Dry Rub that do not use sauce at all. The ribs and pork were decent in texture, but were obviously baked and or boiled first, then heated back up (no rub, no marinade or other seasoning). The brisket was terrible. Dry almost like jerky (though jerky would be much better) no smoke ring, no grill flavor (any Texan would be appalled). The chicken never even saw the grill, I got it \\\"Cajun style\\\", seemed to be boiled, then broiled, with some pre-mixed seasoning sprinkled on top. I'll give a nod to the potato salad because they used nice red potatoes and fresh veg, but it was quite salty and unbalanced. The staff was friendly and the service was quick. The best items were the Hot Link and Beans. However it does not take a culinary genius to buy some decent sausage and open a can of beans. By the way, the obviously canned beans were the only thing that had any smoky flavor whatsoever. Last but not least there were the 3 mini buns that were included with the sampler. I figured, hey that's a nice touch, maybe some small dinner rolls, or slider buns to use with the pork. THEY TOOK A HOT DOG BUN AND CUT IT INTO 3 PIECES! Now I could go on and on, but please, if you are going to promote something that is called BBQ then you'd better Barbecue something (low, slow and smoky, or fast, hot and smoky, I don't care). If not, at least you could include a flavor step such as a spice rub, or marinade, maybe even some liquid smoke if you have to. Just give it something, pretend like you care. You could show that you actually give a damn about what you are offering. You could help positively contribute to the local food culture instead of robbing people of experience, all while arrogantly claiming to be creating a \\\"Style\\\". And the story goes on and on. Three Thumbs Down.\n",
            "======================================================================\n",
            "Actual sentiment: negative\n",
            "======================================================================\n",
            "Predicted sentiment: \u001b[92mnegative\u001b[0m with a probability of 55.34%\n",
            "======================================================================\n",
            "Review:\n",
            "The food is actually pretty good.  Never had their pizza, but their sandwiches are delicious.  The service is pretty fast.  Usually the older gentlemen that takes orders over the phone is a pleasure to talk to, but the young kid needs an attitude adjustment.\n",
            "======================================================================\n",
            "Actual sentiment: negative\n",
            "======================================================================\n",
            "Predicted sentiment: \u001b[92mnegative\u001b[0m with a probability of 55.04%\n",
            "======================================================================\n",
            "Review:\n",
            "Wow! Cannot believe the mixed reviews this place has!!\\n\\nMy boyfriend and I went on a trip to Vegas this past week to celebrate our sixth anniversary. We both LOVE horror and we're big fans of Eli Roth (Cabin Fever rules! See it!!) so were so excited to visit the Goretorium.\\n\\nWe got our tickets on the Goldstar website, which I highly recommend. The tickets were $30 each including fees for the VIP admission, which includes skipping the line and a drink at the Baby Dolls Lounge. DEFINITELY DO THIS. It's $60 for VIP if you buy it at the door so def get your tickets online at Goldstar first if you can!!\\n\\nThe maze itself is super rad. It's about the Delmont Hotel's f**ked up residents. I don't wanna give too much away, but if you are a fan of Hostel you'll be very pleased. And if you are a bit of a scaredy cat being dragged against your will into this scary ass maze by your friend or significant other, it's helpful to know that they do have a safe word (well, technically safe phrase-- Red Red Red!) so in case you flip out TOO much or something you'll be okay. But please don't flip out because it is so awesome you should not miss it. \\n\\nThe best thing about this place is the group size-- seven people or less. If you have been to anything like Universal's Halloween Horror Nights, haunted mazes are usually pretty crowded and you usually see people ahead of you in line getting scares so you're not as scared. Not so at the Goretorium!! We, luckily, had another couple with us who were super sweet and we all joined together to trek through the maze as a unit!! (Only four of us total!) It's super fun and pretty damn scary. Be ready for some good spooks. But pay attention because some of the tricks in each room and absolutely amazing! Very theatrical and entertaining. It took us about fifteen or twenty minutes to go through it.\\n\\nAt the end of the maze, you're spit out into the Baby Dolls Lounge. The night we went was a Tuesday and for some reason all the groups who left the maze after us walked right by the door and left. DEAR GOD WHY!!?!? Drinks are pricey at $15 a pop but they are delicious and strong, so I think they are worth it. Even if you're not a drinker you should stop by and look out over the strip because it's got a killer (yuk yuk) view of the strip. I tried Eli Roth's Blood cocktail and my boyfriend got the Death Tea. I'd recommend both. \\n\\nPLEASE GO TO THE GORETORIUM!! I really want this place to stay in business so I can go back on my next trip to Vegas. We had an amazing night so I hope you all have a great time there too!!\\n\\nP.S. The yard-long drinks are the strongest on the strip! Look for the guys handing out cards-- we got 2-for-1 yard-longs at $20 flat for two drinks including the souvenir cups. The one with everclear in it is strong as f**k. \\n\\nHappy Haunting! ;)\n",
            "======================================================================\n",
            "Actual sentiment: positive\n",
            "======================================================================\n",
            "Predicted sentiment: \u001b[92mpositive\u001b[0m with a probability of 46.13%\n",
            "======================================================================\n",
            "Review:\n",
            "How do I live so close to the M and not come here more often?!\\n\\nA girlfriend and I stopped since we needed dinner and a study break.  The place is literally on the casino floor with no barriers between you and the slot machines.  The sports bar is also nearby so you can hear lots of cheering (or booing, depending on the game and people) if there's an exciting game on.\\n\\nMy girlfriend ordered the chicken tenders and fries.  I got the beef brisket sandwich ($8.99?), fountain drink (makes me wish the M still offered free soda), and fruit tart ($4.99, say what?!).  My bill was $16 and some change.\\n\\nNote, napkins are only available at the counter where you pick up your food, although plastic ware and stuff is located near the self-serve stuff.\\n\\nOur food came out pretty quickly, just enough time for the two of us to devour the delicious and beautiful fruit tart.  My sandwich was huge, I could only eat 1/2 of it.  The beef was moist and tender and covered in just enough BBQ sauce.  This wouldn't be a good togo or take home dish though because the moisture from the meat and sauce soak the bun.  It was good, not great, but good.\\nThe fries were hot and good.  I liked that they weren't overly salty so you can still salt them to taste.  \\nMy girlfriend's chicken tenders were ahhhmazing.  We couldn't finish all 5 of those huge suckers.  They were so moist and had a perfect amount of breading on them.  \\n\\nNext time my girlfriend and I go back, I think we'll just get one order of fries and tenders to split between the two of us!  And I won't order a fountain drink.  Just not worth the extra couple bucks.  But I'll definitely be back.\n",
            "======================================================================\n",
            "Actual sentiment: positive\n",
            "======================================================================\n",
            "Predicted sentiment: \u001b[91mnegative\u001b[0m with a probability of 55.42%\n",
            "======================================================================\n"
          ]
        }
      ],
      "source": [
        "import random\n",
        "\n",
        "# Randomly select 5 index from dataset to predict\n",
        "for _ in range(5):\n",
        "    index = random.randint(0, 550000)\n",
        "    review = df['review'][index]\n",
        "    actual_sentiment = df['sentiment'][index]\n",
        "\n",
        "    print(\"Review:\")\n",
        "    print(review)\n",
        "    print('='*70)\n",
        "    print(f'Actual sentiment: {actual_sentiment}')\n",
        "    print('='*70)\n",
        "    pro = predict_text(review)\n",
        "    predicted_sentiment = \"positive\" if pro > 0.45 else \"negative\"\n",
        "    pro = (1 - pro) if predicted_sentiment == \"negative\" else pro\n",
        "\n",
        "    # Color-coding output based on prediction matching actual sentiment\n",
        "    if actual_sentiment == predicted_sentiment:\n",
        "        color = '\\033[92m'  # Green color for matching sentiment\n",
        "    else:\n",
        "        color = '\\033[91m'  # Red color for mismatching sentiment\n",
        "\n",
        "    print(f'Predicted sentiment: {color}{predicted_sentiment}\\033[0m with a probability of {pro * 100:.2f}%')\n",
        "    print('='*70)"
      ]
    },
    {
      "cell_type": "code",
      "execution_count": 112,
      "metadata": {
        "id": "oKPYtFXnY7JR"
      },
      "outputs": [],
      "source": [
        "def predict_custom_text(custom_text):\n",
        "  pro = predict_text(custom_text)\n",
        "  status = \"positive\" if pro > 0.45 else \"negative\"\n",
        "  pro = (1 - pro) if status == \"negative\" else pro\n",
        "  print(f'Predicted: {status} \\nProbability {pro*100 :.2f}%')"
      ]
    },
    {
      "cell_type": "code",
      "execution_count": 115,
      "metadata": {
        "colab": {
          "base_uri": "https://localhost:8080/"
        },
        "id": "wPhqzNtbZSGc",
        "outputId": "e2229874-4e04-452f-9e9d-a8fcdbc9dc5d"
      },
      "outputs": [
        {
          "name": "stdout",
          "output_type": "stream",
          "text": [
            "Predicted: negative \n",
            "Probability 55.82%\n"
          ]
        }
      ],
      "source": [
        "# Custom Negative Text\n",
        "custom_text = \"I can't even begin to express my sheer frustration and utter disappointment with this product! It's an absolute disaster from start to finish. \"\n",
        "predict_custom_text(custom_text)"
      ]
    },
    {
      "cell_type": "code",
      "execution_count": 116,
      "metadata": {
        "colab": {
          "base_uri": "https://localhost:8080/"
        },
        "id": "AMiIvFV7uJVB",
        "outputId": "7bfa8113-5955-4809-d51c-f0df2e22bf74"
      },
      "outputs": [
        {
          "name": "stdout",
          "output_type": "stream",
          "text": [
            "Predicted: positive \n",
            "Probability 47.16%\n"
          ]
        }
      ],
      "source": [
        "# Custom Positive Text\n",
        "custom_text = \"I recently watched a movie that completely exceeded my expectations. From the captivating storyline to the stellar performances of the cast, every aspect of the film was a delight. The characters were well-developed and relatable, each with their own unique charm that drew me into their world. The dialogue was witty and engaging, keeping me entertained from start to finish. Additionally, the stunning visuals and masterful cinematography added depth and richness to the viewing experience. Overall, it was a cinematic masterpiece that left me feeling uplifted and inspired. I highly recommend this movie to anyone looking for a heartwarming and enjoyable film.\"\n",
        "predict_custom_text(custom_text)"
      ]
    },
    {
      "cell_type": "code",
      "execution_count": 127,
      "metadata": {
        "colab": {
          "base_uri": "https://localhost:8080/"
        },
        "id": "lor3vocUX10r",
        "outputId": "63a8c97a-ff1e-42ca-ae9b-e7163647c384"
      },
      "outputs": [
        {
          "name": "stdout",
          "output_type": "stream",
          "text": [
            "\n",
            "Context: One of the other reviewers has mentioned that after watching just 1 Oz episode you'll be hooked. They are right, as this is exactly what happened with me.<br /><br />The first thing that struck me about Oz was its brutality and unflinching scenes of violence, which set in right from the word GO. Trust me, this is not a show for the faint hearted or timid. This show pulls no punches with regards to drugs, sex or violence. Its is hardcore, in the classic use of the word.<br /><br />It is called OZ as that is the nickname given to the Oswald Maximum Security State Penitentary. It focuses mainly on Emerald City, an experimental section of the prison where all the cells have glass fronts and face inwards, so privacy is not high on the agenda. Em City is home to many..Aryans, Muslims, gangstas, Latinos, Christians, Italians, Irish and more....so scuffles, death stares, dodgy dealings and shady agreements are never far away.<br /><br />I would say the main appeal of the show is due to the fact that it goes where other shows wouldn't dare. Forget pretty pictures painted for mainstream audiences, forget charm, forget romance...OZ doesn't mess around. The first episode I ever saw struck me as so nasty it was surreal, I couldn't say I was ready for it, but as I watched more, I developed a taste for Oz, and got accustomed to the high levels of graphic violence. Not just violence, but injustice (crooked guards who'll be sold out for a nickel, inmates who'll kill on order and get away with it, well mannered, middle class inmates being turned into prison bitches due to their lack of street skills or prison experience) Watching Oz, you may become comfortable with what is uncomfortable viewing....thats if you can get in touch with your darker side.\n",
            "Actual: positive\n",
            "Predicted: positive \n",
            "Probability 48.93%\n",
            "\n",
            "Context: A wonderful little production. <br /><br />The filming technique is very unassuming- very old-time-BBC fashion and gives a comforting, and sometimes discomforting, sense of realism to the entire piece. <br /><br />The actors are extremely well chosen- Michael Sheen not only \"has got all the polari\" but he has all the voices down pat too! You can truly see the seamless editing guided by the references to Williams' diary entries, not only is it well worth the watching but it is a terrificly written and performed piece. A masterful production about one of the great master's of comedy and his life. <br /><br />The realism really comes home with the little things: the fantasy of the guard which, rather than use the traditional 'dream' techniques remains solid then disappears. It plays on our knowledge and our senses, particularly with the scenes concerning Orton and Halliwell and the sets (particularly of their flat with Halliwell's murals decorating every surface) are terribly well done.\n",
            "Actual: positive\n",
            "Predicted: positive \n",
            "Probability 45.25%\n",
            "\n",
            "Context: I thought this was a wonderful way to spend time on a too hot summer weekend, sitting in the air conditioned theater and watching a light-hearted comedy. The plot is simplistic, but the dialogue is witty and the characters are likable (even the well bread suspected serial killer). While some may be disappointed when they realize this is not Match Point 2: Risk Addiction, I thought it was proof that Woody Allen is still fully in control of the style many of us have grown to love.<br /><br />This was the most I'd laughed at one of Woody's comedies in years (dare I say a decade?). While I've never been impressed with Scarlet Johanson, in this she managed to tone down her \"sexy\" image and jumped right into a average, but spirited young woman.<br /><br />This may not be the crown jewel of his career, but it was wittier than \"Devil Wears Prada\" and more interesting than \"Superman\" a great comedy to go see with friends.\n",
            "Actual: positive\n",
            "Predicted: positive \n",
            "Probability 45.20%\n",
            "\n",
            "Context: Basically there's a family where a little boy (Jake) thinks there's a zombie in his closet & his parents are fighting all the time.<br /><br />This movie is slower than a soap opera... and suddenly, Jake decides to become Rambo and kill the zombie.<br /><br />OK, first of all when you're going to make a film you must Decide if its a thriller or a drama! As a drama the movie is watchable. Parents are divorcing & arguing like in real life. And then we have Jake with his closet which totally ruins all the film! I expected to see a BOOGEYMAN similar movie, and instead i watched a drama with some meaningless thriller spots.<br /><br />3 out of 10 just for the well playing parents & descent dialogs. As for the shots with Jake: just ignore them.\n",
            "Actual: negative\n",
            "Predicted: negative \n",
            "Probability 57.29%\n",
            "\n",
            "Context: Petter Mattei's \"Love in the Time of Money\" is a visually stunning film to watch. Mr. Mattei offers us a vivid portrait about human relations. This is a movie that seems to be telling us what money, power and success do to people in the different situations we encounter. <br /><br />This being a variation on the Arthur Schnitzler's play about the same theme, the director transfers the action to the present time New York where all these different characters meet and connect. Each one is connected in one way, or another to the next person, but no one seems to know the previous point of contact. Stylishly, the film has a sophisticated luxurious look. We are taken to see how these people live and the world they live in their own habitat.<br /><br />The only thing one gets out of all these souls in the picture is the different stages of loneliness each one inhabits. A big city is not exactly the best place in which human relations find sincere fulfillment, as one discerns is the case with most of the people we encounter.<br /><br />The acting is good under Mr. Mattei's direction. Steve Buscemi, Rosario Dawson, Carol Kane, Michael Imperioli, Adrian Grenier, and the rest of the talented cast, make these characters come alive.<br /><br />We wish Mr. Mattei good luck and await anxiously for his next work.\n",
            "Actual: positive\n",
            "Predicted: negative \n",
            "Probability 56.36%\n"
          ]
        }
      ],
      "source": [
        "i = [123, 345, 456, 678, 88888]\n",
        "\n",
        "for i in range(len(i)):\n",
        "  custom_text = df[\"review\"][i]\n",
        "  print(\"\\nContext:\", df[\"review\"][i])\n",
        "  print(\"Actual:\", df[\"sentiment\"][i])\n",
        "  predict_custom_text(custom_text)"
      ]
    }
  ],
  "metadata": {
    "accelerator": "GPU",
    "colab": {
      "gpuType": "T4",
      "include_colab_link": true,
      "provenance": []
    },
    "kernelspec": {
      "display_name": "Python 3",
      "name": "python3"
    },
    "language_info": {
      "name": "python"
    }
  },
  "nbformat": 4,
  "nbformat_minor": 0
}
